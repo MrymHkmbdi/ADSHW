{
  "cells": [
    {
      "cell_type": "markdown",
      "metadata": {
        "id": "rcgiXNQf77No"
      },
      "source": [
        "<font face=\"vazir\" size=\"5\">\n",
        "نصب کتابخانه‌های مورد نیاز"
      ]
    },
    {
      "cell_type": "code",
      "execution_count": 1,
      "metadata": {
        "id": "hngxrg4d8HBg"
      },
      "outputs": [],
      "source": [
        "# Importing necessary libraries\n",
        "import pandas as pd\n",
        "import io\n",
        "import os\n",
        "import numpy as np\n",
        "import copy\n",
        "import pdb\n",
        "import seaborn as sns #visualisation\n",
        "import matplotlib.pyplot as plt #visualisation\n",
        "\n",
        "%matplotlib inline \n",
        "sns.set(color_codes=True)\n",
        "\n",
        "from keras.models import Sequential\n",
        "from keras import callbacks\n",
        "import keras\n",
        "import tensorflow as tf\n",
        "from sklearn.metrics import f1_score\n",
        "from tensorflow.keras import initializers\n",
        "from keras.regularizers import l2,l1,l1_l2\n",
        "from keras.preprocessing.image import ImageDataGenerator #, array_to_img, img_to_array, load_img\n",
        "from keras.layers import Dense, Input, Dropout, Conv2D, AveragePooling2D, MaxPooling2D, Flatten, Reshape, Conv2DTranspose, LeakyReLU"
      ]
    },
    {
      "cell_type": "code",
      "execution_count": null,
      "metadata": {
        "collapsed": true,
        "id": "33SZzOFyqieW"
      },
      "outputs": [],
      "source": [
        "!pip install git+https://github.com/tensorflow/docs\n",
        "!pip install lime\n",
        "!pip install shap\n",
        "!pip install eli5"
      ]
    },
    {
      "cell_type": "markdown",
      "metadata": {
        "id": "zr4ygRnOHK4q"
      },
      "source": [
        "<font face=\"vazir\" size=\"5\">\n",
        "مصورسازی دیتا"
      ]
    },
    {
      "cell_type": "code",
      "execution_count": 3,
      "metadata": {
        "colab": {
          "base_uri": "https://localhost:8080/"
        },
        "id": "v_B_1p1P3Q62",
        "outputId": "fc5dd6f0-3546-4a7f-df2f-862a856ff6c9"
      },
      "outputs": [
        {
          "output_type": "stream",
          "name": "stdout",
          "text": [
            "Downloading data from https://storage.googleapis.com/tensorflow/tf-keras-datasets/train-labels-idx1-ubyte.gz\n",
            "29515/29515 [==============================] - 0s 0us/step\n",
            "Downloading data from https://storage.googleapis.com/tensorflow/tf-keras-datasets/train-images-idx3-ubyte.gz\n",
            "26421880/26421880 [==============================] - 0s 0us/step\n",
            "Downloading data from https://storage.googleapis.com/tensorflow/tf-keras-datasets/t10k-labels-idx1-ubyte.gz\n",
            "5148/5148 [==============================] - 0s 0us/step\n",
            "Downloading data from https://storage.googleapis.com/tensorflow/tf-keras-datasets/t10k-images-idx3-ubyte.gz\n",
            "4422102/4422102 [==============================] - 0s 0us/step\n",
            "(60000, 28, 28)\n",
            "(10000, 28, 28)\n"
          ]
        }
      ],
      "source": [
        "(X_train, y_train), (X_test, y_test) = tf.keras.datasets.fashion_mnist.load_data()\n",
        "print(X_train.shape)\n",
        "print(X_test.shape)"
      ]
    },
    {
      "cell_type": "code",
      "execution_count": 4,
      "metadata": {
        "colab": {
          "base_uri": "https://localhost:8080/",
          "height": 174
        },
        "id": "DlxNfdII0-u8",
        "outputId": "ddff87e2-b00e-431f-95a3-1eb564e9e733"
      },
      "outputs": [
        {
          "output_type": "display_data",
          "data": {
            "text/plain": [
              "<Figure size 1296x216 with 6 Axes>"
            ],
            "image/png": "[encoded data removed]"
          },
          "metadata": {}
        }
      ],
      "source": [
        "fig, ax = plt.subplots(nrows=1, ncols=6, figsize=(18,3))\n",
        "for i in range(0,6):\n",
        "  # convert to unsigned integers\n",
        "  image = X_train[i,:,:]\n",
        " \n",
        "  # plot image\n",
        "  ax[i].imshow(image)\n",
        "  ax[i].axis('off')"
      ]
    },
    {
      "cell_type": "markdown",
      "metadata": {
        "id": "UEhKpkwebIs3"
      },
      "source": [
        "<font face=\"vazir\" size=\"5\">\n",
        "تمیزکاری، نرمال‌سازی و آماده‌سازی دیتاست"
      ]
    },
    {
      "cell_type": "code",
      "execution_count": 5,
      "metadata": {
        "id": "sOQSPhQhtfTB"
      },
      "outputs": [],
      "source": [
        "X_train = X_train/255.\n",
        "X_test = X_test/255."
      ]
    },
    {
      "cell_type": "code",
      "execution_count": 6,
      "metadata": {
        "id": "Xp0buAw3ZtPC"
      },
      "outputs": [],
      "source": [
        "# First, let's separate the target column, price\n",
        "from sklearn.preprocessing import OneHotEncoder,LabelBinarizer\n",
        "enc = LabelBinarizer()\n",
        "enc.fit(y_train)\n",
        "\n",
        "y_train_enc = enc.transform(y_train)"
      ]
    },
    {
      "cell_type": "code",
      "execution_count": 7,
      "metadata": {
        "id": "Wh_Mrhwdqf5O"
      },
      "outputs": [],
      "source": [
        "y_test_enc = enc.transform(y_test)"
      ]
    },
    {
      "cell_type": "code",
      "execution_count": 8,
      "metadata": {
        "id": "9uZZ-T-KLwPF"
      },
      "outputs": [],
      "source": [
        "#Early stopping\n",
        "early_stopping = callbacks.EarlyStopping(\n",
        "    min_delta=0.001,          # minimium amount of change to be considered an improvement\n",
        "    patience=5,              # number of epochs to wait before deciding there is no significant improvement in training\n",
        "    restore_best_weights=True,\n",
        ")"
      ]
    },
    {
      "cell_type": "code",
      "execution_count": 9,
      "metadata": {
        "id": "QfRrAVHCF6Ir"
      },
      "outputs": [],
      "source": [
        "no_epochs = 30\n",
        "batch_size = 128"
      ]
    },
    {
      "cell_type": "code",
      "execution_count": 10,
      "metadata": {
        "id": "5YD_-Af10FVD"
      },
      "outputs": [],
      "source": [
        "#@title\n",
        "def plot_history(history,plot_type: str='loss'):\n",
        "  hist_df = pd.DataFrame(history.history)\n",
        "  plt.figure(figsize=(20,8))\n",
        "  colors = []\n",
        "  columns_to_plot = []\n",
        "  labels = []\n",
        "  for col_name in hist_df.columns:\n",
        "\n",
        "    # Define colors    \n",
        "    if 'val' in col_name:\n",
        "      validation = True\n",
        "      color_base = 'r'\n",
        "      label_base = 'Validation'\n",
        "    else:\n",
        "      validation = False\n",
        "      color_base = 'b'\n",
        "      label_base = 'Training'\n",
        "    \n",
        "    if plot_type == 'loss':\n",
        "      if 'loss' in col_name:\n",
        "        labels.append(label_base)\n",
        "        columns_to_plot.append(col_name)\n",
        "        colors.append(color_base)\n",
        "    else:\n",
        "      if 'loss' in col_name:\n",
        "        continue\n",
        "      if 'recall' in col_name:\n",
        "        color = color_base + '--'\n",
        "        label = label_base + 'Recall'\n",
        "      else:\n",
        "        color = color_base\n",
        "        label = label_base + 'Precision'\n",
        "      \n",
        "      labels.append(label)\n",
        "      columns_to_plot.append(col_name)\n",
        "      colors.append(color)\n",
        "\n",
        "    \n",
        "\n",
        "  for itr in range(0,len(columns_to_plot)):\n",
        "    plt.plot(hist_df.loc[:, [columns_to_plot[itr]]], colors[itr], label=labels[itr],lw=4)\n",
        "  \n",
        "  plt.ylabel(plot_type)\n",
        "  plt.xlabel('Epochs')\n",
        "  plt.legend(loc=\"best\")\n",
        "\n",
        "  plt.show()"
      ]
    },
    {
      "cell_type": "markdown",
      "metadata": {
        "id": "AGBZADgat-oy"
      },
      "source": [
        "### Dense Autoencoders"
      ]
    },
    {
      "cell_type": "code",
      "execution_count": 11,
      "metadata": {
        "id": "z1M6oODymx-k"
      },
      "outputs": [],
      "source": [
        "latent_space_dim = 30"
      ]
    },
    {
      "cell_type": "code",
      "execution_count": 12,
      "metadata": {
        "id": "vqBDVk6Wt-J8"
      },
      "outputs": [],
      "source": [
        "# The encoder part\n",
        "encoder = Sequential()\n",
        "encoder.add(Input(shape=X_train.shape[1:]))\n",
        "encoder.add(Flatten())\n",
        "encoder.add(Dense(100, activation=\"relu\"))\n",
        "encoder.add(Dense(latent_space_dim, activation=\"relu\"))"
      ]
    },
    {
      "cell_type": "code",
      "execution_count": 13,
      "metadata": {
        "id": "wjXKWwIIuln2"
      },
      "outputs": [],
      "source": [
        "# The decoder part\n",
        "decoder = encoder\n",
        "decoder.add(Dense(100, activation=\"relu\"))\n",
        "decoder.add(Dense(X_train.shape[1] * X_train.shape[2] , activation=\"sigmoid\"))\n",
        "decoder.add(Reshape(X_train.shape[1:]))"
      ]
    },
    {
      "cell_type": "code",
      "execution_count": 14,
      "metadata": {
        "id": "x4KMmvg6vegb"
      },
      "outputs": [],
      "source": [
        "model = decoder"
      ]
    },
    {
      "cell_type": "code",
      "execution_count": 15,
      "metadata": {
        "id": "XcP1QdKUvyBu"
      },
      "outputs": [],
      "source": [
        "from tensorflow.keras.losses import MeanSquaredError\n",
        "model.compile(optimizer=tf.keras.optimizers.Adam(learning_rate=0.001,beta_1=0.95),\n",
        "              loss=MeanSquaredError(),\n",
        "             )"
      ]
    },
    {
      "cell_type": "code",
      "execution_count": 16,
      "metadata": {
        "colab": {
          "base_uri": "https://localhost:8080/"
        },
        "id": "tp-xLVnZwEsB",
        "outputId": "ff41d504-63c8-4d24-df46-1b2aa29d5343"
      },
      "outputs": [
        {
          "output_type": "stream",
          "name": "stdout",
          "text": [
            "Model: \"sequential\"\n",
            "_________________________________________________________________\n",
            " Layer (type)                Output Shape              Param #   \n",
            "=================================================================\n",
            " flatten (Flatten)           (None, 784)               0         \n",
            "                                                                 \n",
            " dense (Dense)               (None, 100)               78500     \n",
            "                                                                 \n",
            " dense_1 (Dense)             (None, 30)                3030      \n",
            "                                                                 \n",
            " dense_2 (Dense)             (None, 100)               3100      \n",
            "                                                                 \n",
            " dense_3 (Dense)             (None, 784)               79184     \n",
            "                                                                 \n",
            " reshape (Reshape)           (None, 28, 28)            0         \n",
            "                                                                 \n",
            "=================================================================\n",
            "Total params: 163,814\n",
            "Trainable params: 163,814\n",
            "Non-trainable params: 0\n",
            "_________________________________________________________________\n"
          ]
        }
      ],
      "source": [
        "model.summary()"
      ]
    },
    {
      "cell_type": "code",
      "execution_count": 17,
      "metadata": {
        "colab": {
          "base_uri": "https://localhost:8080/"
        },
        "id": "U-SPxdevwa9H",
        "outputId": "b5c041e0-dcc0-454f-ab7d-73b8e1f2a667"
      },
      "outputs": [
        {
          "output_type": "stream",
          "name": "stdout",
          "text": [
            "Epoch 1/30\n",
            "469/469 [==============================] - 8s 14ms/step - loss: 0.0378 - val_loss: 0.0206\n",
            "Epoch 2/30\n",
            "469/469 [==============================] - 6s 13ms/step - loss: 0.0186 - val_loss: 0.0171\n",
            "Epoch 3/30\n",
            "469/469 [==============================] - 7s 15ms/step - loss: 0.0162 - val_loss: 0.0155\n",
            "Epoch 4/30\n",
            "469/469 [==============================] - 6s 14ms/step - loss: 0.0150 - val_loss: 0.0146\n",
            "Epoch 5/30\n",
            "469/469 [==============================] - 4s 8ms/step - loss: 0.0142 - val_loss: 0.0140\n",
            "Epoch 6/30\n",
            "469/469 [==============================] - 4s 8ms/step - loss: 0.0135 - val_loss: 0.0134\n",
            "Epoch 7/30\n",
            "469/469 [==============================] - 5s 11ms/step - loss: 0.0131 - val_loss: 0.0130\n",
            "Epoch 8/30\n",
            "469/469 [==============================] - 6s 14ms/step - loss: 0.0128 - val_loss: 0.0127\n",
            "Epoch 9/30\n",
            "469/469 [==============================] - 7s 14ms/step - loss: 0.0125 - val_loss: 0.0125\n",
            "Epoch 10/30\n",
            "469/469 [==============================] - 7s 14ms/step - loss: 0.0123 - val_loss: 0.0124\n",
            "Epoch 11/30\n",
            "469/469 [==============================] - 6s 12ms/step - loss: 0.0121 - val_loss: 0.0121\n",
            "Epoch 12/30\n",
            "469/469 [==============================] - 4s 8ms/step - loss: 0.0120 - val_loss: 0.0120\n",
            "Epoch 13/30\n",
            "469/469 [==============================] - 4s 8ms/step - loss: 0.0118 - val_loss: 0.0119\n"
          ]
        }
      ],
      "source": [
        "history = model.fit(\n",
        "      x=X_train,\n",
        "      y=X_train,\n",
        "      validation_data=(X_test,X_test), \n",
        "      callbacks=[early_stopping],\n",
        "      verbose=1,\n",
        "      epochs=no_epochs,\n",
        "      batch_size=batch_size,\n",
        ")"
      ]
    },
    {
      "cell_type": "code",
      "execution_count": 18,
      "metadata": {
        "colab": {
          "base_uri": "https://localhost:8080/",
          "height": 498
        },
        "id": "GUe53r2T0MVC",
        "outputId": "cad3ad06-79d2-4fbf-f063-941ad0b64fb4"
      },
      "outputs": [
        {
          "output_type": "display_data",
          "data": {
            "text/plain": [
              "<Figure size 1440x576 with 1 Axes>"
            ],
            "image/png": "[encoded data removed]"
          },
          "metadata": {}
        }
      ],
      "source": [
        "plot_history(history,plot_type='loss')"
      ]
    },
    {
      "cell_type": "code",
      "execution_count": 19,
      "metadata": {
        "id": "DlVXvjAyxPrK"
      },
      "outputs": [],
      "source": [
        "def plot_sample_output(model,input_dataset=X_test):\n",
        "  fig, ax = plt.subplots(nrows=2, ncols=8, figsize=(24,6))\n",
        "  for i in range(0,8):\n",
        "    # convert to unsigned integers\n",
        "    image = input_dataset[i,:,:]\n",
        "    pred = model.predict(np.expand_dims(image, axis=0))\n",
        "\n",
        "    # plot image\n",
        "    ax[0,i].imshow(image)\n",
        "    ax[0,i].axis('off')\n",
        "\n",
        "    ax[1,i].imshow(pred.reshape(input_dataset.shape[1:]))\n",
        "    ax[1,i].axis('off')"
      ]
    },
    {
      "cell_type": "code",
      "execution_count": 20,
      "metadata": {
        "colab": {
          "base_uri": "https://localhost:8080/",
          "height": 446
        },
        "id": "O4_9DTCE6KHp",
        "outputId": "465df4e0-174e-4f78-9019-6213541a2bd8"
      },
      "outputs": [
        {
          "output_type": "stream",
          "name": "stdout",
          "text": [
            "1/1 [==============================] - 0s 108ms/step\n",
            "1/1 [==============================] - 0s 19ms/step\n",
            "1/1 [==============================] - 0s 17ms/step\n",
            "1/1 [==============================] - 0s 16ms/step\n",
            "1/1 [==============================] - 0s 15ms/step\n",
            "1/1 [==============================] - 0s 16ms/step\n",
            "1/1 [==============================] - 0s 20ms/step\n",
            "1/1 [==============================] - 0s 16ms/step\n"
          ]
        },
        {
          "output_type": "display_data",
          "data": {
            "text/plain": [
              "<Figure size 1728x432 with 16 Axes>"
            ],
            "image/png": "[encoded data removed]"
          },
          "metadata": {}
        }
      ],
      "source": [
        "plot_sample_output(model)"
      ]
    },
    {
      "cell_type": "markdown",
      "metadata": {
        "id": "x-dtHkf80u6i"
      },
      "source": [
        "### Convoltuional AutoEncoder"
      ]
    },
    {
      "cell_type": "code",
      "execution_count": 21,
      "metadata": {
        "id": "2mM11Ggh0xnY"
      },
      "outputs": [],
      "source": [
        "# The encoder part\n",
        "encoder = Sequential()\n",
        "encoder.add(Conv2D(16, kernel_size=(3, 3), padding=\"same\", activation=\"relu\",input_shape=(28,28,1)))\n",
        "encoder.add(MaxPooling2D(pool_size=2, padding=\"same\"))\n",
        "encoder.add(Conv2D(32, kernel_size=(3, 3), padding=\"same\", activation=\"relu\"))\n",
        "encoder.add(MaxPooling2D(pool_size=2, padding=\"same\"))"
      ]
    },
    {
      "cell_type": "code",
      "execution_count": 22,
      "metadata": {
        "colab": {
          "base_uri": "https://localhost:8080/"
        },
        "id": "3jOMruPN3k3S",
        "outputId": "65588751-223e-4d0e-befc-657580611149"
      },
      "outputs": [
        {
          "output_type": "stream",
          "name": "stdout",
          "text": [
            "Model: \"sequential_1\"\n",
            "_________________________________________________________________\n",
            " Layer (type)                Output Shape              Param #   \n",
            "=================================================================\n",
            " conv2d (Conv2D)             (None, 28, 28, 16)        160       \n",
            "                                                                 \n",
            " max_pooling2d (MaxPooling2D  (None, 14, 14, 16)       0         \n",
            " )                                                               \n",
            "                                                                 \n",
            " conv2d_1 (Conv2D)           (None, 14, 14, 32)        4640      \n",
            "                                                                 \n",
            " max_pooling2d_1 (MaxPooling  (None, 7, 7, 32)         0         \n",
            " 2D)                                                             \n",
            "                                                                 \n",
            "=================================================================\n",
            "Total params: 4,800\n",
            "Trainable params: 4,800\n",
            "Non-trainable params: 0\n",
            "_________________________________________________________________\n"
          ]
        }
      ],
      "source": [
        "encoder.build()\n",
        "encoder.summary()"
      ]
    },
    {
      "cell_type": "code",
      "execution_count": 23,
      "metadata": {
        "id": "VNB3A1gr1Rx7"
      },
      "outputs": [],
      "source": [
        "decoder = encoder\n",
        "decoder.add(Conv2DTranspose(32, kernel_size=(3, 3), strides=2, padding=\"same\",activation=\"relu\"))\n",
        "decoder.add(Conv2DTranspose(1, kernel_size=(3, 3), strides=2, padding=\"same\",activation=\"sigmoid\"))\n",
        "#decoder.add(Conv2DTranspose(1, kernel_size=(3, 3), strides=2, padding=\"same\",activation=\"sigmoid\"))\n",
        "decoder.add(Reshape([28, 28]))"
      ]
    },
    {
      "cell_type": "code",
      "execution_count": 24,
      "metadata": {
        "id": "Sko99idQ1_K_"
      },
      "outputs": [],
      "source": [
        "model = decoder\n",
        "model.compile(optimizer=tf.keras.optimizers.Adam(learning_rate=0.001,beta_1=0.95),\n",
        "              loss='binary_crossentropy', #MeanSquaredError()\n",
        "             )"
      ]
    },
    {
      "cell_type": "code",
      "execution_count": 25,
      "metadata": {
        "colab": {
          "base_uri": "https://localhost:8080/"
        },
        "id": "pGwA3-Zf23FL",
        "outputId": "c92bbc42-26ee-4c5f-f66a-cac053965453"
      },
      "outputs": [
        {
          "output_type": "stream",
          "name": "stdout",
          "text": [
            "Model: \"sequential_1\"\n",
            "_________________________________________________________________\n",
            " Layer (type)                Output Shape              Param #   \n",
            "=================================================================\n",
            " conv2d (Conv2D)             (None, 28, 28, 16)        160       \n",
            "                                                                 \n",
            " max_pooling2d (MaxPooling2D  (None, 14, 14, 16)       0         \n",
            " )                                                               \n",
            "                                                                 \n",
            " conv2d_1 (Conv2D)           (None, 14, 14, 32)        4640      \n",
            "                                                                 \n",
            " max_pooling2d_1 (MaxPooling  (None, 7, 7, 32)         0         \n",
            " 2D)                                                             \n",
            "                                                                 \n",
            " conv2d_transpose (Conv2DTra  (None, 14, 14, 32)       9248      \n",
            " nspose)                                                         \n",
            "                                                                 \n",
            " conv2d_transpose_1 (Conv2DT  (None, 28, 28, 1)        289       \n",
            " ranspose)                                                       \n",
            "                                                                 \n",
            " reshape_1 (Reshape)         (None, 28, 28)            0         \n",
            "                                                                 \n",
            "=================================================================\n",
            "Total params: 14,337\n",
            "Trainable params: 14,337\n",
            "Non-trainable params: 0\n",
            "_________________________________________________________________\n"
          ]
        }
      ],
      "source": [
        "model.summary()"
      ]
    },
    {
      "cell_type": "code",
      "execution_count": 26,
      "metadata": {
        "colab": {
          "base_uri": "https://localhost:8080/"
        },
        "id": "wq_3sgf36BuF",
        "outputId": "8e5bb3db-0371-4690-b8fd-88033449678e"
      },
      "outputs": [
        {
          "output_type": "stream",
          "name": "stdout",
          "text": [
            "Epoch 1/30\n",
            "469/469 [==============================] - 48s 100ms/step - loss: 0.3309 - val_loss: 0.2782\n",
            "Epoch 2/30\n",
            "469/469 [==============================] - 46s 99ms/step - loss: 0.2713 - val_loss: 0.2699\n",
            "Epoch 3/30\n",
            "469/469 [==============================] - 46s 99ms/step - loss: 0.2653 - val_loss: 0.2654\n",
            "Epoch 4/30\n",
            "469/469 [==============================] - 46s 99ms/step - loss: 0.2619 - val_loss: 0.2627\n",
            "Epoch 5/30\n",
            "469/469 [==============================] - 49s 105ms/step - loss: 0.2596 - val_loss: 0.2610\n",
            "Epoch 6/30\n",
            "469/469 [==============================] - 48s 103ms/step - loss: 0.2581 - val_loss: 0.2597\n",
            "Epoch 7/30\n",
            "469/469 [==============================] - 47s 99ms/step - loss: 0.2571 - val_loss: 0.2588\n",
            "Epoch 8/30\n",
            "469/469 [==============================] - 46s 99ms/step - loss: 0.2563 - val_loss: 0.2580\n",
            "Epoch 9/30\n",
            "469/469 [==============================] - 47s 99ms/step - loss: 0.2556 - val_loss: 0.2574\n",
            "Epoch 10/30\n",
            "469/469 [==============================] - 47s 100ms/step - loss: 0.2550 - val_loss: 0.2568\n",
            "Epoch 11/30\n",
            "469/469 [==============================] - 47s 100ms/step - loss: 0.2545 - val_loss: 0.2564\n",
            "Epoch 12/30\n",
            "469/469 [==============================] - 51s 108ms/step - loss: 0.2541 - val_loss: 0.2560\n",
            "Epoch 13/30\n",
            "469/469 [==============================] - 47s 99ms/step - loss: 0.2538 - val_loss: 0.2556\n",
            "Epoch 14/30\n",
            "469/469 [==============================] - 47s 100ms/step - loss: 0.2535 - val_loss: 0.2554\n",
            "Epoch 15/30\n",
            "469/469 [==============================] - 47s 100ms/step - loss: 0.2532 - val_loss: 0.2551\n",
            "Epoch 16/30\n",
            "469/469 [==============================] - 47s 100ms/step - loss: 0.2530 - val_loss: 0.2549\n",
            "Epoch 17/30\n",
            "469/469 [==============================] - 47s 100ms/step - loss: 0.2528 - val_loss: 0.2547\n",
            "Epoch 18/30\n",
            "469/469 [==============================] - 47s 101ms/step - loss: 0.2526 - val_loss: 0.2545\n",
            "Epoch 19/30\n",
            "469/469 [==============================] - 47s 100ms/step - loss: 0.2524 - val_loss: 0.2544\n",
            "Epoch 20/30\n",
            "469/469 [==============================] - 50s 106ms/step - loss: 0.2523 - val_loss: 0.2543\n",
            "Epoch 21/30\n",
            "469/469 [==============================] - 47s 99ms/step - loss: 0.2522 - val_loss: 0.2542\n",
            "Epoch 22/30\n",
            "469/469 [==============================] - 47s 100ms/step - loss: 0.2521 - val_loss: 0.2540\n",
            "Epoch 23/30\n",
            "469/469 [==============================] - 47s 100ms/step - loss: 0.2520 - val_loss: 0.2540\n"
          ]
        }
      ],
      "source": [
        "history = model.fit(\n",
        "      x=X_train,\n",
        "      y=X_train,\n",
        "      validation_data=(X_test,X_test), \n",
        "      callbacks=[early_stopping],\n",
        "      verbose=1,\n",
        "      epochs=no_epochs,\n",
        "      batch_size=batch_size,\n",
        ")"
      ]
    },
    {
      "cell_type": "code",
      "execution_count": 27,
      "metadata": {
        "colab": {
          "base_uri": "https://localhost:8080/",
          "height": 500
        },
        "id": "e2dKRnsF6OH0",
        "outputId": "2b4802ab-c3fc-44df-b641-82d59b487d0b"
      },
      "outputs": [
        {
          "output_type": "display_data",
          "data": {
            "text/plain": [
              "<Figure size 1440x576 with 1 Axes>"
            ],
            "image/png": "[encoded data removed]"
          },
          "metadata": {}
        }
      ],
      "source": [
        "plot_history(history,plot_type='loss')"
      ]
    },
    {
      "cell_type": "code",
      "execution_count": 28,
      "metadata": {
        "colab": {
          "base_uri": "https://localhost:8080/",
          "height": 446
        },
        "id": "wzQCknU86Lmb",
        "outputId": "2c73dbf0-3ee2-444d-cd5a-6779f1876b34"
      },
      "outputs": [
        {
          "output_type": "stream",
          "name": "stdout",
          "text": [
            "1/1 [==============================] - 0s 127ms/step\n",
            "1/1 [==============================] - 0s 23ms/step\n",
            "1/1 [==============================] - 0s 28ms/step\n",
            "1/1 [==============================] - 0s 25ms/step\n",
            "1/1 [==============================] - 0s 35ms/step\n",
            "1/1 [==============================] - 0s 20ms/step\n",
            "1/1 [==============================] - 0s 21ms/step\n",
            "1/1 [==============================] - 0s 21ms/step\n"
          ]
        },
        {
          "output_type": "display_data",
          "data": {
            "text/plain": [
              "<Figure size 1728x432 with 16 Axes>"
            ],
            "image/png": "[encoded data removed]"
          },
          "metadata": {}
        }
      ],
      "source": [
        "plot_sample_output(model)"
      ]
    },
    {
      "cell_type": "markdown",
      "metadata": {
        "id": "0KfLLBsXPyBN"
      },
      "source": [
        "### Denoising Autoencoders"
      ]
    },
    {
      "cell_type": "code",
      "execution_count": 29,
      "metadata": {
        "id": "8Y5m9gInBJXD"
      },
      "outputs": [],
      "source": [
        "def noise(array):\n",
        "    \"\"\"\n",
        "    Adds random noise to each image in the supplied array.\n",
        "    \"\"\"\n",
        "\n",
        "    noise_factor = 0.2\n",
        "    noisy_array = array + noise_factor * np.random.normal(\n",
        "        loc=0.0, scale=1.0, size=array.shape\n",
        "    )\n",
        "\n",
        "    return np.clip(noisy_array, 0.0, 1.0)"
      ]
    },
    {
      "cell_type": "code",
      "execution_count": 30,
      "metadata": {
        "id": "XLjMNvKtA-ry"
      },
      "outputs": [],
      "source": [
        "# Create a copy of the data with added noise\n",
        "noisy_train_data = noise(X_train)\n",
        "noisy_test_data = noise(X_test)"
      ]
    },
    {
      "cell_type": "code",
      "execution_count": 31,
      "metadata": {
        "colab": {
          "base_uri": "https://localhost:8080/"
        },
        "id": "ujZt1GT-BPGj",
        "outputId": "f297cbfa-0aa7-4312-be19-dc93f336261d"
      },
      "outputs": [
        {
          "output_type": "stream",
          "name": "stdout",
          "text": [
            "Epoch 1/30\n",
            "469/469 [==============================] - 48s 101ms/step - loss: 0.2711 - val_loss: 0.2700\n",
            "Epoch 2/30\n",
            "469/469 [==============================] - 47s 101ms/step - loss: 0.2673 - val_loss: 0.2690\n",
            "Epoch 3/30\n",
            "469/469 [==============================] - 47s 101ms/step - loss: 0.2667 - val_loss: 0.2685\n",
            "Epoch 4/30\n",
            "469/469 [==============================] - 51s 108ms/step - loss: 0.2663 - val_loss: 0.2683\n",
            "Epoch 5/30\n",
            "469/469 [==============================] - 47s 101ms/step - loss: 0.2661 - val_loss: 0.2681\n",
            "Epoch 6/30\n",
            "469/469 [==============================] - 48s 102ms/step - loss: 0.2659 - val_loss: 0.2678\n",
            "Epoch 7/30\n",
            "469/469 [==============================] - 48s 102ms/step - loss: 0.2658 - val_loss: 0.2677\n",
            "Epoch 8/30\n",
            "469/469 [==============================] - 48s 102ms/step - loss: 0.2656 - val_loss: 0.2676\n"
          ]
        }
      ],
      "source": [
        "history = model.fit(\n",
        "      x=noisy_train_data,\n",
        "      y=X_train,\n",
        "      validation_data=(noisy_test_data,X_test), \n",
        "      callbacks=[early_stopping],\n",
        "      verbose=1,\n",
        "      epochs=no_epochs,\n",
        "      batch_size=batch_size,\n",
        ")"
      ]
    },
    {
      "cell_type": "code",
      "execution_count": 32,
      "metadata": {
        "colab": {
          "base_uri": "https://localhost:8080/",
          "height": 498
        },
        "id": "yAj2iUJCFrg4",
        "outputId": "c8a8ba71-c895-4203-ce2d-f6c0092ca50f"
      },
      "outputs": [
        {
          "output_type": "display_data",
          "data": {
            "text/plain": [
              "<Figure size 1440x576 with 1 Axes>"
            ],
            "image/png": "[encoded data removed]"
          },
          "metadata": {}
        }
      ],
      "source": [
        "plot_history(history,plot_type='loss')"
      ]
    },
    {
      "cell_type": "code",
      "execution_count": 33,
      "metadata": {
        "colab": {
          "base_uri": "https://localhost:8080/",
          "height": 446
        },
        "id": "4_h-bs-IBngb",
        "outputId": "f65e37c0-40e6-4054-cb2e-2adb362d805e"
      },
      "outputs": [
        {
          "output_type": "stream",
          "name": "stdout",
          "text": [
            "1/1 [==============================] - 0s 22ms/step\n",
            "1/1 [==============================] - 0s 18ms/step\n",
            "1/1 [==============================] - 0s 17ms/step\n",
            "1/1 [==============================] - 0s 18ms/step\n",
            "1/1 [==============================] - 0s 18ms/step\n",
            "1/1 [==============================] - 0s 28ms/step\n",
            "1/1 [==============================] - 0s 20ms/step\n",
            "1/1 [==============================] - 0s 20ms/step\n"
          ]
        },
        {
          "output_type": "display_data",
          "data": {
            "text/plain": [
              "<Figure size 1728x432 with 16 Axes>"
            ],
            "image/png": "[encoded data removed]"
          },
          "metadata": {}
        }
      ],
      "source": [
        "plot_sample_output(model,input_dataset=noisy_train_data)"
      ]
    },
    {
      "cell_type": "markdown",
      "metadata": {
        "id": "BrpK4LYo_WQD"
      },
      "source": [
        "# Generative Adversarial Networks (GANs)\n"
      ]
    },
    {
      "cell_type": "code",
      "execution_count": 34,
      "metadata": {
        "id": "OMUelF45IK1T"
      },
      "outputs": [],
      "source": [
        "image_size = X_train.shape[1]\n",
        "latent_dim = 50\n",
        "generator_in_channels = latent_dim \n",
        "discriminator_in_channels = 1   # 1 for black and white images, 3 for colored images"
      ]
    },
    {
      "cell_type": "code",
      "execution_count": 35,
      "metadata": {
        "id": "eO1-0x9_Z8MP"
      },
      "outputs": [],
      "source": [
        "generator = Sequential()\n",
        "generator.add(Input(generator_in_channels,)) # We want to generate generator_in_channels coefficients to reshape into a # 8x8xgenerator_in_channels map.\n",
        "generator.add(Dense(7 * 7 * generator_in_channels))#,activation=\"selu\"))\n",
        "generator.add(LeakyReLU(alpha=0.2))\n",
        "generator.add(Reshape((7, 7, generator_in_channels)))\n",
        "generator.add(Conv2DTranspose(latent_dim, (4, 4), strides=(2, 2), padding=\"same\"))#,activation=\"selu\"))\n",
        "generator.add(LeakyReLU(alpha=0.2))\n",
        "generator.add(Conv2DTranspose(latent_dim, (4, 4), strides=(2, 2), padding=\"same\"))#,activation=\"selu\"))\n",
        "generator.add(LeakyReLU(alpha=0.2))\n",
        "generator.add(Conv2D(1, (7, 7), padding=\"same\", activation=\"sigmoid\"))"
      ]
    },
    {
      "cell_type": "code",
      "execution_count": 36,
      "metadata": {
        "colab": {
          "base_uri": "https://localhost:8080/"
        },
        "id": "VhNKhXknJpO9",
        "outputId": "d7179b33-f56c-47b0-b958-35e3d1b0f4a6"
      },
      "outputs": [
        {
          "output_type": "stream",
          "name": "stdout",
          "text": [
            "Model: \"sequential_2\"\n",
            "_________________________________________________________________\n",
            " Layer (type)                Output Shape              Param #   \n",
            "=================================================================\n",
            " dense_4 (Dense)             (None, 2450)              124950    \n",
            "                                                                 \n",
            " leaky_re_lu (LeakyReLU)     (None, 2450)              0         \n",
            "                                                                 \n",
            " reshape_2 (Reshape)         (None, 7, 7, 50)          0         \n",
            "                                                                 \n",
            " conv2d_transpose_2 (Conv2DT  (None, 14, 14, 50)       40050     \n",
            " ranspose)                                                       \n",
            "                                                                 \n",
            " leaky_re_lu_1 (LeakyReLU)   (None, 14, 14, 50)        0         \n",
            "                                                                 \n",
            " conv2d_transpose_3 (Conv2DT  (None, 28, 28, 50)       40050     \n",
            " ranspose)                                                       \n",
            "                                                                 \n",
            " leaky_re_lu_2 (LeakyReLU)   (None, 28, 28, 50)        0         \n",
            "                                                                 \n",
            " conv2d_2 (Conv2D)           (None, 28, 28, 1)         2451      \n",
            "                                                                 \n",
            "=================================================================\n",
            "Total params: 207,501\n",
            "Trainable params: 207,501\n",
            "Non-trainable params: 0\n",
            "_________________________________________________________________\n"
          ]
        }
      ],
      "source": [
        "generator.build()\n",
        "generator.summary()"
      ]
    },
    {
      "cell_type": "code",
      "execution_count": 37,
      "metadata": {
        "id": "_1Cl5c4WJ5Df"
      },
      "outputs": [],
      "source": [
        "discriminator = Sequential()\n",
        "discriminator.add(Input((image_size, image_size, discriminator_in_channels)))\n",
        "discriminator.add(Conv2D(64, (3, 3), strides=(2, 2), padding=\"same\"))#,activation=\"selu\"))\n",
        "discriminator.add(LeakyReLU(alpha=0.2))\n",
        "discriminator.add(Conv2D(128, (3, 3), strides=(2, 2), padding=\"same\"))#,activation=\"selu\"))\n",
        "discriminator.add(LeakyReLU(alpha=0.2))\n",
        "discriminator.add(Dropout(0.3))\n",
        "discriminator.add(Flatten())\n",
        "discriminator.add(Dense(1))"
      ]
    },
    {
      "cell_type": "code",
      "execution_count": 38,
      "metadata": {
        "colab": {
          "base_uri": "https://localhost:8080/"
        },
        "id": "KHLXdHBxKlSt",
        "outputId": "30eb73dc-9a22-41c7-af72-3f832de7c435"
      },
      "outputs": [
        {
          "output_type": "stream",
          "name": "stdout",
          "text": [
            "Model: \"sequential_3\"\n",
            "_________________________________________________________________\n",
            " Layer (type)                Output Shape              Param #   \n",
            "=================================================================\n",
            " conv2d_3 (Conv2D)           (None, 14, 14, 64)        640       \n",
            "                                                                 \n",
            " leaky_re_lu_3 (LeakyReLU)   (None, 14, 14, 64)        0         \n",
            "                                                                 \n",
            " conv2d_4 (Conv2D)           (None, 7, 7, 128)         73856     \n",
            "                                                                 \n",
            " leaky_re_lu_4 (LeakyReLU)   (None, 7, 7, 128)         0         \n",
            "                                                                 \n",
            " dropout (Dropout)           (None, 7, 7, 128)         0         \n",
            "                                                                 \n",
            " flatten_1 (Flatten)         (None, 6272)              0         \n",
            "                                                                 \n",
            " dense_5 (Dense)             (None, 1)                 6273      \n",
            "                                                                 \n",
            "=================================================================\n",
            "Total params: 80,769\n",
            "Trainable params: 80,769\n",
            "Non-trainable params: 0\n",
            "_________________________________________________________________\n"
          ]
        }
      ],
      "source": [
        "discriminator.build()\n",
        "discriminator.summary()"
      ]
    },
    {
      "cell_type": "code",
      "execution_count": 39,
      "metadata": {
        "colab": {
          "base_uri": "https://localhost:8080/",
          "height": 285
        },
        "id": "Lw3F688ILU6X",
        "outputId": "44f03c0f-1c9d-4532-eb83-bca560946db6"
      },
      "outputs": [
        {
          "output_type": "execute_result",
          "data": {
            "text/plain": [
              "<matplotlib.image.AxesImage at 0x7f16b5b7af70>"
            ]
          },
          "metadata": {},
          "execution_count": 39
        },
        {
          "output_type": "display_data",
          "data": {
            "text/plain": [
              "<Figure size 432x288 with 1 Axes>"
            ],
            "image/png": "[encoded data removed]"
          },
          "metadata": {}
        }
      ],
      "source": [
        "noise = tf.random.normal([1, generator_in_channels])\n",
        "generated_image = generator(noise, training=False)\n",
        "\n",
        "plt.imshow(generated_image[0,:,:,0])"
      ]
    },
    {
      "cell_type": "code",
      "execution_count": 40,
      "metadata": {
        "colab": {
          "base_uri": "https://localhost:8080/"
        },
        "id": "dgocOgmcLEbo",
        "outputId": "6a6acde6-1fee-44ad-dfdd-4b5aec3abae7"
      },
      "outputs": [
        {
          "output_type": "stream",
          "name": "stdout",
          "text": [
            "tf.Tensor([[-0.04685985]], shape=(1, 1), dtype=float32)\n"
          ]
        }
      ],
      "source": [
        "decision = discriminator(generated_image)\n",
        "print (decision)"
      ]
    },
    {
      "cell_type": "code",
      "execution_count": 41,
      "metadata": {
        "id": "TqkuqTFjRXY0"
      },
      "outputs": [],
      "source": [
        "# from_logits = True means that the values are not necessarily scaled to be between [0,1]\n",
        "cross_entropy = tf.keras.losses.BinaryCrossentropy(from_logits=True)"
      ]
    },
    {
      "cell_type": "markdown",
      "metadata": {
        "id": "Vzf8Iy0yRZ32"
      },
      "source": [
        "#### Discriminator loss\n"
      ]
    },
    {
      "cell_type": "code",
      "execution_count": 42,
      "metadata": {
        "id": "qqerzlfdRczj"
      },
      "outputs": [],
      "source": [
        "def discriminator_loss(real_output, fake_output):\n",
        "    real_loss = cross_entropy(tf.ones_like(real_output), real_output)\n",
        "    fake_loss = cross_entropy(tf.zeros_like(fake_output), fake_output)\n",
        "    total_loss = real_loss + fake_loss\n",
        "    return total_loss"
      ]
    },
    {
      "cell_type": "markdown",
      "metadata": {
        "id": "svyZfFfyRhMh"
      },
      "source": [
        "#### Generator loss"
      ]
    },
    {
      "cell_type": "code",
      "execution_count": 43,
      "metadata": {
        "id": "WHlnPKPSRmYk"
      },
      "outputs": [],
      "source": [
        "def generator_loss(fake_output):\n",
        "    return cross_entropy(tf.ones_like(fake_output), fake_output)"
      ]
    },
    {
      "cell_type": "markdown",
      "metadata": {
        "id": "kzFTYweSRqPk"
      },
      "source": [
        "#### The optimizers"
      ]
    },
    {
      "cell_type": "code",
      "execution_count": 44,
      "metadata": {
        "id": "Ww4IJUmyRu1H"
      },
      "outputs": [],
      "source": [
        "generator_optimizer = tf.keras.optimizers.Adam(learning_rate=0.001,beta_1=0.95)\n",
        "discriminator_optimizer = tf.keras.optimizers.Adam(learning_rate=0.001,beta_1=0.9)"
      ]
    },
    {
      "cell_type": "markdown",
      "metadata": {
        "id": "hfTxHfDST-Kd"
      },
      "source": [
        "#### Adjust dataset\n",
        "\n"
      ]
    },
    {
      "cell_type": "code",
      "execution_count": 45,
      "metadata": {
        "id": "GceuB2aST_io"
      },
      "outputs": [],
      "source": [
        "# Create tf.data.Dataset.\n",
        "dataset = tf.data.Dataset.from_tensor_slices(X_train).shuffle(512).batch(batch_size)"
      ]
    },
    {
      "cell_type": "code",
      "execution_count": 46,
      "metadata": {
        "id": "nr6B-CT9Up1X"
      },
      "outputs": [],
      "source": [
        "# Notice the use of `tf.function`\n",
        "# This annotation causes the function to be \"compiled\".\n",
        "@tf.function\n",
        "def train_step(images):\n",
        "    noise = tf.random.normal([batch_size, latent_dim])\n",
        "\n",
        "    with tf.GradientTape() as gen_tape, tf.GradientTape() as disc_tape:\n",
        "\n",
        "      # Generate the image\n",
        "      generated_images = generator(noise, training=True)\n",
        "\n",
        "      # Train dsicriminator on real images \n",
        "      real_output = discriminator(images, training=True)\n",
        "      \n",
        "      # Train dsicriminator on fake images \n",
        "      fake_output = discriminator(generated_images, training=True)\n",
        "\n",
        "      # Calculate the loss for generator and discriminator\n",
        "      gen_loss = generator_loss(fake_output)\n",
        "      disc_loss = discriminator_loss(real_output, fake_output)\n",
        "\n",
        "    # Claculate the gradients\n",
        "    gradients_of_generator = gen_tape.gradient(gen_loss, generator.trainable_variables)\n",
        "    gradients_of_discriminator = disc_tape.gradient(disc_loss, discriminator.trainable_variables)\n",
        "\n",
        "    # Update the weights\n",
        "    generator_optimizer.apply_gradients(zip(gradients_of_generator, generator.trainable_variables))\n",
        "    discriminator_optimizer.apply_gradients(zip(gradients_of_discriminator, discriminator.trainable_variables))"
      ]
    },
    {
      "cell_type": "code",
      "execution_count": 47,
      "metadata": {
        "id": "VxEzuKq7UuE6"
      },
      "outputs": [],
      "source": [
        "def generate_and_save_images(model, epoch, test_input):\n",
        "  # Notice `training` is set to False.\n",
        "  # This is so all layers run in inference mode (batchnorm).\n",
        "  predictions = model(test_input, training=False)\n",
        "\n",
        "  fig = plt.figure(figsize=(4, 2))\n",
        "  #pdb.set_trace()\n",
        "  for i in range(predictions.shape[0]):\n",
        "      plt.subplot(2, 4, i+1)\n",
        "      \n",
        "      plt.imshow(predictions[i, :, :, 0] * 255, cmap='gray')\n",
        "      plt.axis('off')\n",
        "\n",
        "  plt.savefig('image_at_epoch_{:04d}.png'.format(epoch))\n",
        "  plt.show()"
      ]
    },
    {
      "cell_type": "code",
      "execution_count": 48,
      "metadata": {
        "id": "W4jiNAZyU22X"
      },
      "outputs": [],
      "source": [
        "import time\n",
        "from IPython import display\n",
        "\n",
        "num_examples_to_generate = 8\n",
        "\n",
        "# The noise vector to feed the network\n",
        "seed = tf.random.normal([num_examples_to_generate, latent_dim])"
      ]
    },
    {
      "cell_type": "code",
      "execution_count": 49,
      "metadata": {
        "id": "RH8HWyel_nbv"
      },
      "outputs": [],
      "source": [
        "epochs = 30"
      ]
    },
    {
      "cell_type": "code",
      "execution_count": 50,
      "metadata": {
        "colab": {
          "base_uri": "https://localhost:8080/",
          "height": 520
        },
        "id": "iHV4nb3PUfKy",
        "outputId": "56590d79-ecb4-46d5-8cd5-303170b5b061"
      },
      "outputs": [
        {
          "output_type": "display_data",
          "data": {
            "text/plain": [
              "<Figure size 288x144 with 8 Axes>"
            ],
            "image/png": "[encoded data removed]"
          },
          "metadata": {}
        },
        {
          "output_type": "stream",
          "name": "stdout",
          "text": [
            "Time for epoch 1 is 792.4510509967804 sec\n"
          ]
        },
        {
          "output_type": "error",
          "ename": "KeyboardInterrupt",
          "evalue": "ignored",
          "traceback": [
            "\u001b[0;31m---------------------------------------------------------------------------\u001b[0m",
            "\u001b[0;31mKeyboardInterrupt\u001b[0m                         Traceback (most recent call last)",
            "\u001b[0;32m<ipython-input-50-ed7b0ee0ead7>\u001b[0m in \u001b[0;36m<module>\u001b[0;34m\u001b[0m\n\u001b[1;32m      4\u001b[0m \u001b[0;34m\u001b[0m\u001b[0m\n\u001b[1;32m      5\u001b[0m     \u001b[0;32mfor\u001b[0m \u001b[0mimage_batch\u001b[0m \u001b[0;32min\u001b[0m \u001b[0mdataset\u001b[0m\u001b[0;34m:\u001b[0m\u001b[0;34m\u001b[0m\u001b[0;34m\u001b[0m\u001b[0m\n\u001b[0;32m----> 6\u001b[0;31m       \u001b[0mtrain_step\u001b[0m\u001b[0;34m(\u001b[0m\u001b[0mimage_batch\u001b[0m\u001b[0;34m)\u001b[0m\u001b[0;34m\u001b[0m\u001b[0;34m\u001b[0m\u001b[0m\n\u001b[0m\u001b[1;32m      7\u001b[0m \u001b[0;34m\u001b[0m\u001b[0m\n\u001b[1;32m      8\u001b[0m     \u001b[0;31m# Produce images for the GIF as you go\u001b[0m\u001b[0;34m\u001b[0m\u001b[0;34m\u001b[0m\u001b[0;34m\u001b[0m\u001b[0m\n",
            "\u001b[0;32m/usr/local/lib/python3.8/dist-packages/tensorflow/python/util/traceback_utils.py\u001b[0m in \u001b[0;36merror_handler\u001b[0;34m(*args, **kwargs)\u001b[0m\n\u001b[1;32m    148\u001b[0m     \u001b[0mfiltered_tb\u001b[0m \u001b[0;34m=\u001b[0m \u001b[0;32mNone\u001b[0m\u001b[0;34m\u001b[0m\u001b[0;34m\u001b[0m\u001b[0m\n\u001b[1;32m    149\u001b[0m     \u001b[0;32mtry\u001b[0m\u001b[0;34m:\u001b[0m\u001b[0;34m\u001b[0m\u001b[0;34m\u001b[0m\u001b[0m\n\u001b[0;32m--> 150\u001b[0;31m       \u001b[0;32mreturn\u001b[0m \u001b[0mfn\u001b[0m\u001b[0;34m(\u001b[0m\u001b[0;34m*\u001b[0m\u001b[0margs\u001b[0m\u001b[0;34m,\u001b[0m \u001b[0;34m**\u001b[0m\u001b[0mkwargs\u001b[0m\u001b[0;34m)\u001b[0m\u001b[0;34m\u001b[0m\u001b[0;34m\u001b[0m\u001b[0m\n\u001b[0m\u001b[1;32m    151\u001b[0m     \u001b[0;32mexcept\u001b[0m \u001b[0mException\u001b[0m \u001b[0;32mas\u001b[0m \u001b[0me\u001b[0m\u001b[0;34m:\u001b[0m\u001b[0;34m\u001b[0m\u001b[0;34m\u001b[0m\u001b[0m\n\u001b[1;32m    152\u001b[0m       \u001b[0mfiltered_tb\u001b[0m \u001b[0;34m=\u001b[0m \u001b[0m_process_traceback_frames\u001b[0m\u001b[0;34m(\u001b[0m\u001b[0me\u001b[0m\u001b[0;34m.\u001b[0m\u001b[0m__traceback__\u001b[0m\u001b[0;34m)\u001b[0m\u001b[0;34m\u001b[0m\u001b[0;34m\u001b[0m\u001b[0m\n",
            "\u001b[0;32m/usr/local/lib/python3.8/dist-packages/tensorflow/python/eager/def_function.py\u001b[0m in \u001b[0;36m__call__\u001b[0;34m(self, *args, **kwds)\u001b[0m\n\u001b[1;32m    913\u001b[0m \u001b[0;34m\u001b[0m\u001b[0m\n\u001b[1;32m    914\u001b[0m       \u001b[0;32mwith\u001b[0m \u001b[0mOptionalXlaContext\u001b[0m\u001b[0;34m(\u001b[0m\u001b[0mself\u001b[0m\u001b[0;34m.\u001b[0m\u001b[0m_jit_compile\u001b[0m\u001b[0;34m)\u001b[0m\u001b[0;34m:\u001b[0m\u001b[0;34m\u001b[0m\u001b[0;34m\u001b[0m\u001b[0m\n\u001b[0;32m--> 915\u001b[0;31m         \u001b[0mresult\u001b[0m \u001b[0;34m=\u001b[0m \u001b[0mself\u001b[0m\u001b[0;34m.\u001b[0m\u001b[0m_call\u001b[0m\u001b[0;34m(\u001b[0m\u001b[0;34m*\u001b[0m\u001b[0margs\u001b[0m\u001b[0;34m,\u001b[0m \u001b[0;34m**\u001b[0m\u001b[0mkwds\u001b[0m\u001b[0;34m)\u001b[0m\u001b[0;34m\u001b[0m\u001b[0;34m\u001b[0m\u001b[0m\n\u001b[0m\u001b[1;32m    916\u001b[0m \u001b[0;34m\u001b[0m\u001b[0m\n\u001b[1;32m    917\u001b[0m       \u001b[0mnew_tracing_count\u001b[0m \u001b[0;34m=\u001b[0m \u001b[0mself\u001b[0m\u001b[0;34m.\u001b[0m\u001b[0mexperimental_get_tracing_count\u001b[0m\u001b[0;34m(\u001b[0m\u001b[0;34m)\u001b[0m\u001b[0;34m\u001b[0m\u001b[0;34m\u001b[0m\u001b[0m\n",
            "\u001b[0;32m/usr/local/lib/python3.8/dist-packages/tensorflow/python/eager/def_function.py\u001b[0m in \u001b[0;36m_call\u001b[0;34m(self, *args, **kwds)\u001b[0m\n\u001b[1;32m    945\u001b[0m       \u001b[0;31m# In this case we have created variables on the first call, so we run the\u001b[0m\u001b[0;34m\u001b[0m\u001b[0;34m\u001b[0m\u001b[0;34m\u001b[0m\u001b[0m\n\u001b[1;32m    946\u001b[0m       \u001b[0;31m# defunned version which is guaranteed to never create variables.\u001b[0m\u001b[0;34m\u001b[0m\u001b[0;34m\u001b[0m\u001b[0;34m\u001b[0m\u001b[0m\n\u001b[0;32m--> 947\u001b[0;31m       \u001b[0;32mreturn\u001b[0m \u001b[0mself\u001b[0m\u001b[0;34m.\u001b[0m\u001b[0m_stateless_fn\u001b[0m\u001b[0;34m(\u001b[0m\u001b[0;34m*\u001b[0m\u001b[0margs\u001b[0m\u001b[0;34m,\u001b[0m \u001b[0;34m**\u001b[0m\u001b[0mkwds\u001b[0m\u001b[0;34m)\u001b[0m  \u001b[0;31m# pylint: disable=not-callable\u001b[0m\u001b[0;34m\u001b[0m\u001b[0;34m\u001b[0m\u001b[0m\n\u001b[0m\u001b[1;32m    948\u001b[0m     \u001b[0;32melif\u001b[0m \u001b[0mself\u001b[0m\u001b[0;34m.\u001b[0m\u001b[0m_stateful_fn\u001b[0m \u001b[0;32mis\u001b[0m \u001b[0;32mnot\u001b[0m \u001b[0;32mNone\u001b[0m\u001b[0;34m:\u001b[0m\u001b[0;34m\u001b[0m\u001b[0;34m\u001b[0m\u001b[0m\n\u001b[1;32m    949\u001b[0m       \u001b[0;31m# Release the lock early so that multiple threads can perform the call\u001b[0m\u001b[0;34m\u001b[0m\u001b[0;34m\u001b[0m\u001b[0;34m\u001b[0m\u001b[0m\n",
            "\u001b[0;32m/usr/local/lib/python3.8/dist-packages/tensorflow/python/eager/function.py\u001b[0m in \u001b[0;36m__call__\u001b[0;34m(self, *args, **kwargs)\u001b[0m\n\u001b[1;32m   2451\u001b[0m       (graph_function,\n\u001b[1;32m   2452\u001b[0m        filtered_flat_args) = self._maybe_define_function(args, kwargs)\n\u001b[0;32m-> 2453\u001b[0;31m     return graph_function._call_flat(\n\u001b[0m\u001b[1;32m   2454\u001b[0m         filtered_flat_args, captured_inputs=graph_function.captured_inputs)  # pylint: disable=protected-access\n\u001b[1;32m   2455\u001b[0m \u001b[0;34m\u001b[0m\u001b[0m\n",
            "\u001b[0;32m/usr/local/lib/python3.8/dist-packages/tensorflow/python/eager/function.py\u001b[0m in \u001b[0;36m_call_flat\u001b[0;34m(self, args, captured_inputs, cancellation_manager)\u001b[0m\n\u001b[1;32m   1858\u001b[0m         and executing_eagerly):\n\u001b[1;32m   1859\u001b[0m       \u001b[0;31m# No tape is watching; skip to running the function.\u001b[0m\u001b[0;34m\u001b[0m\u001b[0;34m\u001b[0m\u001b[0;34m\u001b[0m\u001b[0m\n\u001b[0;32m-> 1860\u001b[0;31m       return self._build_call_outputs(self._inference_function.call(\n\u001b[0m\u001b[1;32m   1861\u001b[0m           ctx, args, cancellation_manager=cancellation_manager))\n\u001b[1;32m   1862\u001b[0m     forward_backward = self._select_forward_and_backward_functions(\n",
            "\u001b[0;32m/usr/local/lib/python3.8/dist-packages/tensorflow/python/eager/function.py\u001b[0m in \u001b[0;36mcall\u001b[0;34m(self, ctx, args, cancellation_manager)\u001b[0m\n\u001b[1;32m    495\u001b[0m       \u001b[0;32mwith\u001b[0m \u001b[0m_InterpolateFunctionError\u001b[0m\u001b[0;34m(\u001b[0m\u001b[0mself\u001b[0m\u001b[0;34m)\u001b[0m\u001b[0;34m:\u001b[0m\u001b[0;34m\u001b[0m\u001b[0;34m\u001b[0m\u001b[0m\n\u001b[1;32m    496\u001b[0m         \u001b[0;32mif\u001b[0m \u001b[0mcancellation_manager\u001b[0m \u001b[0;32mis\u001b[0m \u001b[0;32mNone\u001b[0m\u001b[0;34m:\u001b[0m\u001b[0;34m\u001b[0m\u001b[0;34m\u001b[0m\u001b[0m\n\u001b[0;32m--> 497\u001b[0;31m           outputs = execute.execute(\n\u001b[0m\u001b[1;32m    498\u001b[0m               \u001b[0mstr\u001b[0m\u001b[0;34m(\u001b[0m\u001b[0mself\u001b[0m\u001b[0;34m.\u001b[0m\u001b[0msignature\u001b[0m\u001b[0;34m.\u001b[0m\u001b[0mname\u001b[0m\u001b[0;34m)\u001b[0m\u001b[0;34m,\u001b[0m\u001b[0;34m\u001b[0m\u001b[0;34m\u001b[0m\u001b[0m\n\u001b[1;32m    499\u001b[0m               \u001b[0mnum_outputs\u001b[0m\u001b[0;34m=\u001b[0m\u001b[0mself\u001b[0m\u001b[0;34m.\u001b[0m\u001b[0m_num_outputs\u001b[0m\u001b[0;34m,\u001b[0m\u001b[0;34m\u001b[0m\u001b[0;34m\u001b[0m\u001b[0m\n",
            "\u001b[0;32m/usr/local/lib/python3.8/dist-packages/tensorflow/python/eager/execute.py\u001b[0m in \u001b[0;36mquick_execute\u001b[0;34m(op_name, num_outputs, inputs, attrs, ctx, name)\u001b[0m\n\u001b[1;32m     52\u001b[0m   \u001b[0;32mtry\u001b[0m\u001b[0;34m:\u001b[0m\u001b[0;34m\u001b[0m\u001b[0;34m\u001b[0m\u001b[0m\n\u001b[1;32m     53\u001b[0m     \u001b[0mctx\u001b[0m\u001b[0;34m.\u001b[0m\u001b[0mensure_initialized\u001b[0m\u001b[0;34m(\u001b[0m\u001b[0;34m)\u001b[0m\u001b[0;34m\u001b[0m\u001b[0;34m\u001b[0m\u001b[0m\n\u001b[0;32m---> 54\u001b[0;31m     tensors = pywrap_tfe.TFE_Py_Execute(ctx._handle, device_name, op_name,\n\u001b[0m\u001b[1;32m     55\u001b[0m                                         inputs, attrs, num_outputs)\n\u001b[1;32m     56\u001b[0m   \u001b[0;32mexcept\u001b[0m \u001b[0mcore\u001b[0m\u001b[0;34m.\u001b[0m\u001b[0m_NotOkStatusException\u001b[0m \u001b[0;32mas\u001b[0m \u001b[0me\u001b[0m\u001b[0;34m:\u001b[0m\u001b[0;34m\u001b[0m\u001b[0;34m\u001b[0m\u001b[0m\n",
            "\u001b[0;31mKeyboardInterrupt\u001b[0m: "
          ]
        }
      ],
      "source": [
        "if 1:#def train(dataset, epochs):\n",
        "  for epoch in range(epochs):\n",
        "    start = time.time()\n",
        "\n",
        "    for image_batch in dataset:\n",
        "      train_step(image_batch)\n",
        "\n",
        "    # Produce images for the GIF as you go\n",
        "    display.clear_output(wait=True)\n",
        "    generate_and_save_images(generator,epoch + 1,seed)\n",
        "\n",
        "    # Save the model every 15 epochs\n",
        "    #if (epoch + 1) % 15 == 0:\n",
        "    #  checkpoint.save(file_prefix = checkpoint_prefix)\n",
        "\n",
        "    print ('Time for epoch {} is {} sec'.format(epoch + 1, time.time()-start))\n",
        "\n",
        "  # Generate after the final epoch\n",
        "  display.clear_output(wait=True)\n",
        "  generate_and_save_images(generator,\n",
        "                           epochs,\n",
        "                           seed)"
      ]
    },
    {
      "cell_type": "markdown",
      "metadata": {
        "id": "mJcIJtbOWEZn"
      },
      "source": [
        "#### Animating the Result\n"
      ]
    },
    {
      "cell_type": "code",
      "execution_count": 51,
      "metadata": {
        "id": "JZVgavuFWBKA"
      },
      "outputs": [],
      "source": [
        "anim_file = 'dcgan.gif'\n",
        "import imageio\n",
        "import glob\n",
        "images = []\n",
        "with imageio.get_writer(anim_file, mode='I') as writer:\n",
        "  filenames = glob.glob('image*.png')\n",
        "  filenames = sorted(filenames)\n",
        "  for filename in filenames:\n",
        "    image = imageio.imread(filename)\n",
        "    writer.append_data(image)\n",
        "    images.append(image)\n",
        "  image = imageio.imread(filename)\n",
        "  writer.append_data(image)"
      ]
    },
    {
      "cell_type": "code",
      "execution_count": 52,
      "metadata": {
        "id": "tHszNhdwrr_6"
      },
      "outputs": [],
      "source": [
        "# Adjust the frame rate for better visualization\n",
        "imageio.mimsave(anim_file,images,fps=2)"
      ]
    },
    {
      "cell_type": "code",
      "execution_count": 53,
      "metadata": {
        "colab": {
          "base_uri": "https://localhost:8080/",
          "height": 165
        },
        "id": "SioaqRvxWDye",
        "outputId": "c6774e5f-bd1a-49ea-8025-f0024731d878"
      },
      "outputs": [
        {
          "output_type": "execute_result",
          "data": {
            "text/plain": [
              "<IPython.core.display.HTML object>"
            ],
            "text/html": [
              "<img src=\"data:image/gif;base64,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\"/>"
            ]
          },
          "metadata": {},
          "execution_count": 53
        }
      ],
      "source": [
        "import tensorflow_docs.vis.embed as embed\n",
        "embed.embed_file(anim_file)"
      ]
    },
    {
      "cell_type": "code",
      "execution_count": 54,
      "metadata": {
        "colab": {
          "base_uri": "https://localhost:8080/",
          "height": 17
        },
        "id": "fBlDDW7Hq5pC",
        "outputId": "15e78821-fd65-4a7e-946e-f1319b52e703"
      },
      "outputs": [
        {
          "output_type": "display_data",
          "data": {
            "text/plain": [
              "<IPython.core.display.Javascript object>"
            ],
            "application/javascript": [
              "\n",
              "    async function download(id, filename, size) {\n",
              "      if (!google.colab.kernel.accessAllowed) {\n",
              "        return;\n",
              "      }\n",
              "      const div = document.createElement('div');\n",
              "      const label = document.createElement('label');\n",
              "      label.textContent = `Downloading \"${filename}\": `;\n",
              "      div.appendChild(label);\n",
              "      const progress = document.createElement('progress');\n",
              "      progress.max = size;\n",
              "      div.appendChild(progress);\n",
              "      document.body.appendChild(div);\n",
              "\n",
              "      const buffers = [];\n",
              "      let downloaded = 0;\n",
              "\n",
              "      const channel = await google.colab.kernel.comms.open(id);\n",
              "      // Send a message to notify the kernel that we're ready.\n",
              "      channel.send({})\n",
              "\n",
              "      for await (const message of channel.messages) {\n",
              "        // Send a message to notify the kernel that we're ready.\n",
              "        channel.send({})\n",
              "        if (message.buffers) {\n",
              "          for (const buffer of message.buffers) {\n",
              "            buffers.push(buffer);\n",
              "            downloaded += buffer.byteLength;\n",
              "            progress.value = downloaded;\n",
              "          }\n",
              "        }\n",
              "      }\n",
              "      const blob = new Blob(buffers, {type: 'application/binary'});\n",
              "      const a = document.createElement('a');\n",
              "      a.href = window.URL.createObjectURL(blob);\n",
              "      a.download = filename;\n",
              "      div.appendChild(a);\n",
              "      a.click();\n",
              "      div.remove();\n",
              "    }\n",
              "  "
            ]
          },
          "metadata": {}
        },
        {
          "output_type": "display_data",
          "data": {
            "text/plain": [
              "<IPython.core.display.Javascript object>"
            ],
            "application/javascript": [
              "download(\"download_86423803-f77f-4146-9e28-4dac4f95b68e\", \"dcgan.gif\", 12300)"
            ]
          },
          "metadata": {}
        }
      ],
      "source": [
        "from google.colab import files\n",
        "files.download(anim_file) "
      ]
    },
    {
      "cell_type": "markdown",
      "metadata": {
        "id": "JDzdxpyR_i8V"
      },
      "source": [
        "# Explainable AI"
      ]
    },
    {
      "cell_type": "code",
      "execution_count": 55,
      "metadata": {
        "id": "H22MY39okKos"
      },
      "outputs": [],
      "source": [
        "# The encoder part\n",
        "model = Sequential()\n",
        "model.add(Conv2D(16, kernel_size=(3, 3), padding=\"same\", activation=\"relu\",input_shape=(28,28,1)))\n",
        "model.add(MaxPooling2D(pool_size=2, padding=\"same\"))\n",
        "model.add(Conv2D(32, kernel_size=(3, 3), padding=\"same\", activation=\"relu\"))\n",
        "model.add(MaxPooling2D(pool_size=2, padding=\"same\"))\n",
        "model.add(Flatten())\n",
        "model.add(Dense(10, activation='softmax'))"
      ]
    },
    {
      "cell_type": "code",
      "execution_count": 56,
      "metadata": {
        "colab": {
          "base_uri": "https://localhost:8080/"
        },
        "id": "Xx4ZpuqMkpEg",
        "outputId": "3a9192f8-9d86-4ed8-ad6c-59794da3eac5"
      },
      "outputs": [
        {
          "output_type": "stream",
          "name": "stdout",
          "text": [
            "Model: \"sequential_4\"\n",
            "_________________________________________________________________\n",
            " Layer (type)                Output Shape              Param #   \n",
            "=================================================================\n",
            " conv2d_5 (Conv2D)           (None, 28, 28, 16)        160       \n",
            "                                                                 \n",
            " max_pooling2d_2 (MaxPooling  (None, 14, 14, 16)       0         \n",
            " 2D)                                                             \n",
            "                                                                 \n",
            " conv2d_6 (Conv2D)           (None, 14, 14, 32)        4640      \n",
            "                                                                 \n",
            " max_pooling2d_3 (MaxPooling  (None, 7, 7, 32)         0         \n",
            " 2D)                                                             \n",
            "                                                                 \n",
            " flatten_2 (Flatten)         (None, 1568)              0         \n",
            "                                                                 \n",
            " dense_6 (Dense)             (None, 10)                15690     \n",
            "                                                                 \n",
            "=================================================================\n",
            "Total params: 20,490\n",
            "Trainable params: 20,490\n",
            "Non-trainable params: 0\n",
            "_________________________________________________________________\n"
          ]
        }
      ],
      "source": [
        "model.compile(optimizer=tf.keras.optimizers.Adam(learning_rate=0.0003,beta_1=0.95),\n",
        "              loss='categorical_crossentropy', #MeanSquaredError()\n",
        "              metrics=['accuracy'],\n",
        "             )\n",
        "model.summary()"
      ]
    },
    {
      "cell_type": "code",
      "execution_count": 57,
      "metadata": {
        "colab": {
          "base_uri": "https://localhost:8080/"
        },
        "id": "5-eQCnIZlGTM",
        "outputId": "78165de9-0e14-45f5-f71e-f7b9224a1f25"
      },
      "outputs": [
        {
          "output_type": "stream",
          "name": "stdout",
          "text": [
            "Epoch 1/15\n",
            "3000/3000 [==============================] - 42s 14ms/step - loss: 0.5618 - accuracy: 0.8004 - val_loss: 0.4131 - val_accuracy: 0.8536\n",
            "Epoch 2/15\n",
            "3000/3000 [==============================] - 50s 17ms/step - loss: 0.3846 - accuracy: 0.8628 - val_loss: 0.3671 - val_accuracy: 0.8705\n",
            "Epoch 3/15\n",
            "3000/3000 [==============================] - 42s 14ms/step - loss: 0.3456 - accuracy: 0.8782 - val_loss: 0.3532 - val_accuracy: 0.8727\n",
            "Epoch 4/15\n",
            "3000/3000 [==============================] - 42s 14ms/step - loss: 0.3193 - accuracy: 0.8856 - val_loss: 0.3149 - val_accuracy: 0.8888\n",
            "Epoch 5/15\n",
            "3000/3000 [==============================] - 42s 14ms/step - loss: 0.2987 - accuracy: 0.8932 - val_loss: 0.3082 - val_accuracy: 0.8941\n",
            "Epoch 6/15\n",
            "3000/3000 [==============================] - 42s 14ms/step - loss: 0.2839 - accuracy: 0.8976 - val_loss: 0.2914 - val_accuracy: 0.8967\n",
            "Epoch 7/15\n",
            "3000/3000 [==============================] - 42s 14ms/step - loss: 0.2716 - accuracy: 0.9031 - val_loss: 0.2889 - val_accuracy: 0.8949\n",
            "Epoch 8/15\n",
            "3000/3000 [==============================] - 42s 14ms/step - loss: 0.2614 - accuracy: 0.9048 - val_loss: 0.2795 - val_accuracy: 0.8995\n",
            "Epoch 9/15\n",
            "3000/3000 [==============================] - 41s 14ms/step - loss: 0.2511 - accuracy: 0.9099 - val_loss: 0.2726 - val_accuracy: 0.9016\n",
            "Epoch 10/15\n",
            "3000/3000 [==============================] - 42s 14ms/step - loss: 0.2428 - accuracy: 0.9123 - val_loss: 0.2744 - val_accuracy: 0.9007\n",
            "Epoch 11/15\n",
            "3000/3000 [==============================] - 44s 15ms/step - loss: 0.2354 - accuracy: 0.9151 - val_loss: 0.2616 - val_accuracy: 0.9048\n",
            "Epoch 12/15\n",
            "3000/3000 [==============================] - 44s 15ms/step - loss: 0.2295 - accuracy: 0.9175 - val_loss: 0.2557 - val_accuracy: 0.9098\n",
            "Epoch 13/15\n",
            "3000/3000 [==============================] - 41s 14ms/step - loss: 0.2217 - accuracy: 0.9197 - val_loss: 0.2607 - val_accuracy: 0.9080\n",
            "Epoch 14/15\n",
            "3000/3000 [==============================] - 44s 15ms/step - loss: 0.2176 - accuracy: 0.9227 - val_loss: 0.2706 - val_accuracy: 0.9037\n",
            "Epoch 15/15\n",
            "3000/3000 [==============================] - 41s 14ms/step - loss: 0.2128 - accuracy: 0.9238 - val_loss: 0.2469 - val_accuracy: 0.9120\n"
          ]
        }
      ],
      "source": [
        "history = model.fit(X_train, y_train_enc, \n",
        "                    batch_size = 16, \n",
        "                    epochs = 15, \n",
        "                    validation_split=0.2,\n",
        "                    callbacks=[early_stopping]\n",
        "                    )"
      ]
    },
    {
      "cell_type": "code",
      "execution_count": 58,
      "metadata": {
        "colab": {
          "base_uri": "https://localhost:8080/",
          "height": 500
        },
        "id": "c6bOCDBYlbGI",
        "outputId": "8a4a002f-ae95-4751-9c98-9b9ab0c39b15"
      },
      "outputs": [
        {
          "output_type": "display_data",
          "data": {
            "text/plain": [
              "<Figure size 1440x576 with 1 Axes>"
            ],
            "image/png": "[encoded data removed]"
          },
          "metadata": {}
        }
      ],
      "source": [
        "plot_history(history,plot_type='loss')"
      ]
    },
    {
      "cell_type": "code",
      "execution_count": 59,
      "metadata": {
        "colab": {
          "base_uri": "https://localhost:8080/"
        },
        "id": "_coBWWamlfCF",
        "outputId": "8a848c89-5d6b-42e5-8132-88e74baa112c"
      },
      "outputs": [
        {
          "output_type": "stream",
          "name": "stdout",
          "text": [
            "313/313 [==============================] - 2s 7ms/step\n"
          ]
        }
      ],
      "source": [
        "predictions = model.predict(X_test)"
      ]
    },
    {
      "cell_type": "code",
      "execution_count": 60,
      "metadata": {
        "id": "dfnk-PuolnhA"
      },
      "outputs": [],
      "source": [
        "def convert_predictions(predictions):\n",
        "  output = np.argmax(predictions,axis=1)\n",
        "  return output"
      ]
    },
    {
      "cell_type": "code",
      "execution_count": 61,
      "metadata": {
        "colab": {
          "base_uri": "https://localhost:8080/"
        },
        "id": "12Xoymsklhnf",
        "outputId": "eb066021-b61a-4cc5-8c22-b35c23bd8db9"
      },
      "outputs": [
        {
          "output_type": "stream",
          "name": "stdout",
          "text": [
            "Weighted F1-score is 0.91\n"
          ]
        }
      ],
      "source": [
        "from sklearn.metrics import f1_score\n",
        "print('Weighted F1-score is %.2f' %f1_score(y_test, convert_predictions(predictions), average='weighted'))"
      ]
    },
    {
      "cell_type": "code",
      "execution_count": 62,
      "metadata": {
        "colab": {
          "base_uri": "https://localhost:8080/",
          "height": 689
        },
        "id": "nic-lIHzlvWt",
        "outputId": "2be542f5-ee81-4809-861c-cb4742c881a9"
      },
      "outputs": [
        {
          "output_type": "display_data",
          "data": {
            "text/plain": [
              "<Figure size 864x864 with 2 Axes>"
            ],
            "image/png": "[encoded data removed]"
          },
          "metadata": {}
        }
      ],
      "source": [
        "from sklearn.metrics import ConfusionMatrixDisplay\n",
        "fig, ax = plt.subplots(figsize=(12, 12))\n",
        "ConfusionMatrixDisplay.from_predictions(y_test, convert_predictions(predictions),ax=ax)\n",
        "plt.show()"
      ]
    },
    {
      "cell_type": "markdown",
      "metadata": {
        "id": "uePleFRvOFBK"
      },
      "source": [
        "### Grad-CAM"
      ]
    },
    {
      "cell_type": "code",
      "execution_count": 63,
      "metadata": {
        "id": "Vv5N8mkkom7a"
      },
      "outputs": [],
      "source": [
        "errors_inds = np.nonzero(y_test != convert_predictions(predictions))[0]"
      ]
    },
    {
      "cell_type": "code",
      "execution_count": 64,
      "metadata": {
        "id": "1Lt5DEdXo3Ga"
      },
      "outputs": [],
      "source": [
        "img_ind = errors_inds[5]\n",
        "to_predict_image = X_test[img_ind,:,:]"
      ]
    },
    {
      "cell_type": "code",
      "execution_count": 65,
      "metadata": {
        "colab": {
          "base_uri": "https://localhost:8080/",
          "height": 248
        },
        "id": "S50ZH_uIpOmk",
        "outputId": "2d47f573-fea6-4d6b-9b6f-97703d359bed"
      },
      "outputs": [
        {
          "output_type": "display_data",
          "data": {
            "text/plain": [
              "<Figure size 432x288 with 1 Axes>"
            ],
            "image/png": "[encoded data removed]"
          },
          "metadata": {}
        }
      ],
      "source": [
        "plt.imshow(to_predict_image)\n",
        "plt.axis('off')\n",
        "plt.show()"
      ]
    },
    {
      "cell_type": "code",
      "execution_count": 66,
      "metadata": {
        "colab": {
          "base_uri": "https://localhost:8080/"
        },
        "id": "nbeLQ_kcpY61",
        "outputId": "bafad235-b21d-4581-e5fc-f6728bf00747"
      },
      "outputs": [
        {
          "output_type": "stream",
          "name": "stdout",
          "text": [
            "1/1 [==============================] - 0s 18ms/step\n",
            "Predicted digit is: 0\n"
          ]
        }
      ],
      "source": [
        "to_predict_image = np.expand_dims(to_predict_image, axis=0)\n",
        "preds = model.predict(to_predict_image)\n",
        "print(\"Predicted digit is:\", convert_predictions(preds)[0])"
      ]
    },
    {
      "cell_type": "code",
      "execution_count": 67,
      "metadata": {
        "id": "zrYikqEdxHho"
      },
      "outputs": [],
      "source": [
        "def make_gradcam_heatmap(img_array, model, last_conv_layer_name, pred_index=None):\n",
        "    # First, we create a model that maps the input image to the activations\n",
        "    # of the last conv layer as well as the output predictions\n",
        "    grad_model = tf.keras.models.Model(\n",
        "        [model.inputs], [model.get_layer(last_conv_layer_name).output, model.output]\n",
        "    )\n",
        "\n",
        "    # Then, we compute the gradient of the top predicted class for our input image\n",
        "    # with respect to the activations of the last conv layer\n",
        "    with tf.GradientTape() as tape:\n",
        "        last_conv_layer_output, preds = grad_model(img_array)\n",
        "        if pred_index is None:\n",
        "            pred_index = tf.argmax(preds[0])\n",
        "        class_channel = preds[:, pred_index]\n",
        "\n",
        "    # This is the gradient of the output neuron (top predicted or chosen)\n",
        "    # with regard to the output feature map of the last conv layer\n",
        "    grads = tape.gradient(class_channel, last_conv_layer_output)\n",
        "\n",
        "    # This is a vector where each entry is the mean intensity of the gradient\n",
        "    # over a specific feature map channel\n",
        "    pooled_grads = tf.reduce_mean(grads, axis=(0, 1, 2))\n",
        "\n",
        "    # We multiply each channel in the feature map array\n",
        "    # by \"how important this channel is\" with regard to the top predicted class\n",
        "    # then sum all the channels to obtain the heatmap class activation\n",
        "    last_conv_layer_output = last_conv_layer_output[0]\n",
        "    heatmap = last_conv_layer_output @ pooled_grads[..., tf.newaxis]\n",
        "    heatmap = tf.squeeze(heatmap)\n",
        "\n",
        "    # For visualization purpose, we will also normalize the heatmap between 0 & 1\n",
        "    heatmap = tf.maximum(heatmap, 0) / tf.math.reduce_max(heatmap)\n",
        "    return heatmap.numpy()"
      ]
    },
    {
      "cell_type": "code",
      "execution_count": 68,
      "metadata": {
        "id": "M1mf6GhIxU6y"
      },
      "outputs": [],
      "source": [
        "# Generate class activation heatmap\n",
        "heatmap = make_gradcam_heatmap(to_predict_image, model, 'conv2d_6')"
      ]
    },
    {
      "cell_type": "code",
      "execution_count": 69,
      "metadata": {
        "colab": {
          "base_uri": "https://localhost:8080/",
          "height": 248
        },
        "id": "2tZobpeHpib_",
        "outputId": "0f2f9d2f-d84d-4bd0-ce35-20125fe500d5"
      },
      "outputs": [
        {
          "output_type": "display_data",
          "data": {
            "text/plain": [
              "<Figure size 432x288 with 1 Axes>"
            ],
            "image/png": "[encoded data removed]"
          },
          "metadata": {}
        }
      ],
      "source": [
        "# Display heatmap\n",
        "plt.imshow(heatmap)\n",
        "plt.axis('off')\n",
        "plt.show()"
      ]
    },
    {
      "cell_type": "code",
      "execution_count": 70,
      "metadata": {
        "colab": {
          "base_uri": "https://localhost:8080/"
        },
        "id": "M15B5-zFzdWq",
        "outputId": "cf44d62c-5f37-44e6-8072-16612be45ffe"
      },
      "outputs": [
        {
          "output_type": "execute_result",
          "data": {
            "text/plain": [
              "(14, 14)"
            ]
          },
          "metadata": {},
          "execution_count": 70
        }
      ],
      "source": [
        "heatmap.shape"
      ]
    },
    {
      "cell_type": "code",
      "execution_count": 71,
      "metadata": {
        "id": "UF3bCnwEqtkz"
      },
      "outputs": [],
      "source": [
        "from scipy.ndimage import zoom\n",
        "heatmap_resized = zoom(heatmap,2) #upsample image\n"
      ]
    },
    {
      "cell_type": "code",
      "execution_count": 72,
      "metadata": {
        "colab": {
          "base_uri": "https://localhost:8080/",
          "height": 268
        },
        "id": "K3xhKkrXphd3",
        "outputId": "3b140579-923c-44ea-d340-f2c5064da645"
      },
      "outputs": [
        {
          "output_type": "display_data",
          "data": {
            "text/plain": [
              "<Figure size 432x288 with 1 Axes>"
            ],
            "image/png": "[encoded data removed]"
          },
          "metadata": {}
        }
      ],
      "source": [
        "plt.imshow(to_predict_image[0,:,:])\n",
        "plt.imshow(heatmap_resized, cmap='jet', alpha=0.4)\n",
        "plt.show()"
      ]
    },
    {
      "cell_type": "markdown",
      "metadata": {
        "id": "aYGLaOXxOHFG"
      },
      "source": [
        "### LIME"
      ]
    },
    {
      "cell_type": "code",
      "execution_count": 73,
      "metadata": {
        "collapsed": true,
        "id": "vHQqceZyCxGQ"
      },
      "outputs": [],
      "source": [
        "import tensorflow as tf    \n",
        "import lime\n",
        "from lime import lime_image\n",
        "from skimage.segmentation import mark_boundaries"
      ]
    },
    {
      "cell_type": "code",
      "execution_count": 74,
      "metadata": {
        "colab": {
          "base_uri": "https://localhost:8080/"
        },
        "id": "BstyixafCo1J",
        "outputId": "b1294f7f-0869-4883-eef5-4f1c6114b610"
      },
      "outputs": [
        {
          "output_type": "stream",
          "name": "stderr",
          "text": [
            "WARNING:tensorflow:From /usr/local/lib/python3.8/dist-packages/tensorflow/python/compat/v2_compat.py:107: disable_resource_variables (from tensorflow.python.ops.variable_scope) is deprecated and will be removed in a future version.\n",
            "Instructions for updating:\n",
            "non-resource variables are not supported in the long term\n"
          ]
        }
      ],
      "source": [
        "# This line is necessary to use SHAP with current version of TF in Colab\n",
        "tf.compat.v1.disable_v2_behavior()    "
      ]
    },
    {
      "cell_type": "code",
      "execution_count": 75,
      "metadata": {
        "id": "e7Cg_WMsDV37"
      },
      "outputs": [],
      "source": [
        "def to_rgb(x):\n",
        "    x_rgb = np.zeros((x.shape[0], 28, 28, 3))\n",
        "    for i in range(3):\n",
        "        x_rgb[..., i] = x[..., 0]\n",
        "    return x_rgb"
      ]
    },
    {
      "cell_type": "code",
      "execution_count": 76,
      "metadata": {
        "id": "H7Ruh-clDHEh"
      },
      "outputs": [],
      "source": [
        "X_train_rgb = to_rgb(X_train.reshape((-1,28,28,1)).astype('float32') / 255.0)\n",
        "X_test_rgb = to_rgb(X_test.reshape((-1,28,28,1)).astype('float32') / 255.0)"
      ]
    },
    {
      "cell_type": "code",
      "execution_count": 77,
      "metadata": {
        "colab": {
          "base_uri": "https://localhost:8080/"
        },
        "id": "GWs4QnkxELpD",
        "outputId": "08875be4-c3ea-4490-9aeb-4a271944504c"
      },
      "outputs": [
        {
          "output_type": "stream",
          "name": "stdout",
          "text": [
            "Model: \"sequential_5\"\n",
            "_________________________________________________________________\n",
            " Layer (type)                Output Shape              Param #   \n",
            "=================================================================\n",
            " conv2d_7 (Conv2D)           (None, 28, 28, 16)        448       \n",
            "                                                                 \n",
            " max_pooling2d_4 (MaxPooling  (None, 14, 14, 16)       0         \n",
            " 2D)                                                             \n",
            "                                                                 \n",
            " conv2d_8 (Conv2D)           (None, 14, 14, 32)        4640      \n",
            "                                                                 \n",
            " max_pooling2d_5 (MaxPooling  (None, 7, 7, 32)         0         \n",
            " 2D)                                                             \n",
            "                                                                 \n",
            " flatten_3 (Flatten)         (None, 1568)              0         \n",
            "                                                                 \n",
            " dense_7 (Dense)             (None, 10)                15690     \n",
            "                                                                 \n",
            "=================================================================\n",
            "Total params: 20,778\n",
            "Trainable params: 20,778\n",
            "Non-trainable params: 0\n",
            "_________________________________________________________________\n"
          ]
        }
      ],
      "source": [
        "# The encoder part\n",
        "model = Sequential()\n",
        "model.add(Conv2D(16, kernel_size=(3, 3), padding=\"same\", activation=\"relu\",input_shape=(28,28,3)))\n",
        "model.add(MaxPooling2D(pool_size=2, padding=\"same\"))\n",
        "model.add(Conv2D(32, kernel_size=(3, 3), padding=\"same\", activation=\"relu\"))\n",
        "model.add(MaxPooling2D(pool_size=2, padding=\"same\"))\n",
        "model.add(Flatten())\n",
        "model.add(Dense(10, activation='softmax'))\n",
        "model.compile(optimizer=tf.keras.optimizers.Adam(learning_rate=0.001,beta_1=0.95),\n",
        "              loss='categorical_crossentropy', #MeanSquaredError()\n",
        "              metrics=['accuracy'],\n",
        "             )\n",
        "model.summary()"
      ]
    },
    {
      "cell_type": "code",
      "execution_count": 78,
      "metadata": {
        "colab": {
          "base_uri": "https://localhost:8080/"
        },
        "id": "XBnwgd27ExWG",
        "outputId": "2252698f-ce2a-410b-d5fa-60f660702529"
      },
      "outputs": [
        {
          "output_type": "stream",
          "name": "stdout",
          "text": [
            "Train on 48000 samples, validate on 12000 samples\n",
            "Epoch 1/15\n",
            "47968/48000 [============================>.] - ETA: 0s - loss: 0.7678 - acc: 0.7242"
          ]
        },
        {
          "output_type": "stream",
          "name": "stderr",
          "text": [
            "/usr/local/lib/python3.8/dist-packages/keras/engine/training_v1.py:2045: UserWarning: `Model.state_updates` will be removed in a future version. This property should not be used in TensorFlow 2.0, as `updates` are applied automatically.\n",
            "  updates = self.state_updates\n"
          ]
        },
        {
          "output_type": "stream",
          "name": "stdout",
          "text": [
            "\b\b\b\b\b\b\b\b\b\b\b\b\b\b\b\b\b\b\b\b\b\b\b\b\b\b\b\b\b\b\b\b\b\b\b\b\b\b\b\b\b\b\b\b\b\b\b\b\b\b\b\b\b\b\b\b\b\b\b\b\b\b\b\b\b\b\b\b\b\b\b\b\b\b\b\b\b\b\b\b\b\b\b\r48000/48000 [==============================] - 40s 840us/sample - loss: 0.7676 - acc: 0.7242 - val_loss: 0.5438 - val_acc: 0.8014\n",
            "Epoch 2/15\n",
            "48000/48000 [==============================] - 40s 835us/sample - loss: 0.5069 - acc: 0.8170 - val_loss: 0.4769 - val_acc: 0.8239\n",
            "Epoch 3/15\n",
            "48000/48000 [==============================] - 40s 836us/sample - loss: 0.4479 - acc: 0.8391 - val_loss: 0.4387 - val_acc: 0.8388\n",
            "Epoch 4/15\n",
            "48000/48000 [==============================] - 43s 898us/sample - loss: 0.4197 - acc: 0.8515 - val_loss: 0.4109 - val_acc: 0.8548\n",
            "Epoch 5/15\n",
            "48000/48000 [==============================] - 40s 839us/sample - loss: 0.3987 - acc: 0.8581 - val_loss: 0.4086 - val_acc: 0.8537\n",
            "Epoch 6/15\n",
            "48000/48000 [==============================] - 40s 837us/sample - loss: 0.3837 - acc: 0.8631 - val_loss: 0.3909 - val_acc: 0.8622\n",
            "Epoch 7/15\n",
            "48000/48000 [==============================] - 43s 902us/sample - loss: 0.3710 - acc: 0.8679 - val_loss: 0.3685 - val_acc: 0.8688\n",
            "Epoch 8/15\n",
            "48000/48000 [==============================] - 40s 837us/sample - loss: 0.3578 - acc: 0.8722 - val_loss: 0.3582 - val_acc: 0.8714\n",
            "Epoch 9/15\n",
            "48000/48000 [==============================] - 41s 846us/sample - loss: 0.3464 - acc: 0.8773 - val_loss: 0.3520 - val_acc: 0.8768\n",
            "Epoch 10/15\n",
            "48000/48000 [==============================] - 42s 868us/sample - loss: 0.3350 - acc: 0.8815 - val_loss: 0.3502 - val_acc: 0.8727\n",
            "Epoch 11/15\n",
            "48000/48000 [==============================] - 42s 881us/sample - loss: 0.3245 - acc: 0.8843 - val_loss: 0.3361 - val_acc: 0.8801\n",
            "Epoch 12/15\n",
            "48000/48000 [==============================] - 40s 836us/sample - loss: 0.3169 - acc: 0.8881 - val_loss: 0.3256 - val_acc: 0.8848\n",
            "Epoch 13/15\n",
            "48000/48000 [==============================] - 41s 859us/sample - loss: 0.3095 - acc: 0.8892 - val_loss: 0.3242 - val_acc: 0.8842\n",
            "Epoch 14/15\n",
            "48000/48000 [==============================] - 42s 885us/sample - loss: 0.3024 - acc: 0.8916 - val_loss: 0.3235 - val_acc: 0.8870\n",
            "Epoch 15/15\n",
            "48000/48000 [==============================] - 41s 850us/sample - loss: 0.2968 - acc: 0.8944 - val_loss: 0.3096 - val_acc: 0.8908\n"
          ]
        }
      ],
      "source": [
        "history = model.fit(X_train_rgb, y_train_enc, \n",
        "                    batch_size = 16, \n",
        "                    epochs = 15, \n",
        "                    validation_split=0.2,\n",
        "                    callbacks=[early_stopping]\n",
        "                    )"
      ]
    },
    {
      "cell_type": "code",
      "execution_count": 79,
      "metadata": {
        "colab": {
          "base_uri": "https://localhost:8080/"
        },
        "id": "6ad0l4JcFG8z",
        "outputId": "8d195b45-3eed-49c0-8725-999261d267cc"
      },
      "outputs": [
        {
          "output_type": "stream",
          "name": "stderr",
          "text": [
            "/usr/local/lib/python3.8/dist-packages/keras/engine/training_v1.py:2067: UserWarning: `Model.state_updates` will be removed in a future version. This property should not be used in TensorFlow 2.0, as `updates` are applied automatically.\n",
            "  updates=self.state_updates,\n"
          ]
        },
        {
          "output_type": "stream",
          "name": "stdout",
          "text": [
            "Weighted F1-score is 0.88\n"
          ]
        }
      ],
      "source": [
        "predictions = model.predict(X_test_rgb)\n",
        "print('Weighted F1-score is %.2f' %f1_score(y_test, convert_predictions(predictions), average='weighted'))"
      ]
    },
    {
      "cell_type": "code",
      "execution_count": 80,
      "metadata": {
        "colab": {
          "base_uri": "https://localhost:8080/",
          "height": 265
        },
        "id": "pm2I162RF7wI",
        "outputId": "91079567-b57f-400b-deba-aac9e6ed8e0a"
      },
      "outputs": [
        {
          "output_type": "stream",
          "name": "stderr",
          "text": [
            "WARNING:matplotlib.image:Clipping input data to the valid range for imshow with RGB data ([0..1] for floats or [0..255] for integers).\n"
          ]
        },
        {
          "output_type": "display_data",
          "data": {
            "text/plain": [
              "<Figure size 432x288 with 1 Axes>"
            ],
            "image/png": "[encoded data removed]"
          },
          "metadata": {}
        }
      ],
      "source": [
        "errors_inds = np.nonzero(y_test != convert_predictions(predictions))[0]\n",
        "img_ind = errors_inds[4]\n",
        "to_predict_image = X_test_rgb[img_ind,:,:,:]\n",
        "plt.imshow(255*to_predict_image)\n",
        "plt.axis('off')\n",
        "plt.show()"
      ]
    },
    {
      "cell_type": "code",
      "execution_count": 81,
      "metadata": {
        "colab": {
          "base_uri": "https://localhost:8080/"
        },
        "id": "bBHu7nzjF_hZ",
        "outputId": "a30f6296-8c26-4021-cfaf-aff337b7d98e"
      },
      "outputs": [
        {
          "output_type": "stream",
          "name": "stdout",
          "text": [
            "Predicted digit is: 0\n",
            "Actual label is: 3\n"
          ]
        }
      ],
      "source": [
        "to_predict_image = np.expand_dims(to_predict_image, axis=0)\n",
        "preds = model.predict(to_predict_image)\n",
        "print(\"Predicted digit is:\", convert_predictions(preds)[0])\n",
        "print(\"Actual label is:\", y_test[img_ind])"
      ]
    },
    {
      "cell_type": "code",
      "execution_count": 82,
      "metadata": {
        "colab": {
          "base_uri": "https://localhost:8080/",
          "height": 297,
          "referenced_widgets": [
            "60eee8532b4147dc8cc3a800b54e51b9",
            "94ab28c1dc8d420aa7707f8d6782ea63",
            "862971bc3bb9490382e72f21e2a0cbc8",
            "9adcbc33ad8846d89b6f8c4a269fc349",
            "7de9a4dc87de4bfcb53808d47baec268",
            "c6180e298494483c8ad66e42c0cb059b",
            "60b995cacde34b36aa5eb3b3482ee16a",
            "819755e92bd14359bf61bb64a5635c78",
            "ab617f8a914d42329498c99e6d93c53e",
            "b231b115dbf74da8afd3523ad4809926",
            "98b6a47266074c50b15572dab1ad10e3"
          ]
        },
        "id": "TTm8oNPGCuTF",
        "outputId": "54f08ae0-b678-47b1-d296-fb04300b9fa7"
      },
      "outputs": [
        {
          "output_type": "display_data",
          "data": {
            "text/plain": [
              "  0%|          | 0/1000 [00:00<?, ?it/s]"
            ],
            "application/vnd.jupyter.widget-view+json": {
              "version_major": 2,
              "version_minor": 0,
              "model_id": "60eee8532b4147dc8cc3a800b54e51b9"
            }
          },
          "metadata": {}
        },
        {
          "output_type": "stream",
          "name": "stderr",
          "text": [
            "WARNING:matplotlib.image:Clipping input data to the valid range for imshow with RGB data ([0..1] for floats or [0..255] for integers).\n"
          ]
        },
        {
          "output_type": "display_data",
          "data": {
            "text/plain": [
              "<Figure size 432x288 with 1 Axes>"
            ],
            "image/png": "[encoded data removed]"
          },
          "metadata": {}
        }
      ],
      "source": [
        "explainer = lime_image.LimeImageExplainer()\n",
        "explanation = explainer.explain_instance(to_predict_image[0,:,:,:], model.predict)\n",
        "plt.imshow(to_predict_image[0])\n",
        "\n",
        "\n",
        "image, mask = explanation.get_image_and_mask(\n",
        "    explanation.top_labels[0],\n",
        "         positive_only=False, \n",
        "         hide_rest=False)\n",
        "plt.imshow(mark_boundaries(image, mask)*255)\n",
        "plt.axis('off')\n",
        "plt.show()"
      ]
    },
    {
      "cell_type": "markdown",
      "metadata": {
        "id": "u4DS8yDVNtgi"
      },
      "source": [
        "###SHAP"
      ]
    },
    {
      "cell_type": "code",
      "execution_count": 83,
      "metadata": {
        "id": "S_MlTkswU3nk"
      },
      "outputs": [],
      "source": [
        "import shap"
      ]
    },
    {
      "cell_type": "code",
      "execution_count": 84,
      "metadata": {
        "colab": {
          "base_uri": "https://localhost:8080/"
        },
        "id": "NTP7_L7lIz6D",
        "outputId": "15055d7f-7e0f-4d92-b0f2-0956bc1bbe04"
      },
      "outputs": [
        {
          "output_type": "stream",
          "name": "stderr",
          "text": [
            "keras is no longer supported, please use tf.keras instead.\n",
            "Your TensorFlow version is newer than 2.4.0 and so graph support has been removed in eager mode and some static graphs may not be supported. See PR #1483 for discussion.\n",
            "WARNING:tensorflow:From /usr/local/lib/python3.8/dist-packages/shap/explainers/tf_utils.py:28: The name tf.keras.backend.get_session is deprecated. Please use tf.compat.v1.keras.backend.get_session instead.\n",
            "\n"
          ]
        }
      ],
      "source": [
        "explainer = shap.DeepExplainer(model, X_train_rgb[0:100,:,:,:])"
      ]
    },
    {
      "cell_type": "code",
      "execution_count": 85,
      "metadata": {
        "id": "5XJ1tHRWLNGU"
      },
      "outputs": [],
      "source": [
        "shap_values = explainer.shap_values(to_predict_image)"
      ]
    },
    {
      "cell_type": "code",
      "execution_count": 86,
      "metadata": {
        "id": "Dr_HoobxQO3t"
      },
      "outputs": [],
      "source": [
        "true_label = y_test[img_ind]\n",
        "predicted_label = convert_predictions(preds)[0]"
      ]
    },
    {
      "cell_type": "code",
      "execution_count": 87,
      "metadata": {
        "colab": {
          "base_uri": "https://localhost:8080/",
          "height": 220
        },
        "id": "o8qObcRJMeeI",
        "outputId": "4e8010a2-7042-4119-a9a4-52b0b7048d9d"
      },
      "outputs": [
        {
          "output_type": "display_data",
          "data": {
            "text/plain": [
              "<Figure size 1440x218.182 with 12 Axes>"
            ],
            "image/png": "[encoded data removed]"
          },
          "metadata": {}
        }
      ],
      "source": [
        "index_names = []\n",
        "for x in range(10):\n",
        "  index_names.append(str(x) + '\\n' + '%0.3f' %preds[0][x])\n",
        "\n",
        "    \n",
        "#Displays the results.\n",
        "shap.image_plot(shap_values, to_predict_image ,index_names ,show=False)\n",
        "plt.show()"
      ]
    },
    {
      "cell_type": "markdown",
      "metadata": {
        "id": "GLgOyiATN4c7"
      },
      "source": [
        "### Eli5"
      ]
    },
    {
      "cell_type": "code",
      "execution_count": 88,
      "metadata": {
        "id": "32Mm344yWkps"
      },
      "outputs": [],
      "source": [
        "import eli5\n",
        "from IPython.display import display\n",
        "from PIL import Image"
      ]
    },
    {
      "cell_type": "code",
      "execution_count": 89,
      "metadata": {
        "id": "wxV4reT9Wp-P"
      },
      "outputs": [],
      "source": [
        "expl = eli5.explain_prediction(model, 255*to_predict_image, targets=[int(predicted_label)])"
      ]
    },
    {
      "cell_type": "code",
      "execution_count": 90,
      "metadata": {
        "colab": {
          "base_uri": "https://localhost:8080/"
        },
        "id": "M8D4uKTZYKtw",
        "outputId": "fb6f1cf4-2351-4227-9196-1be882aba608"
      },
      "outputs": [
        {
          "output_type": "stream",
          "name": "stdout",
          "text": [
            "Explanation(estimator='<keras.engine.sequential.Sequential object at 0x7f16abf4f1f0>', description=None, error='estimator <keras.engine.sequential.Sequential object at 0x7f16abf4f1f0> is not supported', method=None, is_regression=False, targets=None, feature_importances=None, decision_tree=None, highlight_spaces=None, transition_features=None, image=None)\n"
          ]
        }
      ],
      "source": [
        "print(expl)"
      ]
    },
    {
      "cell_type": "code",
      "execution_count": 91,
      "metadata": {
        "id": "gXuAejXyZ4Vj"
      },
      "outputs": [],
      "source": [
        "preds_sorted = -np.sort(-preds)\n",
        "digits = np.argsort(-preds)"
      ]
    },
    {
      "cell_type": "code",
      "execution_count": 93,
      "metadata": {
        "colab": {
          "base_uri": "https://localhost:8080/",
          "height": 490
        },
        "id": "8ueig5RhYJy1",
        "outputId": "1eccbdfa-a0f8-40d1-98ea-cd4d42da8cb4"
      },
      "outputs": [
        {
          "output_type": "error",
          "ename": "TypeError",
          "evalue": "ignored",
          "traceback": [
            "\u001b[0;31m---------------------------------------------------------------------------\u001b[0m",
            "\u001b[0;31mTypeError\u001b[0m                                 Traceback (most recent call last)",
            "\u001b[0;32m<ipython-input-93-230757b26f75>\u001b[0m in \u001b[0;36m<module>\u001b[0;34m\u001b[0m\n\u001b[1;32m      8\u001b[0m   \u001b[0;31m# Get the image and corresponding heatmap\u001b[0m\u001b[0;34m\u001b[0m\u001b[0;34m\u001b[0m\u001b[0;34m\u001b[0m\u001b[0m\n\u001b[1;32m      9\u001b[0m   \u001b[0mimage\u001b[0m \u001b[0;34m=\u001b[0m \u001b[0mexpl\u001b[0m\u001b[0;34m.\u001b[0m\u001b[0mimage\u001b[0m\u001b[0;34m\u001b[0m\u001b[0;34m\u001b[0m\u001b[0m\n\u001b[0;32m---> 10\u001b[0;31m   \u001b[0mheatmap\u001b[0m \u001b[0;34m=\u001b[0m \u001b[0mexpl\u001b[0m\u001b[0;34m.\u001b[0m\u001b[0mtargets\u001b[0m\u001b[0;34m[\u001b[0m\u001b[0;36m0\u001b[0m\u001b[0;34m]\u001b[0m\u001b[0;34m.\u001b[0m\u001b[0mheatmap\u001b[0m\u001b[0;34m\u001b[0m\u001b[0;34m\u001b[0m\u001b[0m\n\u001b[0m\u001b[1;32m     11\u001b[0m \u001b[0;34m\u001b[0m\u001b[0m\n\u001b[1;32m     12\u001b[0m   \u001b[0;31m# Resize the heatmap to the size of the image (per GradCAM's approach)\u001b[0m\u001b[0;34m\u001b[0m\u001b[0;34m\u001b[0m\u001b[0;34m\u001b[0m\u001b[0m\n",
            "\u001b[0;31mTypeError\u001b[0m: 'NoneType' object is not subscriptable"
          ]
        },
        {
          "output_type": "display_data",
          "data": {
            "text/plain": [
              "<Figure size 864x288 with 3 Axes>"
            ],
            "image/png": "[encoded data removed]"
          },
          "metadata": {}
        }
      ],
      "source": [
        "# Plot the explanation for the top 3 classes\n",
        "fig, ax = plt.subplots(nrows=1, ncols=3, figsize=(12,4))\n",
        "for i in range(3):\n",
        "\n",
        "  # Create the explanation class\n",
        "  expl = eli5.explain_prediction(model, 255*to_predict_image, targets=[int(digits[0][i])])\n",
        "\n",
        "  # Get the image and corresponding heatmap\n",
        "  image = expl.image\n",
        "  heatmap = expl.targets[0].heatmap\n",
        "\n",
        "  # Resize the heatmap to the size of the image (per GradCAM's approach)\n",
        "  heatmap_im = eli5.formatters.image.expand_heatmap(heatmap, image, resampling_filter=Image.BOX)\n",
        "  \n",
        "  # Display the results\n",
        "  ax[i].imshow(image)\n",
        "  ax[i].imshow(heatmap_im, cmap='jet', alpha=0.4)\n",
        "  ax[i].title.set_text('Digit: %d, prob: %.3f' %(digits[0][i],preds_sorted[0][i]))\n",
        "  ax[i].axis('off')\n"
      ]
    },
    {
      "cell_type": "code",
      "execution_count": null,
      "metadata": {
        "id": "yX4XfuXYvNht"
      },
      "outputs": [],
      "source": []
    }
  ],
  "metadata": {
    "colab": {
      "provenance": []
    },
    "kernelspec": {
      "display_name": "Python 3",
      "name": "python3"
    },
    "language_info": {
      "name": "python"
    },
    "widgets": {
      "application/vnd.jupyter.widget-state+json": {
        "60eee8532b4147dc8cc3a800b54e51b9": {
          "model_module": "@jupyter-widgets/controls",
          "model_name": "HBoxModel",
          "model_module_version": "1.5.0",
          "state": {
            "_dom_classes": [],
            "_model_module": "@jupyter-widgets/controls",
            "_model_module_version": "1.5.0",
            "_model_name": "HBoxModel",
            "_view_count": null,
            "_view_module": "@jupyter-widgets/controls",
            "_view_module_version": "1.5.0",
            "_view_name": "HBoxView",
            "box_style": "",
            "children": [
              "IPY_MODEL_94ab28c1dc8d420aa7707f8d6782ea63",
              "IPY_MODEL_862971bc3bb9490382e72f21e2a0cbc8",
              "IPY_MODEL_9adcbc33ad8846d89b6f8c4a269fc349"
            ],
            "layout": "IPY_MODEL_7de9a4dc87de4bfcb53808d47baec268"
          }
        },
        "94ab28c1dc8d420aa7707f8d6782ea63": {
          "model_module": "@jupyter-widgets/controls",
          "model_name": "HTMLModel",
          "model_module_version": "1.5.0",
          "state": {
            "_dom_classes": [],
            "_model_module": "@jupyter-widgets/controls",
            "_model_module_version": "1.5.0",
            "_model_name": "HTMLModel",
            "_view_count": null,
            "_view_module": "@jupyter-widgets/controls",
            "_view_module_version": "1.5.0",
            "_view_name": "HTMLView",
            "description": "",
            "description_tooltip": null,
            "layout": "IPY_MODEL_c6180e298494483c8ad66e42c0cb059b",
            "placeholder": "​",
            "style": "IPY_MODEL_60b995cacde34b36aa5eb3b3482ee16a",
            "value": "100%"
          }
        },
        "862971bc3bb9490382e72f21e2a0cbc8": {
          "model_module": "@jupyter-widgets/controls",
          "model_name": "FloatProgressModel",
          "model_module_version": "1.5.0",
          "state": {
            "_dom_classes": [],
            "_model_module": "@jupyter-widgets/controls",
            "_model_module_version": "1.5.0",
            "_model_name": "FloatProgressModel",
            "_view_count": null,
            "_view_module": "@jupyter-widgets/controls",
            "_view_module_version": "1.5.0",
            "_view_name": "ProgressView",
            "bar_style": "success",
            "description": "",
            "description_tooltip": null,
            "layout": "IPY_MODEL_819755e92bd14359bf61bb64a5635c78",
            "max": 1000,
            "min": 0,
            "orientation": "horizontal",
            "style": "IPY_MODEL_ab617f8a914d42329498c99e6d93c53e",
            "value": 1000
          }
        },
        "9adcbc33ad8846d89b6f8c4a269fc349": {
          "model_module": "@jupyter-widgets/controls",
          "model_name": "HTMLModel",
          "model_module_version": "1.5.0",
          "state": {
            "_dom_classes": [],
            "_model_module": "@jupyter-widgets/controls",
            "_model_module_version": "1.5.0",
            "_model_name": "HTMLModel",
            "_view_count": null,
            "_view_module": "@jupyter-widgets/controls",
            "_view_module_version": "1.5.0",
            "_view_name": "HTMLView",
            "description": "",
            "description_tooltip": null,
            "layout": "IPY_MODEL_b231b115dbf74da8afd3523ad4809926",
            "placeholder": "​",
            "style": "IPY_MODEL_98b6a47266074c50b15572dab1ad10e3",
            "value": " 1000/1000 [00:00&lt;00:00, 2017.11it/s]"
          }
        },
        "7de9a4dc87de4bfcb53808d47baec268": {
          "model_module": "@jupyter-widgets/base",
          "model_name": "LayoutModel",
          "model_module_version": "1.2.0",
          "state": {
            "_model_module": "@jupyter-widgets/base",
            "_model_module_version": "1.2.0",
            "_model_name": "LayoutModel",
            "_view_count": null,
            "_view_module": "@jupyter-widgets/base",
            "_view_module_version": "1.2.0",
            "_view_name": "LayoutView",
            "align_content": null,
            "align_items": null,
            "align_self": null,
            "border": null,
            "bottom": null,
            "display": null,
            "flex": null,
            "flex_flow": null,
            "grid_area": null,
            "grid_auto_columns": null,
            "grid_auto_flow": null,
            "grid_auto_rows": null,
            "grid_column": null,
            "grid_gap": null,
            "grid_row": null,
            "grid_template_areas": null,
            "grid_template_columns": null,
            "grid_template_rows": null,
            "height": null,
            "justify_content": null,
            "justify_items": null,
            "left": null,
            "margin": null,
            "max_height": null,
            "max_width": null,
            "min_height": null,
            "min_width": null,
            "object_fit": null,
            "object_position": null,
            "order": null,
            "overflow": null,
            "overflow_x": null,
            "overflow_y": null,
            "padding": null,
            "right": null,
            "top": null,
            "visibility": null,
            "width": null
          }
        },
        "c6180e298494483c8ad66e42c0cb059b": {
          "model_module": "@jupyter-widgets/base",
          "model_name": "LayoutModel",
          "model_module_version": "1.2.0",
          "state": {
            "_model_module": "@jupyter-widgets/base",
            "_model_module_version": "1.2.0",
            "_model_name": "LayoutModel",
            "_view_count": null,
            "_view_module": "@jupyter-widgets/base",
            "_view_module_version": "1.2.0",
            "_view_name": "LayoutView",
            "align_content": null,
            "align_items": null,
            "align_self": null,
            "border": null,
            "bottom": null,
            "display": null,
            "flex": null,
            "flex_flow": null,
            "grid_area": null,
            "grid_auto_columns": null,
            "grid_auto_flow": null,
            "grid_auto_rows": null,
            "grid_column": null,
            "grid_gap": null,
            "grid_row": null,
            "grid_template_areas": null,
            "grid_template_columns": null,
            "grid_template_rows": null,
            "height": null,
            "justify_content": null,
            "justify_items": null,
            "left": null,
            "margin": null,
            "max_height": null,
            "max_width": null,
            "min_height": null,
            "min_width": null,
            "object_fit": null,
            "object_position": null,
            "order": null,
            "overflow": null,
            "overflow_x": null,
            "overflow_y": null,
            "padding": null,
            "right": null,
            "top": null,
            "visibility": null,
            "width": null
          }
        },
        "60b995cacde34b36aa5eb3b3482ee16a": {
          "model_module": "@jupyter-widgets/controls",
          "model_name": "DescriptionStyleModel",
          "model_module_version": "1.5.0",
          "state": {
            "_model_module": "@jupyter-widgets/controls",
            "_model_module_version": "1.5.0",
            "_model_name": "DescriptionStyleModel",
            "_view_count": null,
            "_view_module": "@jupyter-widgets/base",
            "_view_module_version": "1.2.0",
            "_view_name": "StyleView",
            "description_width": ""
          }
        },
        "819755e92bd14359bf61bb64a5635c78": {
          "model_module": "@jupyter-widgets/base",
          "model_name": "LayoutModel",
          "model_module_version": "1.2.0",
          "state": {
            "_model_module": "@jupyter-widgets/base",
            "_model_module_version": "1.2.0",
            "_model_name": "LayoutModel",
            "_view_count": null,
            "_view_module": "@jupyter-widgets/base",
            "_view_module_version": "1.2.0",
            "_view_name": "LayoutView",
            "align_content": null,
            "align_items": null,
            "align_self": null,
            "border": null,
            "bottom": null,
            "display": null,
            "flex": null,
            "flex_flow": null,
            "grid_area": null,
            "grid_auto_columns": null,
            "grid_auto_flow": null,
            "grid_auto_rows": null,
            "grid_column": null,
            "grid_gap": null,
            "grid_row": null,
            "grid_template_areas": null,
            "grid_template_columns": null,
            "grid_template_rows": null,
            "height": null,
            "justify_content": null,
            "justify_items": null,
            "left": null,
            "margin": null,
            "max_height": null,
            "max_width": null,
            "min_height": null,
            "min_width": null,
            "object_fit": null,
            "object_position": null,
            "order": null,
            "overflow": null,
            "overflow_x": null,
            "overflow_y": null,
            "padding": null,
            "right": null,
            "top": null,
            "visibility": null,
            "width": null
          }
        },
        "ab617f8a914d42329498c99e6d93c53e": {
          "model_module": "@jupyter-widgets/controls",
          "model_name": "ProgressStyleModel",
          "model_module_version": "1.5.0",
          "state": {
            "_model_module": "@jupyter-widgets/controls",
            "_model_module_version": "1.5.0",
            "_model_name": "ProgressStyleModel",
            "_view_count": null,
            "_view_module": "@jupyter-widgets/base",
            "_view_module_version": "1.2.0",
            "_view_name": "StyleView",
            "bar_color": null,
            "description_width": ""
          }
        },
        "b231b115dbf74da8afd3523ad4809926": {
          "model_module": "@jupyter-widgets/base",
          "model_name": "LayoutModel",
          "model_module_version": "1.2.0",
          "state": {
            "_model_module": "@jupyter-widgets/base",
            "_model_module_version": "1.2.0",
            "_model_name": "LayoutModel",
            "_view_count": null,
            "_view_module": "@jupyter-widgets/base",
            "_view_module_version": "1.2.0",
            "_view_name": "LayoutView",
            "align_content": null,
            "align_items": null,
            "align_self": null,
            "border": null,
            "bottom": null,
            "display": null,
            "flex": null,
            "flex_flow": null,
            "grid_area": null,
            "grid_auto_columns": null,
            "grid_auto_flow": null,
            "grid_auto_rows": null,
            "grid_column": null,
            "grid_gap": null,
            "grid_row": null,
            "grid_template_areas": null,
            "grid_template_columns": null,
            "grid_template_rows": null,
            "height": null,
            "justify_content": null,
            "justify_items": null,
            "left": null,
            "margin": null,
            "max_height": null,
            "max_width": null,
            "min_height": null,
            "min_width": null,
            "object_fit": null,
            "object_position": null,
            "order": null,
            "overflow": null,
            "overflow_x": null,
            "overflow_y": null,
            "padding": null,
            "right": null,
            "top": null,
            "visibility": null,
            "width": null
          }
        },
        "98b6a47266074c50b15572dab1ad10e3": {
          "model_module": "@jupyter-widgets/controls",
          "model_name": "DescriptionStyleModel",
          "model_module_version": "1.5.0",
          "state": {
            "_model_module": "@jupyter-widgets/controls",
            "_model_module_version": "1.5.0",
            "_model_name": "DescriptionStyleModel",
            "_view_count": null,
            "_view_module": "@jupyter-widgets/base",
            "_view_module_version": "1.2.0",
            "_view_name": "StyleView",
            "description_width": ""
          }
        }
      }
    }
  },
  "nbformat": 4,
  "nbformat_minor": 0
}