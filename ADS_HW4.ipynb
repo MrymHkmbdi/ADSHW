{
 "nbformat": 4,
 "nbformat_minor": 0,
 "metadata": {
  "colab": {
   "provenance": [],
   "collapsed_sections": []
  },
  "kernelspec": {
   "name": "python3",
   "display_name": "Python 3"
  },
  "language_info": {
   "name": "python"
  }
 },
 "cells": [
  {
   "cell_type": "markdown",
   "source": [
    "<font face=\"Vazir\" size=5><div dir=rtl>\n",
    "# بخش اول: کتابخانه‌های مورد نیاز"
   ],
   "metadata": {
    "id": "3oYXx5hAEm27"
   }
  },
  {
   "cell_type": "code",
   "execution_count": 166,
   "metadata": {
    "id": "tLtsUNg62Sdb"
   },
   "outputs": [],
   "source": [
    "import numpy as np\n",
    "import pandas as pd \n",
    "from sklearn import preprocessing\n",
    "from sklearn.decomposition import PCA\n",
    "import matplotlib.pyplot as plt \n",
    "%matplotlib inline \n",
    "import seaborn as sns\n",
    "import math   "
   ]
  },
  {
   "cell_type": "code",
   "source": [
    "import warnings\n",
    "warnings.filterwarnings('ignore')"
   ],
   "metadata": {
    "id": "bAS-l8TC9Cu9"
   },
   "execution_count": 167,
   "outputs": []
  },
  {
   "cell_type": "markdown",
   "source": [
    "<font face=\"Vazir\" size=5><div dir=rtl>\n",
    "# بخش دوم: لود کردن دیتاست و پاکسازی داده‌ها\n",
    "<br>\n",
    "در این بخش هدف ما رسیدن به شناخت سطحی و ابتدایی از دیتاست است. برای اینکار دیتاست را لود کرده و چند سطر ابتدایی آن را نمایش می‌دهیم."
   ],
   "metadata": {
    "id": "gg3N0X9mEtEl"
   }
  },
  {
   "cell_type": "markdown",
   "source": [
    "<font face=\"Vazir\" size=5><div dir=rtl>\n",
    "این دیتاست حاوی اطلاعات جمعیتی کشورهاست<br>\n",
    "توضیح هر ستون دیتاست:<br>\n",
    "<ul style=\"font-size: 20px\" dir=rtl>\n",
    "<li>Country (or dependency): نام کشور</li>\n",
    "<li>Population (2020): جمعیت</li>\n",
    "<li>Yearly Change: تغییرات سالانه جمعیت</li>\n",
    "<li>Net Change: تغییرات خالص جمعیت</li>\n",
    "<li>Land Area (Km²): مساحت</li>\n",
    "<li>Migrants (net): میزان مهاجرت</li>\n",
    "<li>Fert. Rate: نرخ باروری</li>\n",
    "<li>Med. Age: میانگین سنی</li>\n",
    "<li>Urban Pop %: درصد جمعیت شهری</li>\n",
    "<li>World Share: سهم کشور از جمعیت جهان</li>\n"
   ],
   "metadata": {
    "id": "58p3DqDSExpz"
   }
  },
  {
   "cell_type": "code",
   "source": [
    "data = pd.read_csv('data.csv')\n",
    "data.head()"
   ],
   "metadata": {
    "colab": {
     "base_uri": "https://localhost:8080/",
     "height": 267
    },
    "id": "hAzNuCwj8nrX",
    "outputId": "bf5ea9a7-4b1b-431f-d6c5-a700390803ce"
   },
   "execution_count": 227,
   "outputs": [
    {
     "output_type": "execute_result",
     "data": {
      "text/plain": [
       "  Country (or dependency)  Population (2020) Yearly Change  Net Change  \\\n",
       "0                   China         1440297825        0.39 %     5540090   \n",
       "1                   India         1382345085        0.99 %    13586631   \n",
       "2           United States          331341050        0.59 %     1937734   \n",
       "3               Indonesia          274021604        1.07 %     2898047   \n",
       "4                Pakistan          221612785        2.00 %     4327022   \n",
       "\n",
       "   Land Area (Km²)  Migrants (net) Fert. Rate Med. Age Urban Pop % World Share  \n",
       "0          9388211       -348399.0        1.7       38        61 %     18.47 %  \n",
       "1          2973190       -532687.0        2.2       28        35 %     17.70 %  \n",
       "2          9147420        954806.0        1.8       38        83 %      4.25 %  \n",
       "3          1811570        -98955.0        2.3       30        56 %      3.51 %  \n",
       "4           770880       -233379.0        3.6       23        35 %      2.83 %  "
      ],
      "text/html": [
       "\n",
       "  <div id=\"df-086d7360-8a5d-4078-9b79-b0c653c8b27c\">\n",
       "    <div class=\"colab-df-container\">\n",
       "      <div>\n",
       "<style scoped>\n",
       "    .dataframe tbody tr th:only-of-type {\n",
       "        vertical-align: middle;\n",
       "    }\n",
       "\n",
       "    .dataframe tbody tr th {\n",
       "        vertical-align: top;\n",
       "    }\n",
       "\n",
       "    .dataframe thead th {\n",
       "        text-align: right;\n",
       "    }\n",
       "</style>\n",
       "<table border=\"1\" class=\"dataframe\">\n",
       "  <thead>\n",
       "    <tr style=\"text-align: right;\">\n",
       "      <th></th>\n",
       "      <th>Country (or dependency)</th>\n",
       "      <th>Population (2020)</th>\n",
       "      <th>Yearly Change</th>\n",
       "      <th>Net Change</th>\n",
       "      <th>Land Area (Km²)</th>\n",
       "      <th>Migrants (net)</th>\n",
       "      <th>Fert. Rate</th>\n",
       "      <th>Med. Age</th>\n",
       "      <th>Urban Pop %</th>\n",
       "      <th>World Share</th>\n",
       "    </tr>\n",
       "  </thead>\n",
       "  <tbody>\n",
       "    <tr>\n",
       "      <th>0</th>\n",
       "      <td>China</td>\n",
       "      <td>1440297825</td>\n",
       "      <td>0.39 %</td>\n",
       "      <td>5540090</td>\n",
       "      <td>9388211</td>\n",
       "      <td>-348399.0</td>\n",
       "      <td>1.7</td>\n",
       "      <td>38</td>\n",
       "      <td>61 %</td>\n",
       "      <td>18.47 %</td>\n",
       "    </tr>\n",
       "    <tr>\n",
       "      <th>1</th>\n",
       "      <td>India</td>\n",
       "      <td>1382345085</td>\n",
       "      <td>0.99 %</td>\n",
       "      <td>13586631</td>\n",
       "      <td>2973190</td>\n",
       "      <td>-532687.0</td>\n",
       "      <td>2.2</td>\n",
       "      <td>28</td>\n",
       "      <td>35 %</td>\n",
       "      <td>17.70 %</td>\n",
       "    </tr>\n",
       "    <tr>\n",
       "      <th>2</th>\n",
       "      <td>United States</td>\n",
       "      <td>331341050</td>\n",
       "      <td>0.59 %</td>\n",
       "      <td>1937734</td>\n",
       "      <td>9147420</td>\n",
       "      <td>954806.0</td>\n",
       "      <td>1.8</td>\n",
       "      <td>38</td>\n",
       "      <td>83 %</td>\n",
       "      <td>4.25 %</td>\n",
       "    </tr>\n",
       "    <tr>\n",
       "      <th>3</th>\n",
       "      <td>Indonesia</td>\n",
       "      <td>274021604</td>\n",
       "      <td>1.07 %</td>\n",
       "      <td>2898047</td>\n",
       "      <td>1811570</td>\n",
       "      <td>-98955.0</td>\n",
       "      <td>2.3</td>\n",
       "      <td>30</td>\n",
       "      <td>56 %</td>\n",
       "      <td>3.51 %</td>\n",
       "    </tr>\n",
       "    <tr>\n",
       "      <th>4</th>\n",
       "      <td>Pakistan</td>\n",
       "      <td>221612785</td>\n",
       "      <td>2.00 %</td>\n",
       "      <td>4327022</td>\n",
       "      <td>770880</td>\n",
       "      <td>-233379.0</td>\n",
       "      <td>3.6</td>\n",
       "      <td>23</td>\n",
       "      <td>35 %</td>\n",
       "      <td>2.83 %</td>\n",
       "    </tr>\n",
       "  </tbody>\n",
       "</table>\n",
       "</div>\n",
       "      <button class=\"colab-df-convert\" onclick=\"convertToInteractive('df-086d7360-8a5d-4078-9b79-b0c653c8b27c')\"\n",
       "              title=\"Convert this dataframe to an interactive table.\"\n",
       "              style=\"display:none;\">\n",
       "        \n",
       "  <svg xmlns=\"http://www.w3.org/2000/svg\" height=\"24px\"viewBox=\"0 0 24 24\"\n",
       "       width=\"24px\">\n",
       "    <path d=\"M0 0h24v24H0V0z\" fill=\"none\"/>\n",
       "    <path d=\"M18.56 5.44l.94 2.06.94-2.06 2.06-.94-2.06-.94-.94-2.06-.94 2.06-2.06.94zm-11 1L8.5 8.5l.94-2.06 2.06-.94-2.06-.94L8.5 2.5l-.94 2.06-2.06.94zm10 10l.94 2.06.94-2.06 2.06-.94-2.06-.94-.94-2.06-.94 2.06-2.06.94z\"/><path d=\"M17.41 7.96l-1.37-1.37c-.4-.4-.92-.59-1.43-.59-.52 0-1.04.2-1.43.59L10.3 9.45l-7.72 7.72c-.78.78-.78 2.05 0 2.83L4 21.41c.39.39.9.59 1.41.59.51 0 1.02-.2 1.41-.59l7.78-7.78 2.81-2.81c.8-.78.8-2.07 0-2.86zM5.41 20L4 18.59l7.72-7.72 1.47 1.35L5.41 20z\"/>\n",
       "  </svg>\n",
       "      </button>\n",
       "      \n",
       "  <style>\n",
       "    .colab-df-container {\n",
       "      display:flex;\n",
       "      flex-wrap:wrap;\n",
       "      gap: 12px;\n",
       "    }\n",
       "\n",
       "    .colab-df-convert {\n",
       "      background-color: #E8F0FE;\n",
       "      border: none;\n",
       "      border-radius: 50%;\n",
       "      cursor: pointer;\n",
       "      display: none;\n",
       "      fill: #1967D2;\n",
       "      height: 32px;\n",
       "      padding: 0 0 0 0;\n",
       "      width: 32px;\n",
       "    }\n",
       "\n",
       "    .colab-df-convert:hover {\n",
       "      background-color: #E2EBFA;\n",
       "      box-shadow: 0px 1px 2px rgba(60, 64, 67, 0.3), 0px 1px 3px 1px rgba(60, 64, 67, 0.15);\n",
       "      fill: #174EA6;\n",
       "    }\n",
       "\n",
       "    [theme=dark] .colab-df-convert {\n",
       "      background-color: #3B4455;\n",
       "      fill: #D2E3FC;\n",
       "    }\n",
       "\n",
       "    [theme=dark] .colab-df-convert:hover {\n",
       "      background-color: #434B5C;\n",
       "      box-shadow: 0px 1px 3px 1px rgba(0, 0, 0, 0.15);\n",
       "      filter: drop-shadow(0px 1px 2px rgba(0, 0, 0, 0.3));\n",
       "      fill: #FFFFFF;\n",
       "    }\n",
       "  </style>\n",
       "\n",
       "      <script>\n",
       "        const buttonEl =\n",
       "          document.querySelector('#df-086d7360-8a5d-4078-9b79-b0c653c8b27c button.colab-df-convert');\n",
       "        buttonEl.style.display =\n",
       "          google.colab.kernel.accessAllowed ? 'block' : 'none';\n",
       "\n",
       "        async function convertToInteractive(key) {\n",
       "          const element = document.querySelector('#df-086d7360-8a5d-4078-9b79-b0c653c8b27c');\n",
       "          const dataTable =\n",
       "            await google.colab.kernel.invokeFunction('convertToInteractive',\n",
       "                                                     [key], {});\n",
       "          if (!dataTable) return;\n",
       "\n",
       "          const docLinkHtml = 'Like what you see? Visit the ' +\n",
       "            '<a target=\"_blank\" href=https://colab.research.google.com/notebooks/data_table.ipynb>data table notebook</a>'\n",
       "            + ' to learn more about interactive tables.';\n",
       "          element.innerHTML = '';\n",
       "          dataTable['output_type'] = 'display_data';\n",
       "          await google.colab.output.renderOutput(dataTable, element);\n",
       "          const docLink = document.createElement('div');\n",
       "          docLink.innerHTML = docLinkHtml;\n",
       "          element.appendChild(docLink);\n",
       "        }\n",
       "      </script>\n",
       "    </div>\n",
       "  </div>\n",
       "  "
      ]
     },
     "metadata": {},
     "execution_count": 227
    }
   ]
  },
  {
   "cell_type": "markdown",
   "source": [
    "<font face=\"Vazir\" size=5><div dir=rtl>\n",
    "در این قسمت برای راحتی کار با ستون‌های نام آن‌ها را کمی تغییر می‌دهیم تا قابل استفاده‌تر شوند.<br>\n",
    "<ul style=\"font-size: 20px\" dir=ltr>\n",
    "<li>Country (or dependency): country</li>\n",
    "<li>Population (2020): population</li>\n",
    "<li>Yearly Change: yearly_change</li>\n",
    "<li>Net Change: net_change</li>\n",
    "<li>Land Area (Km²): land_area</li>\n",
    "<li>Migrants (net): migrants</li>\n",
    "<li>Fert. Rate: fert_rate</li>\n",
    "<li>Med. Age: med_age</li>\n",
    "<li>Urban Pop %: urban_pop</li>\n",
    "<li>World Share: world_share</li>\n"
   ],
   "metadata": {
    "id": "DRGt_ZdNGcOW"
   }
  },
  {
   "cell_type": "code",
   "source": [
    "columns_name = list(data.columns)\n",
    "columns = []\n",
    "for i in range(len(columns_name)):\n",
    "  name = columns_name[i].split(' (')[0]\n",
    "  name = name.replace('.', '')\n",
    "  name = name.replace(' %', '')\n",
    "  name = name.replace(' ', '_')\n",
    "  name = name.lower()\n",
    "  columns.append(name)"
   ],
   "metadata": {
    "id": "DuN1uiNzVCZB"
   },
   "execution_count": 228,
   "outputs": []
  },
  {
   "cell_type": "code",
   "source": [
    "data.rename(columns=dict(zip(data.columns, columns)), inplace=True)"
   ],
   "metadata": {
    "id": "qopYIcmnWji7"
   },
   "execution_count": 229,
   "outputs": []
  },
  {
   "cell_type": "code",
   "source": [
    "data.shape[0]"
   ],
   "metadata": {
    "colab": {
     "base_uri": "https://localhost:8080/"
    },
    "id": "p14VqGRnUVX6",
    "outputId": "f2c0e479-073d-4ea9-e7f7-c71aa6b4c1b8"
   },
   "execution_count": 230,
   "outputs": [
    {
     "output_type": "execute_result",
     "data": {
      "text/plain": [
       "235"
      ]
     },
     "metadata": {},
     "execution_count": 230
    }
   ]
  },
  {
   "cell_type": "code",
   "source": [
    "data.dtypes"
   ],
   "metadata": {
    "colab": {
     "base_uri": "https://localhost:8080/"
    },
    "id": "18C_DYh6Fo_f",
    "outputId": "5f97ab2b-887b-426f-8637-9faa3eb9a672"
   },
   "execution_count": 231,
   "outputs": [
    {
     "output_type": "execute_result",
     "data": {
      "text/plain": [
       "country           object\n",
       "population         int64\n",
       "yearly_change     object\n",
       "net_change         int64\n",
       "land_area          int64\n",
       "migrants         float64\n",
       "fert_rate         object\n",
       "med_age           object\n",
       "urban_pop         object\n",
       "world_share       object\n",
       "dtype: object"
      ]
     },
     "metadata": {},
     "execution_count": 231
    }
   ]
  },
  {
   "cell_type": "code",
   "source": [
    "data.isnull().mean()"
   ],
   "metadata": {
    "colab": {
     "base_uri": "https://localhost:8080/"
    },
    "id": "NC8s6qDs8or-",
    "outputId": "6f2e4a33-ee21-45a7-f56b-b8ae01f1bf59"
   },
   "execution_count": 232,
   "outputs": [
    {
     "output_type": "execute_result",
     "data": {
      "text/plain": [
       "country          0.000000\n",
       "population       0.000000\n",
       "yearly_change    0.000000\n",
       "net_change       0.000000\n",
       "land_area        0.000000\n",
       "migrants         0.144681\n",
       "fert_rate        0.000000\n",
       "med_age          0.000000\n",
       "urban_pop        0.000000\n",
       "world_share      0.000000\n",
       "dtype: float64"
      ]
     },
     "metadata": {},
     "execution_count": 232
    }
   ]
  },
  {
   "cell_type": "code",
   "source": [
    "data.isnull().sum()"
   ],
   "metadata": {
    "colab": {
     "base_uri": "https://localhost:8080/"
    },
    "id": "JGxB2Bvf-d2v",
    "outputId": "ed86824d-d43d-412b-83b6-257644fed6b3"
   },
   "execution_count": 233,
   "outputs": [
    {
     "output_type": "execute_result",
     "data": {
      "text/plain": [
       "country           0\n",
       "population        0\n",
       "yearly_change     0\n",
       "net_change        0\n",
       "land_area         0\n",
       "migrants         34\n",
       "fert_rate         0\n",
       "med_age           0\n",
       "urban_pop         0\n",
       "world_share       0\n",
       "dtype: int64"
      ]
     },
     "metadata": {},
     "execution_count": 233
    }
   ]
  },
  {
   "cell_type": "code",
   "source": [
    "cols = data.columns\n",
    "for i in range(len(data)):\n",
    "  for c in cols:\n",
    "    if type(data.loc[i, c]) == str:\n",
    "      if 'N.A.' in data.loc[i, c]:\n",
    "        data.loc[i, c] = np.nan"
   ],
   "metadata": {
    "id": "wsDCK_WVJAkt"
   },
   "execution_count": 234,
   "outputs": []
  },
  {
   "cell_type": "code",
   "source": [
    "migrants_mean = data['migrants'].mean()\n",
    "data['migrants'] = data['migrants'].fillna(migrants_mean)\n",
    "\n",
    "data['fert_rate'] = data['fert_rate'].astype('float')\n",
    "fert_rate_mean = data['fert_rate'].mean()\n",
    "data['fert_rate'] = data['fert_rate'].fillna(migrants_mean)\n",
    "\n",
    "# data['med_age'] = data['med_age'].astype('float')\n",
    "# med_age_mean = data['med_age'].mean()\n",
    "# data['med_age'] = data['med_age'].fillna(migrants_mean)"
   ],
   "metadata": {
    "id": "JiCw8a4UIOOj"
   },
   "execution_count": 235,
   "outputs": []
  },
  {
   "cell_type": "markdown",
   "source": [
    "<font face=\"Vazir\" size=5><div dir=ltr>\n",
    "#Ratio<br>\n",
    "<font face=\"Vazir\" size=5><div dir=rtl>\n",
    "در دیتاست ما علاوه بر جمعیت، مساحت را نیز داریم از همین رو می‌خواهیم تراکم جمعیت یا نسبت جمعیت به مساحت را حساب کنیم و در ستون جدیدی قرار دهیم."
   ],
   "metadata": {
    "id": "rpYe4hCjHFLc"
   }
  },
  {
   "cell_type": "code",
   "source": [
    "# data['people_per_area'] = data['population'] / data['land_area']\n",
    "data['people_per_area'] = 0\n",
    "for i in range(len(data)):\n",
    "  data.loc[i, 'people_per_area'] = math.ceil(data.loc[i, 'population'] / (data.loc[i, 'land_area'] + 1))\n",
    "data.head()"
   ],
   "metadata": {
    "colab": {
     "base_uri": "https://localhost:8080/",
     "height": 206
    },
    "id": "wj4znwq9Uu29",
    "outputId": "fcb476c9-1501-4acb-e6c1-5c1dcd46017e"
   },
   "execution_count": 236,
   "outputs": [
    {
     "output_type": "execute_result",
     "data": {
      "text/plain": [
       "         country  population yearly_change  net_change  land_area  migrants  \\\n",
       "0          China  1440297825        0.39 %     5540090    9388211 -348399.0   \n",
       "1          India  1382345085        0.99 %    13586631    2973190 -532687.0   \n",
       "2  United States   331341050        0.59 %     1937734    9147420  954806.0   \n",
       "3      Indonesia   274021604        1.07 %     2898047    1811570  -98955.0   \n",
       "4       Pakistan   221612785        2.00 %     4327022     770880 -233379.0   \n",
       "\n",
       "   fert_rate med_age urban_pop world_share  people_per_area  \n",
       "0        1.7      38      61 %     18.47 %              154  \n",
       "1        2.2      28      35 %     17.70 %              465  \n",
       "2        1.8      38      83 %      4.25 %               37  \n",
       "3        2.3      30      56 %      3.51 %              152  \n",
       "4        3.6      23      35 %      2.83 %              288  "
      ],
      "text/html": [
       "\n",
       "  <div id=\"df-f4463b2d-1052-4a6f-9dca-7a945cb94cbb\">\n",
       "    <div class=\"colab-df-container\">\n",
       "      <div>\n",
       "<style scoped>\n",
       "    .dataframe tbody tr th:only-of-type {\n",
       "        vertical-align: middle;\n",
       "    }\n",
       "\n",
       "    .dataframe tbody tr th {\n",
       "        vertical-align: top;\n",
       "    }\n",
       "\n",
       "    .dataframe thead th {\n",
       "        text-align: right;\n",
       "    }\n",
       "</style>\n",
       "<table border=\"1\" class=\"dataframe\">\n",
       "  <thead>\n",
       "    <tr style=\"text-align: right;\">\n",
       "      <th></th>\n",
       "      <th>country</th>\n",
       "      <th>population</th>\n",
       "      <th>yearly_change</th>\n",
       "      <th>net_change</th>\n",
       "      <th>land_area</th>\n",
       "      <th>migrants</th>\n",
       "      <th>fert_rate</th>\n",
       "      <th>med_age</th>\n",
       "      <th>urban_pop</th>\n",
       "      <th>world_share</th>\n",
       "      <th>people_per_area</th>\n",
       "    </tr>\n",
       "  </thead>\n",
       "  <tbody>\n",
       "    <tr>\n",
       "      <th>0</th>\n",
       "      <td>China</td>\n",
       "      <td>1440297825</td>\n",
       "      <td>0.39 %</td>\n",
       "      <td>5540090</td>\n",
       "      <td>9388211</td>\n",
       "      <td>-348399.0</td>\n",
       "      <td>1.7</td>\n",
       "      <td>38</td>\n",
       "      <td>61 %</td>\n",
       "      <td>18.47 %</td>\n",
       "      <td>154</td>\n",
       "    </tr>\n",
       "    <tr>\n",
       "      <th>1</th>\n",
       "      <td>India</td>\n",
       "      <td>1382345085</td>\n",
       "      <td>0.99 %</td>\n",
       "      <td>13586631</td>\n",
       "      <td>2973190</td>\n",
       "      <td>-532687.0</td>\n",
       "      <td>2.2</td>\n",
       "      <td>28</td>\n",
       "      <td>35 %</td>\n",
       "      <td>17.70 %</td>\n",
       "      <td>465</td>\n",
       "    </tr>\n",
       "    <tr>\n",
       "      <th>2</th>\n",
       "      <td>United States</td>\n",
       "      <td>331341050</td>\n",
       "      <td>0.59 %</td>\n",
       "      <td>1937734</td>\n",
       "      <td>9147420</td>\n",
       "      <td>954806.0</td>\n",
       "      <td>1.8</td>\n",
       "      <td>38</td>\n",
       "      <td>83 %</td>\n",
       "      <td>4.25 %</td>\n",
       "      <td>37</td>\n",
       "    </tr>\n",
       "    <tr>\n",
       "      <th>3</th>\n",
       "      <td>Indonesia</td>\n",
       "      <td>274021604</td>\n",
       "      <td>1.07 %</td>\n",
       "      <td>2898047</td>\n",
       "      <td>1811570</td>\n",
       "      <td>-98955.0</td>\n",
       "      <td>2.3</td>\n",
       "      <td>30</td>\n",
       "      <td>56 %</td>\n",
       "      <td>3.51 %</td>\n",
       "      <td>152</td>\n",
       "    </tr>\n",
       "    <tr>\n",
       "      <th>4</th>\n",
       "      <td>Pakistan</td>\n",
       "      <td>221612785</td>\n",
       "      <td>2.00 %</td>\n",
       "      <td>4327022</td>\n",
       "      <td>770880</td>\n",
       "      <td>-233379.0</td>\n",
       "      <td>3.6</td>\n",
       "      <td>23</td>\n",
       "      <td>35 %</td>\n",
       "      <td>2.83 %</td>\n",
       "      <td>288</td>\n",
       "    </tr>\n",
       "  </tbody>\n",
       "</table>\n",
       "</div>\n",
       "      <button class=\"colab-df-convert\" onclick=\"convertToInteractive('df-f4463b2d-1052-4a6f-9dca-7a945cb94cbb')\"\n",
       "              title=\"Convert this dataframe to an interactive table.\"\n",
       "              style=\"display:none;\">\n",
       "        \n",
       "  <svg xmlns=\"http://www.w3.org/2000/svg\" height=\"24px\"viewBox=\"0 0 24 24\"\n",
       "       width=\"24px\">\n",
       "    <path d=\"M0 0h24v24H0V0z\" fill=\"none\"/>\n",
       "    <path d=\"M18.56 5.44l.94 2.06.94-2.06 2.06-.94-2.06-.94-.94-2.06-.94 2.06-2.06.94zm-11 1L8.5 8.5l.94-2.06 2.06-.94-2.06-.94L8.5 2.5l-.94 2.06-2.06.94zm10 10l.94 2.06.94-2.06 2.06-.94-2.06-.94-.94-2.06-.94 2.06-2.06.94z\"/><path d=\"M17.41 7.96l-1.37-1.37c-.4-.4-.92-.59-1.43-.59-.52 0-1.04.2-1.43.59L10.3 9.45l-7.72 7.72c-.78.78-.78 2.05 0 2.83L4 21.41c.39.39.9.59 1.41.59.51 0 1.02-.2 1.41-.59l7.78-7.78 2.81-2.81c.8-.78.8-2.07 0-2.86zM5.41 20L4 18.59l7.72-7.72 1.47 1.35L5.41 20z\"/>\n",
       "  </svg>\n",
       "      </button>\n",
       "      \n",
       "  <style>\n",
       "    .colab-df-container {\n",
       "      display:flex;\n",
       "      flex-wrap:wrap;\n",
       "      gap: 12px;\n",
       "    }\n",
       "\n",
       "    .colab-df-convert {\n",
       "      background-color: #E8F0FE;\n",
       "      border: none;\n",
       "      border-radius: 50%;\n",
       "      cursor: pointer;\n",
       "      display: none;\n",
       "      fill: #1967D2;\n",
       "      height: 32px;\n",
       "      padding: 0 0 0 0;\n",
       "      width: 32px;\n",
       "    }\n",
       "\n",
       "    .colab-df-convert:hover {\n",
       "      background-color: #E2EBFA;\n",
       "      box-shadow: 0px 1px 2px rgba(60, 64, 67, 0.3), 0px 1px 3px 1px rgba(60, 64, 67, 0.15);\n",
       "      fill: #174EA6;\n",
       "    }\n",
       "\n",
       "    [theme=dark] .colab-df-convert {\n",
       "      background-color: #3B4455;\n",
       "      fill: #D2E3FC;\n",
       "    }\n",
       "\n",
       "    [theme=dark] .colab-df-convert:hover {\n",
       "      background-color: #434B5C;\n",
       "      box-shadow: 0px 1px 3px 1px rgba(0, 0, 0, 0.15);\n",
       "      filter: drop-shadow(0px 1px 2px rgba(0, 0, 0, 0.3));\n",
       "      fill: #FFFFFF;\n",
       "    }\n",
       "  </style>\n",
       "\n",
       "      <script>\n",
       "        const buttonEl =\n",
       "          document.querySelector('#df-f4463b2d-1052-4a6f-9dca-7a945cb94cbb button.colab-df-convert');\n",
       "        buttonEl.style.display =\n",
       "          google.colab.kernel.accessAllowed ? 'block' : 'none';\n",
       "\n",
       "        async function convertToInteractive(key) {\n",
       "          const element = document.querySelector('#df-f4463b2d-1052-4a6f-9dca-7a945cb94cbb');\n",
       "          const dataTable =\n",
       "            await google.colab.kernel.invokeFunction('convertToInteractive',\n",
       "                                                     [key], {});\n",
       "          if (!dataTable) return;\n",
       "\n",
       "          const docLinkHtml = 'Like what you see? Visit the ' +\n",
       "            '<a target=\"_blank\" href=https://colab.research.google.com/notebooks/data_table.ipynb>data table notebook</a>'\n",
       "            + ' to learn more about interactive tables.';\n",
       "          element.innerHTML = '';\n",
       "          dataTable['output_type'] = 'display_data';\n",
       "          await google.colab.output.renderOutput(dataTable, element);\n",
       "          const docLink = document.createElement('div');\n",
       "          docLink.innerHTML = docLinkHtml;\n",
       "          element.appendChild(docLink);\n",
       "        }\n",
       "      </script>\n",
       "    </div>\n",
       "  </div>\n",
       "  "
      ]
     },
     "metadata": {},
     "execution_count": 236
    }
   ]
  },
  {
   "cell_type": "code",
   "source": [
    "low_density = data[[\"country\",\"people_per_area\"]].sort_values(by= \"people_per_area\",ascending=True).head(10)\n",
    "low_density.head()"
   ],
   "metadata": {
    "colab": {
     "base_uri": "https://localhost:8080/",
     "height": 206
    },
    "id": "i-kp31aCudnl",
    "outputId": "0d248720-9a82-4abc-c6bb-04bce883672e"
   },
   "execution_count": 237,
   "outputs": [
    {
     "output_type": "execute_result",
     "data": {
      "text/plain": [
       "              country  people_per_area\n",
       "208         Greenland                1\n",
       "231  Falkland Islands                1\n",
       "169    Western Sahara                3\n",
       "135          Mongolia                3\n",
       "181     French Guiana                4"
      ],
      "text/html": [
       "\n",
       "  <div id=\"df-14c0ec88-5e04-45b0-ad37-5cdb4143c859\">\n",
       "    <div class=\"colab-df-container\">\n",
       "      <div>\n",
       "<style scoped>\n",
       "    .dataframe tbody tr th:only-of-type {\n",
       "        vertical-align: middle;\n",
       "    }\n",
       "\n",
       "    .dataframe tbody tr th {\n",
       "        vertical-align: top;\n",
       "    }\n",
       "\n",
       "    .dataframe thead th {\n",
       "        text-align: right;\n",
       "    }\n",
       "</style>\n",
       "<table border=\"1\" class=\"dataframe\">\n",
       "  <thead>\n",
       "    <tr style=\"text-align: right;\">\n",
       "      <th></th>\n",
       "      <th>country</th>\n",
       "      <th>people_per_area</th>\n",
       "    </tr>\n",
       "  </thead>\n",
       "  <tbody>\n",
       "    <tr>\n",
       "      <th>208</th>\n",
       "      <td>Greenland</td>\n",
       "      <td>1</td>\n",
       "    </tr>\n",
       "    <tr>\n",
       "      <th>231</th>\n",
       "      <td>Falkland Islands</td>\n",
       "      <td>1</td>\n",
       "    </tr>\n",
       "    <tr>\n",
       "      <th>169</th>\n",
       "      <td>Western Sahara</td>\n",
       "      <td>3</td>\n",
       "    </tr>\n",
       "    <tr>\n",
       "      <th>135</th>\n",
       "      <td>Mongolia</td>\n",
       "      <td>3</td>\n",
       "    </tr>\n",
       "    <tr>\n",
       "      <th>181</th>\n",
       "      <td>French Guiana</td>\n",
       "      <td>4</td>\n",
       "    </tr>\n",
       "  </tbody>\n",
       "</table>\n",
       "</div>\n",
       "      <button class=\"colab-df-convert\" onclick=\"convertToInteractive('df-14c0ec88-5e04-45b0-ad37-5cdb4143c859')\"\n",
       "              title=\"Convert this dataframe to an interactive table.\"\n",
       "              style=\"display:none;\">\n",
       "        \n",
       "  <svg xmlns=\"http://www.w3.org/2000/svg\" height=\"24px\"viewBox=\"0 0 24 24\"\n",
       "       width=\"24px\">\n",
       "    <path d=\"M0 0h24v24H0V0z\" fill=\"none\"/>\n",
       "    <path d=\"M18.56 5.44l.94 2.06.94-2.06 2.06-.94-2.06-.94-.94-2.06-.94 2.06-2.06.94zm-11 1L8.5 8.5l.94-2.06 2.06-.94-2.06-.94L8.5 2.5l-.94 2.06-2.06.94zm10 10l.94 2.06.94-2.06 2.06-.94-2.06-.94-.94-2.06-.94 2.06-2.06.94z\"/><path d=\"M17.41 7.96l-1.37-1.37c-.4-.4-.92-.59-1.43-.59-.52 0-1.04.2-1.43.59L10.3 9.45l-7.72 7.72c-.78.78-.78 2.05 0 2.83L4 21.41c.39.39.9.59 1.41.59.51 0 1.02-.2 1.41-.59l7.78-7.78 2.81-2.81c.8-.78.8-2.07 0-2.86zM5.41 20L4 18.59l7.72-7.72 1.47 1.35L5.41 20z\"/>\n",
       "  </svg>\n",
       "      </button>\n",
       "      \n",
       "  <style>\n",
       "    .colab-df-container {\n",
       "      display:flex;\n",
       "      flex-wrap:wrap;\n",
       "      gap: 12px;\n",
       "    }\n",
       "\n",
       "    .colab-df-convert {\n",
       "      background-color: #E8F0FE;\n",
       "      border: none;\n",
       "      border-radius: 50%;\n",
       "      cursor: pointer;\n",
       "      display: none;\n",
       "      fill: #1967D2;\n",
       "      height: 32px;\n",
       "      padding: 0 0 0 0;\n",
       "      width: 32px;\n",
       "    }\n",
       "\n",
       "    .colab-df-convert:hover {\n",
       "      background-color: #E2EBFA;\n",
       "      box-shadow: 0px 1px 2px rgba(60, 64, 67, 0.3), 0px 1px 3px 1px rgba(60, 64, 67, 0.15);\n",
       "      fill: #174EA6;\n",
       "    }\n",
       "\n",
       "    [theme=dark] .colab-df-convert {\n",
       "      background-color: #3B4455;\n",
       "      fill: #D2E3FC;\n",
       "    }\n",
       "\n",
       "    [theme=dark] .colab-df-convert:hover {\n",
       "      background-color: #434B5C;\n",
       "      box-shadow: 0px 1px 3px 1px rgba(0, 0, 0, 0.15);\n",
       "      filter: drop-shadow(0px 1px 2px rgba(0, 0, 0, 0.3));\n",
       "      fill: #FFFFFF;\n",
       "    }\n",
       "  </style>\n",
       "\n",
       "      <script>\n",
       "        const buttonEl =\n",
       "          document.querySelector('#df-14c0ec88-5e04-45b0-ad37-5cdb4143c859 button.colab-df-convert');\n",
       "        buttonEl.style.display =\n",
       "          google.colab.kernel.accessAllowed ? 'block' : 'none';\n",
       "\n",
       "        async function convertToInteractive(key) {\n",
       "          const element = document.querySelector('#df-14c0ec88-5e04-45b0-ad37-5cdb4143c859');\n",
       "          const dataTable =\n",
       "            await google.colab.kernel.invokeFunction('convertToInteractive',\n",
       "                                                     [key], {});\n",
       "          if (!dataTable) return;\n",
       "\n",
       "          const docLinkHtml = 'Like what you see? Visit the ' +\n",
       "            '<a target=\"_blank\" href=https://colab.research.google.com/notebooks/data_table.ipynb>data table notebook</a>'\n",
       "            + ' to learn more about interactive tables.';\n",
       "          element.innerHTML = '';\n",
       "          dataTable['output_type'] = 'display_data';\n",
       "          await google.colab.output.renderOutput(dataTable, element);\n",
       "          const docLink = document.createElement('div');\n",
       "          docLink.innerHTML = docLinkHtml;\n",
       "          element.appendChild(docLink);\n",
       "        }\n",
       "      </script>\n",
       "    </div>\n",
       "  </div>\n",
       "  "
      ]
     },
     "metadata": {},
     "execution_count": 237
    }
   ]
  },
  {
   "cell_type": "markdown",
   "source": [
    "<font face=\"Vazir\" size=5><div dir=rtl>\n",
    "به وسیله نمودارهای زیر تراکم جمعیت‌های زیاد و کم را نمایش می‌دهیم."
   ],
   "metadata": {
    "id": "uWWq_DaqQsS3"
   }
  },
  {
   "cell_type": "code",
   "source": [
    "high_density = data[[\"country\",\"people_per_area\"]].sort_values(by=\"people_per_area\",ascending=False).head(10)\n",
    "high_density.head()"
   ],
   "metadata": {
    "colab": {
     "base_uri": "https://localhost:8080/",
     "height": 206
    },
    "id": "no-awLlvuwQ0",
    "outputId": "0fffa573-6d79-493d-8d50-27455d72b5ca"
   },
   "execution_count": 238,
   "outputs": [
    {
     "output_type": "execute_result",
     "data": {
      "text/plain": [
       "       country  people_per_area\n",
       "166      Macao            20996\n",
       "213     Monaco            19645\n",
       "113  Singapore             8358\n",
       "103  Hong Kong             7144\n",
       "218  Gibraltar             3063"
      ],
      "text/html": [
       "\n",
       "  <div id=\"df-59ca26bd-ff2a-48e4-9f3f-3e33ea726625\">\n",
       "    <div class=\"colab-df-container\">\n",
       "      <div>\n",
       "<style scoped>\n",
       "    .dataframe tbody tr th:only-of-type {\n",
       "        vertical-align: middle;\n",
       "    }\n",
       "\n",
       "    .dataframe tbody tr th {\n",
       "        vertical-align: top;\n",
       "    }\n",
       "\n",
       "    .dataframe thead th {\n",
       "        text-align: right;\n",
       "    }\n",
       "</style>\n",
       "<table border=\"1\" class=\"dataframe\">\n",
       "  <thead>\n",
       "    <tr style=\"text-align: right;\">\n",
       "      <th></th>\n",
       "      <th>country</th>\n",
       "      <th>people_per_area</th>\n",
       "    </tr>\n",
       "  </thead>\n",
       "  <tbody>\n",
       "    <tr>\n",
       "      <th>166</th>\n",
       "      <td>Macao</td>\n",
       "      <td>20996</td>\n",
       "    </tr>\n",
       "    <tr>\n",
       "      <th>213</th>\n",
       "      <td>Monaco</td>\n",
       "      <td>19645</td>\n",
       "    </tr>\n",
       "    <tr>\n",
       "      <th>113</th>\n",
       "      <td>Singapore</td>\n",
       "      <td>8358</td>\n",
       "    </tr>\n",
       "    <tr>\n",
       "      <th>103</th>\n",
       "      <td>Hong Kong</td>\n",
       "      <td>7144</td>\n",
       "    </tr>\n",
       "    <tr>\n",
       "      <th>218</th>\n",
       "      <td>Gibraltar</td>\n",
       "      <td>3063</td>\n",
       "    </tr>\n",
       "  </tbody>\n",
       "</table>\n",
       "</div>\n",
       "      <button class=\"colab-df-convert\" onclick=\"convertToInteractive('df-59ca26bd-ff2a-48e4-9f3f-3e33ea726625')\"\n",
       "              title=\"Convert this dataframe to an interactive table.\"\n",
       "              style=\"display:none;\">\n",
       "        \n",
       "  <svg xmlns=\"http://www.w3.org/2000/svg\" height=\"24px\"viewBox=\"0 0 24 24\"\n",
       "       width=\"24px\">\n",
       "    <path d=\"M0 0h24v24H0V0z\" fill=\"none\"/>\n",
       "    <path d=\"M18.56 5.44l.94 2.06.94-2.06 2.06-.94-2.06-.94-.94-2.06-.94 2.06-2.06.94zm-11 1L8.5 8.5l.94-2.06 2.06-.94-2.06-.94L8.5 2.5l-.94 2.06-2.06.94zm10 10l.94 2.06.94-2.06 2.06-.94-2.06-.94-.94-2.06-.94 2.06-2.06.94z\"/><path d=\"M17.41 7.96l-1.37-1.37c-.4-.4-.92-.59-1.43-.59-.52 0-1.04.2-1.43.59L10.3 9.45l-7.72 7.72c-.78.78-.78 2.05 0 2.83L4 21.41c.39.39.9.59 1.41.59.51 0 1.02-.2 1.41-.59l7.78-7.78 2.81-2.81c.8-.78.8-2.07 0-2.86zM5.41 20L4 18.59l7.72-7.72 1.47 1.35L5.41 20z\"/>\n",
       "  </svg>\n",
       "      </button>\n",
       "      \n",
       "  <style>\n",
       "    .colab-df-container {\n",
       "      display:flex;\n",
       "      flex-wrap:wrap;\n",
       "      gap: 12px;\n",
       "    }\n",
       "\n",
       "    .colab-df-convert {\n",
       "      background-color: #E8F0FE;\n",
       "      border: none;\n",
       "      border-radius: 50%;\n",
       "      cursor: pointer;\n",
       "      display: none;\n",
       "      fill: #1967D2;\n",
       "      height: 32px;\n",
       "      padding: 0 0 0 0;\n",
       "      width: 32px;\n",
       "    }\n",
       "\n",
       "    .colab-df-convert:hover {\n",
       "      background-color: #E2EBFA;\n",
       "      box-shadow: 0px 1px 2px rgba(60, 64, 67, 0.3), 0px 1px 3px 1px rgba(60, 64, 67, 0.15);\n",
       "      fill: #174EA6;\n",
       "    }\n",
       "\n",
       "    [theme=dark] .colab-df-convert {\n",
       "      background-color: #3B4455;\n",
       "      fill: #D2E3FC;\n",
       "    }\n",
       "\n",
       "    [theme=dark] .colab-df-convert:hover {\n",
       "      background-color: #434B5C;\n",
       "      box-shadow: 0px 1px 3px 1px rgba(0, 0, 0, 0.15);\n",
       "      filter: drop-shadow(0px 1px 2px rgba(0, 0, 0, 0.3));\n",
       "      fill: #FFFFFF;\n",
       "    }\n",
       "  </style>\n",
       "\n",
       "      <script>\n",
       "        const buttonEl =\n",
       "          document.querySelector('#df-59ca26bd-ff2a-48e4-9f3f-3e33ea726625 button.colab-df-convert');\n",
       "        buttonEl.style.display =\n",
       "          google.colab.kernel.accessAllowed ? 'block' : 'none';\n",
       "\n",
       "        async function convertToInteractive(key) {\n",
       "          const element = document.querySelector('#df-59ca26bd-ff2a-48e4-9f3f-3e33ea726625');\n",
       "          const dataTable =\n",
       "            await google.colab.kernel.invokeFunction('convertToInteractive',\n",
       "                                                     [key], {});\n",
       "          if (!dataTable) return;\n",
       "\n",
       "          const docLinkHtml = 'Like what you see? Visit the ' +\n",
       "            '<a target=\"_blank\" href=https://colab.research.google.com/notebooks/data_table.ipynb>data table notebook</a>'\n",
       "            + ' to learn more about interactive tables.';\n",
       "          element.innerHTML = '';\n",
       "          dataTable['output_type'] = 'display_data';\n",
       "          await google.colab.output.renderOutput(dataTable, element);\n",
       "          const docLink = document.createElement('div');\n",
       "          docLink.innerHTML = docLinkHtml;\n",
       "          element.appendChild(docLink);\n",
       "        }\n",
       "      </script>\n",
       "    </div>\n",
       "  </div>\n",
       "  "
      ]
     },
     "metadata": {},
     "execution_count": 238
    }
   ]
  },
  {
   "cell_type": "code",
   "source": [
    "low_density = low_density.sort_values(by='people_per_area', ascending=False)\n",
    "\n",
    "plt.figure(figsize=(17,5))\n",
    "plt.subplot(2,1,1)\n",
    "sns.barplot(x=\"country\",y=\"people_per_area\",data=high_density)\n",
    "\n",
    "plt.subplot(2,1,2)\n",
    "sns.barplot(x=\"country\",y=\"people_per_area\",data=low_density)\n"
   ],
   "metadata": {
    "colab": {
     "base_uri": "https://localhost:8080/",
     "height": 351
    },
    "id": "tEZncctJuT4s",
    "outputId": "ebce7365-a6a9-44e0-e566-b5e85738fa7f"
   },
   "execution_count": 239,
   "outputs": [
    {
     "output_type": "execute_result",
     "data": {
      "text/plain": [
       "<matplotlib.axes._subplots.AxesSubplot at 0x7f1489eeb690>"
      ]
     },
     "metadata": {},
     "execution_count": 239
    },
    {
     "output_type": "display_data",
     "data": {
      "text/plain": [
       "<Figure size 1224x360 with 2 Axes>"
      ],
      "image/png": "[encoded data removed]"
     },
     "metadata": {
      "needs_background": "light"
     }
    }
   ]
  },
  {
   "cell_type": "code",
   "source": [
    "migration_st=data[[\"country\",\"migrants\"]].sort_values(by= \"migrants\",ascending=False).head(10)\n",
    "migration_st.head()"
   ],
   "metadata": {
    "colab": {
     "base_uri": "https://localhost:8080/",
     "height": 206
    },
    "id": "ol-q3DwdwqCr",
    "outputId": "8951513c-a80d-4047-9462-41fd7fcbb37e"
   },
   "execution_count": 240,
   "outputs": [
    {
     "output_type": "execute_result",
     "data": {
      "text/plain": [
       "           country  migrants\n",
       "2    United States  954806.0\n",
       "18         Germany  543822.0\n",
       "16          Turkey  283922.0\n",
       "20  United Kingdom  260650.0\n",
       "38          Canada  242032.0"
      ],
      "text/html": [
       "\n",
       "  <div id=\"df-43c54611-142c-4d74-96fa-62ceeaba8310\">\n",
       "    <div class=\"colab-df-container\">\n",
       "      <div>\n",
       "<style scoped>\n",
       "    .dataframe tbody tr th:only-of-type {\n",
       "        vertical-align: middle;\n",
       "    }\n",
       "\n",
       "    .dataframe tbody tr th {\n",
       "        vertical-align: top;\n",
       "    }\n",
       "\n",
       "    .dataframe thead th {\n",
       "        text-align: right;\n",
       "    }\n",
       "</style>\n",
       "<table border=\"1\" class=\"dataframe\">\n",
       "  <thead>\n",
       "    <tr style=\"text-align: right;\">\n",
       "      <th></th>\n",
       "      <th>country</th>\n",
       "      <th>migrants</th>\n",
       "    </tr>\n",
       "  </thead>\n",
       "  <tbody>\n",
       "    <tr>\n",
       "      <th>2</th>\n",
       "      <td>United States</td>\n",
       "      <td>954806.0</td>\n",
       "    </tr>\n",
       "    <tr>\n",
       "      <th>18</th>\n",
       "      <td>Germany</td>\n",
       "      <td>543822.0</td>\n",
       "    </tr>\n",
       "    <tr>\n",
       "      <th>16</th>\n",
       "      <td>Turkey</td>\n",
       "      <td>283922.0</td>\n",
       "    </tr>\n",
       "    <tr>\n",
       "      <th>20</th>\n",
       "      <td>United Kingdom</td>\n",
       "      <td>260650.0</td>\n",
       "    </tr>\n",
       "    <tr>\n",
       "      <th>38</th>\n",
       "      <td>Canada</td>\n",
       "      <td>242032.0</td>\n",
       "    </tr>\n",
       "  </tbody>\n",
       "</table>\n",
       "</div>\n",
       "      <button class=\"colab-df-convert\" onclick=\"convertToInteractive('df-43c54611-142c-4d74-96fa-62ceeaba8310')\"\n",
       "              title=\"Convert this dataframe to an interactive table.\"\n",
       "              style=\"display:none;\">\n",
       "        \n",
       "  <svg xmlns=\"http://www.w3.org/2000/svg\" height=\"24px\"viewBox=\"0 0 24 24\"\n",
       "       width=\"24px\">\n",
       "    <path d=\"M0 0h24v24H0V0z\" fill=\"none\"/>\n",
       "    <path d=\"M18.56 5.44l.94 2.06.94-2.06 2.06-.94-2.06-.94-.94-2.06-.94 2.06-2.06.94zm-11 1L8.5 8.5l.94-2.06 2.06-.94-2.06-.94L8.5 2.5l-.94 2.06-2.06.94zm10 10l.94 2.06.94-2.06 2.06-.94-2.06-.94-.94-2.06-.94 2.06-2.06.94z\"/><path d=\"M17.41 7.96l-1.37-1.37c-.4-.4-.92-.59-1.43-.59-.52 0-1.04.2-1.43.59L10.3 9.45l-7.72 7.72c-.78.78-.78 2.05 0 2.83L4 21.41c.39.39.9.59 1.41.59.51 0 1.02-.2 1.41-.59l7.78-7.78 2.81-2.81c.8-.78.8-2.07 0-2.86zM5.41 20L4 18.59l7.72-7.72 1.47 1.35L5.41 20z\"/>\n",
       "  </svg>\n",
       "      </button>\n",
       "      \n",
       "  <style>\n",
       "    .colab-df-container {\n",
       "      display:flex;\n",
       "      flex-wrap:wrap;\n",
       "      gap: 12px;\n",
       "    }\n",
       "\n",
       "    .colab-df-convert {\n",
       "      background-color: #E8F0FE;\n",
       "      border: none;\n",
       "      border-radius: 50%;\n",
       "      cursor: pointer;\n",
       "      display: none;\n",
       "      fill: #1967D2;\n",
       "      height: 32px;\n",
       "      padding: 0 0 0 0;\n",
       "      width: 32px;\n",
       "    }\n",
       "\n",
       "    .colab-df-convert:hover {\n",
       "      background-color: #E2EBFA;\n",
       "      box-shadow: 0px 1px 2px rgba(60, 64, 67, 0.3), 0px 1px 3px 1px rgba(60, 64, 67, 0.15);\n",
       "      fill: #174EA6;\n",
       "    }\n",
       "\n",
       "    [theme=dark] .colab-df-convert {\n",
       "      background-color: #3B4455;\n",
       "      fill: #D2E3FC;\n",
       "    }\n",
       "\n",
       "    [theme=dark] .colab-df-convert:hover {\n",
       "      background-color: #434B5C;\n",
       "      box-shadow: 0px 1px 3px 1px rgba(0, 0, 0, 0.15);\n",
       "      filter: drop-shadow(0px 1px 2px rgba(0, 0, 0, 0.3));\n",
       "      fill: #FFFFFF;\n",
       "    }\n",
       "  </style>\n",
       "\n",
       "      <script>\n",
       "        const buttonEl =\n",
       "          document.querySelector('#df-43c54611-142c-4d74-96fa-62ceeaba8310 button.colab-df-convert');\n",
       "        buttonEl.style.display =\n",
       "          google.colab.kernel.accessAllowed ? 'block' : 'none';\n",
       "\n",
       "        async function convertToInteractive(key) {\n",
       "          const element = document.querySelector('#df-43c54611-142c-4d74-96fa-62ceeaba8310');\n",
       "          const dataTable =\n",
       "            await google.colab.kernel.invokeFunction('convertToInteractive',\n",
       "                                                     [key], {});\n",
       "          if (!dataTable) return;\n",
       "\n",
       "          const docLinkHtml = 'Like what you see? Visit the ' +\n",
       "            '<a target=\"_blank\" href=https://colab.research.google.com/notebooks/data_table.ipynb>data table notebook</a>'\n",
       "            + ' to learn more about interactive tables.';\n",
       "          element.innerHTML = '';\n",
       "          dataTable['output_type'] = 'display_data';\n",
       "          await google.colab.output.renderOutput(dataTable, element);\n",
       "          const docLink = document.createElement('div');\n",
       "          docLink.innerHTML = docLinkHtml;\n",
       "          element.appendChild(docLink);\n",
       "        }\n",
       "      </script>\n",
       "    </div>\n",
       "  </div>\n",
       "  "
      ]
     },
     "metadata": {},
     "execution_count": 240
    }
   ]
  },
  {
   "cell_type": "code",
   "source": [
    "migration_st2=data[[\"country\",\"migrants\"]].sort_values(by= \"migrants\", ascending=True).head(10)\n",
    "migration_st2.head()"
   ],
   "metadata": {
    "colab": {
     "base_uri": "https://localhost:8080/",
     "height": 206
    },
    "id": "0cbi5xBTwwsc",
    "outputId": "b2272eda-fae9-43fa-fe37-81f95af37fbe"
   },
   "execution_count": 241,
   "outputs": [
    {
     "output_type": "execute_result",
     "data": {
      "text/plain": [
       "       country  migrants\n",
       "49   Venezuela -653249.0\n",
       "1        India -532687.0\n",
       "67       Syria -427391.0\n",
       "7   Bangladesh -369501.0\n",
       "0        China -348399.0"
      ],
      "text/html": [
       "\n",
       "  <div id=\"df-46d43849-4bd5-4b44-a35b-4ddd9e5db387\">\n",
       "    <div class=\"colab-df-container\">\n",
       "      <div>\n",
       "<style scoped>\n",
       "    .dataframe tbody tr th:only-of-type {\n",
       "        vertical-align: middle;\n",
       "    }\n",
       "\n",
       "    .dataframe tbody tr th {\n",
       "        vertical-align: top;\n",
       "    }\n",
       "\n",
       "    .dataframe thead th {\n",
       "        text-align: right;\n",
       "    }\n",
       "</style>\n",
       "<table border=\"1\" class=\"dataframe\">\n",
       "  <thead>\n",
       "    <tr style=\"text-align: right;\">\n",
       "      <th></th>\n",
       "      <th>country</th>\n",
       "      <th>migrants</th>\n",
       "    </tr>\n",
       "  </thead>\n",
       "  <tbody>\n",
       "    <tr>\n",
       "      <th>49</th>\n",
       "      <td>Venezuela</td>\n",
       "      <td>-653249.0</td>\n",
       "    </tr>\n",
       "    <tr>\n",
       "      <th>1</th>\n",
       "      <td>India</td>\n",
       "      <td>-532687.0</td>\n",
       "    </tr>\n",
       "    <tr>\n",
       "      <th>67</th>\n",
       "      <td>Syria</td>\n",
       "      <td>-427391.0</td>\n",
       "    </tr>\n",
       "    <tr>\n",
       "      <th>7</th>\n",
       "      <td>Bangladesh</td>\n",
       "      <td>-369501.0</td>\n",
       "    </tr>\n",
       "    <tr>\n",
       "      <th>0</th>\n",
       "      <td>China</td>\n",
       "      <td>-348399.0</td>\n",
       "    </tr>\n",
       "  </tbody>\n",
       "</table>\n",
       "</div>\n",
       "      <button class=\"colab-df-convert\" onclick=\"convertToInteractive('df-46d43849-4bd5-4b44-a35b-4ddd9e5db387')\"\n",
       "              title=\"Convert this dataframe to an interactive table.\"\n",
       "              style=\"display:none;\">\n",
       "        \n",
       "  <svg xmlns=\"http://www.w3.org/2000/svg\" height=\"24px\"viewBox=\"0 0 24 24\"\n",
       "       width=\"24px\">\n",
       "    <path d=\"M0 0h24v24H0V0z\" fill=\"none\"/>\n",
       "    <path d=\"M18.56 5.44l.94 2.06.94-2.06 2.06-.94-2.06-.94-.94-2.06-.94 2.06-2.06.94zm-11 1L8.5 8.5l.94-2.06 2.06-.94-2.06-.94L8.5 2.5l-.94 2.06-2.06.94zm10 10l.94 2.06.94-2.06 2.06-.94-2.06-.94-.94-2.06-.94 2.06-2.06.94z\"/><path d=\"M17.41 7.96l-1.37-1.37c-.4-.4-.92-.59-1.43-.59-.52 0-1.04.2-1.43.59L10.3 9.45l-7.72 7.72c-.78.78-.78 2.05 0 2.83L4 21.41c.39.39.9.59 1.41.59.51 0 1.02-.2 1.41-.59l7.78-7.78 2.81-2.81c.8-.78.8-2.07 0-2.86zM5.41 20L4 18.59l7.72-7.72 1.47 1.35L5.41 20z\"/>\n",
       "  </svg>\n",
       "      </button>\n",
       "      \n",
       "  <style>\n",
       "    .colab-df-container {\n",
       "      display:flex;\n",
       "      flex-wrap:wrap;\n",
       "      gap: 12px;\n",
       "    }\n",
       "\n",
       "    .colab-df-convert {\n",
       "      background-color: #E8F0FE;\n",
       "      border: none;\n",
       "      border-radius: 50%;\n",
       "      cursor: pointer;\n",
       "      display: none;\n",
       "      fill: #1967D2;\n",
       "      height: 32px;\n",
       "      padding: 0 0 0 0;\n",
       "      width: 32px;\n",
       "    }\n",
       "\n",
       "    .colab-df-convert:hover {\n",
       "      background-color: #E2EBFA;\n",
       "      box-shadow: 0px 1px 2px rgba(60, 64, 67, 0.3), 0px 1px 3px 1px rgba(60, 64, 67, 0.15);\n",
       "      fill: #174EA6;\n",
       "    }\n",
       "\n",
       "    [theme=dark] .colab-df-convert {\n",
       "      background-color: #3B4455;\n",
       "      fill: #D2E3FC;\n",
       "    }\n",
       "\n",
       "    [theme=dark] .colab-df-convert:hover {\n",
       "      background-color: #434B5C;\n",
       "      box-shadow: 0px 1px 3px 1px rgba(0, 0, 0, 0.15);\n",
       "      filter: drop-shadow(0px 1px 2px rgba(0, 0, 0, 0.3));\n",
       "      fill: #FFFFFF;\n",
       "    }\n",
       "  </style>\n",
       "\n",
       "      <script>\n",
       "        const buttonEl =\n",
       "          document.querySelector('#df-46d43849-4bd5-4b44-a35b-4ddd9e5db387 button.colab-df-convert');\n",
       "        buttonEl.style.display =\n",
       "          google.colab.kernel.accessAllowed ? 'block' : 'none';\n",
       "\n",
       "        async function convertToInteractive(key) {\n",
       "          const element = document.querySelector('#df-46d43849-4bd5-4b44-a35b-4ddd9e5db387');\n",
       "          const dataTable =\n",
       "            await google.colab.kernel.invokeFunction('convertToInteractive',\n",
       "                                                     [key], {});\n",
       "          if (!dataTable) return;\n",
       "\n",
       "          const docLinkHtml = 'Like what you see? Visit the ' +\n",
       "            '<a target=\"_blank\" href=https://colab.research.google.com/notebooks/data_table.ipynb>data table notebook</a>'\n",
       "            + ' to learn more about interactive tables.';\n",
       "          element.innerHTML = '';\n",
       "          dataTable['output_type'] = 'display_data';\n",
       "          await google.colab.output.renderOutput(dataTable, element);\n",
       "          const docLink = document.createElement('div');\n",
       "          docLink.innerHTML = docLinkHtml;\n",
       "          element.appendChild(docLink);\n",
       "        }\n",
       "      </script>\n",
       "    </div>\n",
       "  </div>\n",
       "  "
      ]
     },
     "metadata": {},
     "execution_count": 241
    }
   ]
  },
  {
   "cell_type": "markdown",
   "source": [
    "<font face=\"Vazir\" size=5><div dir=rtl>\n",
    "همانطور که در جدول دیدم در ستون مهاجران، برخی کشورها مقدار منفی داشتند که نمایانگر مهاجرناپذیری و مهاجرت افراد بومی به خارج از کشور است که نمودار جالبی دارد و در ادامه می‌بینیم."
   ],
   "metadata": {
    "id": "nTVLYTWvQ3mC"
   }
  },
  {
   "cell_type": "code",
   "source": [
    "plt.figure(figsize=(17,5))\n",
    "plt.subplot(2,1,1)\n",
    "sns.barplot(x=\"country\",y=\"migrants\",data=migration_st)\n",
    "\n",
    "plt.figure(figsize=(17,5))\n",
    "plt.subplot(2,1,2)\n",
    "sns.barplot(x=\"country\",y=\"migrants\",data=migration_st2)"
   ],
   "metadata": {
    "colab": {
     "base_uri": "https://localhost:8080/",
     "height": 385
    },
    "id": "pOWAjghAw8zL",
    "outputId": "8278b9a0-e886-4670-a671-4b85654bf021"
   },
   "execution_count": 242,
   "outputs": [
    {
     "output_type": "execute_result",
     "data": {
      "text/plain": [
       "<matplotlib.axes._subplots.AxesSubplot at 0x7f148ad170d0>"
      ]
     },
     "metadata": {},
     "execution_count": 242
    },
    {
     "output_type": "display_data",
     "data": {
      "text/plain": [
       "<Figure size 1224x360 with 1 Axes>"
      ],
      "image/png": "[encoded data removed]"
     },
     "metadata": {
      "needs_background": "light"
     }
    },
    {
     "output_type": "display_data",
     "data": {
      "text/plain": [
       "<Figure size 1224x360 with 1 Axes>"
      ],
      "image/png": "[encoded data removed]"
     },
     "metadata": {
      "needs_background": "light"
     }
    }
   ]
  },
  {
   "cell_type": "markdown",
   "source": [
    "<font face=\"Vazir\" size=5><div dir=ltr>\n",
    "#Binning <br>\n",
    "<font face=\"Vazir\" size=5><div dir=rtl>\n",
    "در دیتاست ما فیچری تحت عنوان میانگین سنی وجود دارد، این فیچر که مینیمم ۱۵ سال و ماکسیمم ۴۸ سال را دارد را می‌توان به سه دسته جوان، میانسال و مسن دسته‌بندی کرد."
   ],
   "metadata": {
    "id": "o5gT22hnRPnQ"
   }
  },
  {
   "cell_type": "code",
   "source": [
    "print('youngest country med age: ', min(data.loc[:200, 'med_age']))\n",
    "print('oldest country med age: ', max(data.loc[:200, 'med_age']))"
   ],
   "metadata": {
    "colab": {
     "base_uri": "https://localhost:8080/"
    },
    "id": "pAIuxdYFRddM",
    "outputId": "3e73c6c0-2545-4493-f3e7-938e18bd8534"
   },
   "execution_count": 243,
   "outputs": [
    {
     "output_type": "stream",
     "name": "stdout",
     "text": [
      "youngest country med age:  15\n",
      "oldest country med age:  48\n"
     ]
    }
   ]
  },
  {
   "cell_type": "code",
   "source": [
    "data['med_age'] = data['med_age'].astype('float')\n",
    "med_age_mean = data['med_age'].mean()\n",
    "data['med_age'] = data['med_age'].fillna(migrants_mean)"
   ],
   "metadata": {
    "id": "FerACAxJSG99"
   },
   "execution_count": 244,
   "outputs": []
  },
  {
   "cell_type": "code",
   "source": [
    "# young: x < 25\n",
    "# mid: 25 < x < 40\n",
    "# old: 40 < x\n",
    "bins = [0, 25, 40, 50]\n",
    "labels = ['young', 'mid', 'old']\n",
    "data['binned_age'] = pd.cut(data['med_age'], bins=bins, labels=labels)"
   ],
   "metadata": {
    "id": "z_DJDj9Kb9sm"
   },
   "execution_count": 245,
   "outputs": []
  },
  {
   "cell_type": "code",
   "source": [
    "data.head()"
   ],
   "metadata": {
    "colab": {
     "base_uri": "https://localhost:8080/",
     "height": 287
    },
    "id": "jjb6T0aMcgOj",
    "outputId": "98f2ea9f-653f-4f6d-c281-a46c062758f4"
   },
   "execution_count": 246,
   "outputs": [
    {
     "output_type": "execute_result",
     "data": {
      "text/plain": [
       "         country  population yearly_change  net_change  land_area  migrants  \\\n",
       "0          China  1440297825        0.39 %     5540090    9388211 -348399.0   \n",
       "1          India  1382345085        0.99 %    13586631    2973190 -532687.0   \n",
       "2  United States   331341050        0.59 %     1937734    9147420  954806.0   \n",
       "3      Indonesia   274021604        1.07 %     2898047    1811570  -98955.0   \n",
       "4       Pakistan   221612785        2.00 %     4327022     770880 -233379.0   \n",
       "\n",
       "   fert_rate  med_age urban_pop world_share  people_per_area binned_age  \n",
       "0        1.7     38.0      61 %     18.47 %              154        mid  \n",
       "1        2.2     28.0      35 %     17.70 %              465        mid  \n",
       "2        1.8     38.0      83 %      4.25 %               37        mid  \n",
       "3        2.3     30.0      56 %      3.51 %              152        mid  \n",
       "4        3.6     23.0      35 %      2.83 %              288      young  "
      ],
      "text/html": [
       "\n",
       "  <div id=\"df-66ebb2d3-a53d-41bf-8990-ab05d4b9599a\">\n",
       "    <div class=\"colab-df-container\">\n",
       "      <div>\n",
       "<style scoped>\n",
       "    .dataframe tbody tr th:only-of-type {\n",
       "        vertical-align: middle;\n",
       "    }\n",
       "\n",
       "    .dataframe tbody tr th {\n",
       "        vertical-align: top;\n",
       "    }\n",
       "\n",
       "    .dataframe thead th {\n",
       "        text-align: right;\n",
       "    }\n",
       "</style>\n",
       "<table border=\"1\" class=\"dataframe\">\n",
       "  <thead>\n",
       "    <tr style=\"text-align: right;\">\n",
       "      <th></th>\n",
       "      <th>country</th>\n",
       "      <th>population</th>\n",
       "      <th>yearly_change</th>\n",
       "      <th>net_change</th>\n",
       "      <th>land_area</th>\n",
       "      <th>migrants</th>\n",
       "      <th>fert_rate</th>\n",
       "      <th>med_age</th>\n",
       "      <th>urban_pop</th>\n",
       "      <th>world_share</th>\n",
       "      <th>people_per_area</th>\n",
       "      <th>binned_age</th>\n",
       "    </tr>\n",
       "  </thead>\n",
       "  <tbody>\n",
       "    <tr>\n",
       "      <th>0</th>\n",
       "      <td>China</td>\n",
       "      <td>1440297825</td>\n",
       "      <td>0.39 %</td>\n",
       "      <td>5540090</td>\n",
       "      <td>9388211</td>\n",
       "      <td>-348399.0</td>\n",
       "      <td>1.7</td>\n",
       "      <td>38.0</td>\n",
       "      <td>61 %</td>\n",
       "      <td>18.47 %</td>\n",
       "      <td>154</td>\n",
       "      <td>mid</td>\n",
       "    </tr>\n",
       "    <tr>\n",
       "      <th>1</th>\n",
       "      <td>India</td>\n",
       "      <td>1382345085</td>\n",
       "      <td>0.99 %</td>\n",
       "      <td>13586631</td>\n",
       "      <td>2973190</td>\n",
       "      <td>-532687.0</td>\n",
       "      <td>2.2</td>\n",
       "      <td>28.0</td>\n",
       "      <td>35 %</td>\n",
       "      <td>17.70 %</td>\n",
       "      <td>465</td>\n",
       "      <td>mid</td>\n",
       "    </tr>\n",
       "    <tr>\n",
       "      <th>2</th>\n",
       "      <td>United States</td>\n",
       "      <td>331341050</td>\n",
       "      <td>0.59 %</td>\n",
       "      <td>1937734</td>\n",
       "      <td>9147420</td>\n",
       "      <td>954806.0</td>\n",
       "      <td>1.8</td>\n",
       "      <td>38.0</td>\n",
       "      <td>83 %</td>\n",
       "      <td>4.25 %</td>\n",
       "      <td>37</td>\n",
       "      <td>mid</td>\n",
       "    </tr>\n",
       "    <tr>\n",
       "      <th>3</th>\n",
       "      <td>Indonesia</td>\n",
       "      <td>274021604</td>\n",
       "      <td>1.07 %</td>\n",
       "      <td>2898047</td>\n",
       "      <td>1811570</td>\n",
       "      <td>-98955.0</td>\n",
       "      <td>2.3</td>\n",
       "      <td>30.0</td>\n",
       "      <td>56 %</td>\n",
       "      <td>3.51 %</td>\n",
       "      <td>152</td>\n",
       "      <td>mid</td>\n",
       "    </tr>\n",
       "    <tr>\n",
       "      <th>4</th>\n",
       "      <td>Pakistan</td>\n",
       "      <td>221612785</td>\n",
       "      <td>2.00 %</td>\n",
       "      <td>4327022</td>\n",
       "      <td>770880</td>\n",
       "      <td>-233379.0</td>\n",
       "      <td>3.6</td>\n",
       "      <td>23.0</td>\n",
       "      <td>35 %</td>\n",
       "      <td>2.83 %</td>\n",
       "      <td>288</td>\n",
       "      <td>young</td>\n",
       "    </tr>\n",
       "  </tbody>\n",
       "</table>\n",
       "</div>\n",
       "      <button class=\"colab-df-convert\" onclick=\"convertToInteractive('df-66ebb2d3-a53d-41bf-8990-ab05d4b9599a')\"\n",
       "              title=\"Convert this dataframe to an interactive table.\"\n",
       "              style=\"display:none;\">\n",
       "        \n",
       "  <svg xmlns=\"http://www.w3.org/2000/svg\" height=\"24px\"viewBox=\"0 0 24 24\"\n",
       "       width=\"24px\">\n",
       "    <path d=\"M0 0h24v24H0V0z\" fill=\"none\"/>\n",
       "    <path d=\"M18.56 5.44l.94 2.06.94-2.06 2.06-.94-2.06-.94-.94-2.06-.94 2.06-2.06.94zm-11 1L8.5 8.5l.94-2.06 2.06-.94-2.06-.94L8.5 2.5l-.94 2.06-2.06.94zm10 10l.94 2.06.94-2.06 2.06-.94-2.06-.94-.94-2.06-.94 2.06-2.06.94z\"/><path d=\"M17.41 7.96l-1.37-1.37c-.4-.4-.92-.59-1.43-.59-.52 0-1.04.2-1.43.59L10.3 9.45l-7.72 7.72c-.78.78-.78 2.05 0 2.83L4 21.41c.39.39.9.59 1.41.59.51 0 1.02-.2 1.41-.59l7.78-7.78 2.81-2.81c.8-.78.8-2.07 0-2.86zM5.41 20L4 18.59l7.72-7.72 1.47 1.35L5.41 20z\"/>\n",
       "  </svg>\n",
       "      </button>\n",
       "      \n",
       "  <style>\n",
       "    .colab-df-container {\n",
       "      display:flex;\n",
       "      flex-wrap:wrap;\n",
       "      gap: 12px;\n",
       "    }\n",
       "\n",
       "    .colab-df-convert {\n",
       "      background-color: #E8F0FE;\n",
       "      border: none;\n",
       "      border-radius: 50%;\n",
       "      cursor: pointer;\n",
       "      display: none;\n",
       "      fill: #1967D2;\n",
       "      height: 32px;\n",
       "      padding: 0 0 0 0;\n",
       "      width: 32px;\n",
       "    }\n",
       "\n",
       "    .colab-df-convert:hover {\n",
       "      background-color: #E2EBFA;\n",
       "      box-shadow: 0px 1px 2px rgba(60, 64, 67, 0.3), 0px 1px 3px 1px rgba(60, 64, 67, 0.15);\n",
       "      fill: #174EA6;\n",
       "    }\n",
       "\n",
       "    [theme=dark] .colab-df-convert {\n",
       "      background-color: #3B4455;\n",
       "      fill: #D2E3FC;\n",
       "    }\n",
       "\n",
       "    [theme=dark] .colab-df-convert:hover {\n",
       "      background-color: #434B5C;\n",
       "      box-shadow: 0px 1px 3px 1px rgba(0, 0, 0, 0.15);\n",
       "      filter: drop-shadow(0px 1px 2px rgba(0, 0, 0, 0.3));\n",
       "      fill: #FFFFFF;\n",
       "    }\n",
       "  </style>\n",
       "\n",
       "      <script>\n",
       "        const buttonEl =\n",
       "          document.querySelector('#df-66ebb2d3-a53d-41bf-8990-ab05d4b9599a button.colab-df-convert');\n",
       "        buttonEl.style.display =\n",
       "          google.colab.kernel.accessAllowed ? 'block' : 'none';\n",
       "\n",
       "        async function convertToInteractive(key) {\n",
       "          const element = document.querySelector('#df-66ebb2d3-a53d-41bf-8990-ab05d4b9599a');\n",
       "          const dataTable =\n",
       "            await google.colab.kernel.invokeFunction('convertToInteractive',\n",
       "                                                     [key], {});\n",
       "          if (!dataTable) return;\n",
       "\n",
       "          const docLinkHtml = 'Like what you see? Visit the ' +\n",
       "            '<a target=\"_blank\" href=https://colab.research.google.com/notebooks/data_table.ipynb>data table notebook</a>'\n",
       "            + ' to learn more about interactive tables.';\n",
       "          element.innerHTML = '';\n",
       "          dataTable['output_type'] = 'display_data';\n",
       "          await google.colab.output.renderOutput(dataTable, element);\n",
       "          const docLink = document.createElement('div');\n",
       "          docLink.innerHTML = docLinkHtml;\n",
       "          element.appendChild(docLink);\n",
       "        }\n",
       "      </script>\n",
       "    </div>\n",
       "  </div>\n",
       "  "
      ]
     },
     "metadata": {},
     "execution_count": 246
    }
   ]
  },
  {
   "cell_type": "code",
   "source": [
    "colors = ['pink', 'silver', 'steelblue']\n",
    "\n",
    "data.groupby(['binned_age']).sum().plot(kind='pie', y='med_age', \n",
    "                                        autopct='%1.0f%%', colors=colors)"
   ],
   "metadata": {
    "colab": {
     "base_uri": "https://localhost:8080/",
     "height": 265
    },
    "id": "AWFZ5MDHLaEn",
    "outputId": "51a68b05-aa55-44f9-a0ea-84a27e90b4e9"
   },
   "execution_count": 247,
   "outputs": [
    {
     "output_type": "execute_result",
     "data": {
      "text/plain": [
       "<matplotlib.axes._subplots.AxesSubplot at 0x7f148a66b390>"
      ]
     },
     "metadata": {},
     "execution_count": 247
    },
    {
     "output_type": "display_data",
     "data": {
      "text/plain": [
       "<Figure size 432x288 with 1 Axes>"
      ],
      "image/png": "[encoded data removed]"
     },
     "metadata": {}
    }
   ]
  },
  {
   "cell_type": "markdown",
   "source": [
    "<font face=\"Vazir\" size=10><div dir=ltr>\n",
    "## Combining\n",
    "<font face=\"Vazir\" size=5><div dir=rtl>\n",
    "ابتدا با حذف علامت درصد و اصلاح مقادیر فیچر <span dir=ltr>urban_pop</span> دیتا را قابل استفاده‌تر می‌کنیم."
   ],
   "metadata": {
    "id": "Tf7FQym5Sy8x"
   }
  },
  {
   "cell_type": "code",
   "source": [
    "data['urban_pop'] = data['urban_pop'].fillna('-1')"
   ],
   "metadata": {
    "id": "SNCtm6WvMeBR"
   },
   "execution_count": 248,
   "outputs": []
  },
  {
   "cell_type": "code",
   "source": [
    "def convert_percentage(text):\n",
    "  text = text.split(' %')[0]\n",
    "  text = int(text) * 0.01\n",
    "  text = \"{:.2f}\".format(text)\n",
    "  return text\n",
    "data['urban_pop'] = data['urban_pop'].apply(convert_percentage)\n",
    "data[\"urban_pop\"] = data[\"urban_pop\"].astype('float')"
   ],
   "metadata": {
    "id": "Gy4kn3Ricq2w"
   },
   "execution_count": 249,
   "outputs": []
  },
  {
   "cell_type": "code",
   "source": [
    "for i in range(len(data)):\n",
    "  if data.loc[i, 'urban_pop'] == -0.01:\n",
    "    data.loc[i, 'urban_pop'] = np.nan"
   ],
   "metadata": {
    "id": "RCTmAEYtNGsH"
   },
   "execution_count": 250,
   "outputs": []
  },
  {
   "cell_type": "code",
   "source": [
    "urban_pop_mean = data[\"urban_pop\"].mean()\n",
    "data[\"urban_pop\"].fillna(urban_pop_mean, inplace=True)"
   ],
   "metadata": {
    "id": "lTUpeRqztHq1"
   },
   "execution_count": 251,
   "outputs": []
  },
  {
   "cell_type": "code",
   "source": [
    "data.head()"
   ],
   "metadata": {
    "colab": {
     "base_uri": "https://localhost:8080/",
     "height": 287
    },
    "id": "9pUrqCqSkmtb",
    "outputId": "8919f24c-ea4e-464d-9525-4626e69330a3"
   },
   "execution_count": 252,
   "outputs": [
    {
     "output_type": "execute_result",
     "data": {
      "text/plain": [
       "         country  population yearly_change  net_change  land_area  migrants  \\\n",
       "0          China  1440297825        0.39 %     5540090    9388211 -348399.0   \n",
       "1          India  1382345085        0.99 %    13586631    2973190 -532687.0   \n",
       "2  United States   331341050        0.59 %     1937734    9147420  954806.0   \n",
       "3      Indonesia   274021604        1.07 %     2898047    1811570  -98955.0   \n",
       "4       Pakistan   221612785        2.00 %     4327022     770880 -233379.0   \n",
       "\n",
       "   fert_rate  med_age  urban_pop world_share  people_per_area binned_age  \n",
       "0        1.7     38.0       0.61     18.47 %              154        mid  \n",
       "1        2.2     28.0       0.35     17.70 %              465        mid  \n",
       "2        1.8     38.0       0.83      4.25 %               37        mid  \n",
       "3        2.3     30.0       0.56      3.51 %              152        mid  \n",
       "4        3.6     23.0       0.35      2.83 %              288      young  "
      ],
      "text/html": [
       "\n",
       "  <div id=\"df-42706f1a-f49d-46e9-9c83-37b4c0cef324\">\n",
       "    <div class=\"colab-df-container\">\n",
       "      <div>\n",
       "<style scoped>\n",
       "    .dataframe tbody tr th:only-of-type {\n",
       "        vertical-align: middle;\n",
       "    }\n",
       "\n",
       "    .dataframe tbody tr th {\n",
       "        vertical-align: top;\n",
       "    }\n",
       "\n",
       "    .dataframe thead th {\n",
       "        text-align: right;\n",
       "    }\n",
       "</style>\n",
       "<table border=\"1\" class=\"dataframe\">\n",
       "  <thead>\n",
       "    <tr style=\"text-align: right;\">\n",
       "      <th></th>\n",
       "      <th>country</th>\n",
       "      <th>population</th>\n",
       "      <th>yearly_change</th>\n",
       "      <th>net_change</th>\n",
       "      <th>land_area</th>\n",
       "      <th>migrants</th>\n",
       "      <th>fert_rate</th>\n",
       "      <th>med_age</th>\n",
       "      <th>urban_pop</th>\n",
       "      <th>world_share</th>\n",
       "      <th>people_per_area</th>\n",
       "      <th>binned_age</th>\n",
       "    </tr>\n",
       "  </thead>\n",
       "  <tbody>\n",
       "    <tr>\n",
       "      <th>0</th>\n",
       "      <td>China</td>\n",
       "      <td>1440297825</td>\n",
       "      <td>0.39 %</td>\n",
       "      <td>5540090</td>\n",
       "      <td>9388211</td>\n",
       "      <td>-348399.0</td>\n",
       "      <td>1.7</td>\n",
       "      <td>38.0</td>\n",
       "      <td>0.61</td>\n",
       "      <td>18.47 %</td>\n",
       "      <td>154</td>\n",
       "      <td>mid</td>\n",
       "    </tr>\n",
       "    <tr>\n",
       "      <th>1</th>\n",
       "      <td>India</td>\n",
       "      <td>1382345085</td>\n",
       "      <td>0.99 %</td>\n",
       "      <td>13586631</td>\n",
       "      <td>2973190</td>\n",
       "      <td>-532687.0</td>\n",
       "      <td>2.2</td>\n",
       "      <td>28.0</td>\n",
       "      <td>0.35</td>\n",
       "      <td>17.70 %</td>\n",
       "      <td>465</td>\n",
       "      <td>mid</td>\n",
       "    </tr>\n",
       "    <tr>\n",
       "      <th>2</th>\n",
       "      <td>United States</td>\n",
       "      <td>331341050</td>\n",
       "      <td>0.59 %</td>\n",
       "      <td>1937734</td>\n",
       "      <td>9147420</td>\n",
       "      <td>954806.0</td>\n",
       "      <td>1.8</td>\n",
       "      <td>38.0</td>\n",
       "      <td>0.83</td>\n",
       "      <td>4.25 %</td>\n",
       "      <td>37</td>\n",
       "      <td>mid</td>\n",
       "    </tr>\n",
       "    <tr>\n",
       "      <th>3</th>\n",
       "      <td>Indonesia</td>\n",
       "      <td>274021604</td>\n",
       "      <td>1.07 %</td>\n",
       "      <td>2898047</td>\n",
       "      <td>1811570</td>\n",
       "      <td>-98955.0</td>\n",
       "      <td>2.3</td>\n",
       "      <td>30.0</td>\n",
       "      <td>0.56</td>\n",
       "      <td>3.51 %</td>\n",
       "      <td>152</td>\n",
       "      <td>mid</td>\n",
       "    </tr>\n",
       "    <tr>\n",
       "      <th>4</th>\n",
       "      <td>Pakistan</td>\n",
       "      <td>221612785</td>\n",
       "      <td>2.00 %</td>\n",
       "      <td>4327022</td>\n",
       "      <td>770880</td>\n",
       "      <td>-233379.0</td>\n",
       "      <td>3.6</td>\n",
       "      <td>23.0</td>\n",
       "      <td>0.35</td>\n",
       "      <td>2.83 %</td>\n",
       "      <td>288</td>\n",
       "      <td>young</td>\n",
       "    </tr>\n",
       "  </tbody>\n",
       "</table>\n",
       "</div>\n",
       "      <button class=\"colab-df-convert\" onclick=\"convertToInteractive('df-42706f1a-f49d-46e9-9c83-37b4c0cef324')\"\n",
       "              title=\"Convert this dataframe to an interactive table.\"\n",
       "              style=\"display:none;\">\n",
       "        \n",
       "  <svg xmlns=\"http://www.w3.org/2000/svg\" height=\"24px\"viewBox=\"0 0 24 24\"\n",
       "       width=\"24px\">\n",
       "    <path d=\"M0 0h24v24H0V0z\" fill=\"none\"/>\n",
       "    <path d=\"M18.56 5.44l.94 2.06.94-2.06 2.06-.94-2.06-.94-.94-2.06-.94 2.06-2.06.94zm-11 1L8.5 8.5l.94-2.06 2.06-.94-2.06-.94L8.5 2.5l-.94 2.06-2.06.94zm10 10l.94 2.06.94-2.06 2.06-.94-2.06-.94-.94-2.06-.94 2.06-2.06.94z\"/><path d=\"M17.41 7.96l-1.37-1.37c-.4-.4-.92-.59-1.43-.59-.52 0-1.04.2-1.43.59L10.3 9.45l-7.72 7.72c-.78.78-.78 2.05 0 2.83L4 21.41c.39.39.9.59 1.41.59.51 0 1.02-.2 1.41-.59l7.78-7.78 2.81-2.81c.8-.78.8-2.07 0-2.86zM5.41 20L4 18.59l7.72-7.72 1.47 1.35L5.41 20z\"/>\n",
       "  </svg>\n",
       "      </button>\n",
       "      \n",
       "  <style>\n",
       "    .colab-df-container {\n",
       "      display:flex;\n",
       "      flex-wrap:wrap;\n",
       "      gap: 12px;\n",
       "    }\n",
       "\n",
       "    .colab-df-convert {\n",
       "      background-color: #E8F0FE;\n",
       "      border: none;\n",
       "      border-radius: 50%;\n",
       "      cursor: pointer;\n",
       "      display: none;\n",
       "      fill: #1967D2;\n",
       "      height: 32px;\n",
       "      padding: 0 0 0 0;\n",
       "      width: 32px;\n",
       "    }\n",
       "\n",
       "    .colab-df-convert:hover {\n",
       "      background-color: #E2EBFA;\n",
       "      box-shadow: 0px 1px 2px rgba(60, 64, 67, 0.3), 0px 1px 3px 1px rgba(60, 64, 67, 0.15);\n",
       "      fill: #174EA6;\n",
       "    }\n",
       "\n",
       "    [theme=dark] .colab-df-convert {\n",
       "      background-color: #3B4455;\n",
       "      fill: #D2E3FC;\n",
       "    }\n",
       "\n",
       "    [theme=dark] .colab-df-convert:hover {\n",
       "      background-color: #434B5C;\n",
       "      box-shadow: 0px 1px 3px 1px rgba(0, 0, 0, 0.15);\n",
       "      filter: drop-shadow(0px 1px 2px rgba(0, 0, 0, 0.3));\n",
       "      fill: #FFFFFF;\n",
       "    }\n",
       "  </style>\n",
       "\n",
       "      <script>\n",
       "        const buttonEl =\n",
       "          document.querySelector('#df-42706f1a-f49d-46e9-9c83-37b4c0cef324 button.colab-df-convert');\n",
       "        buttonEl.style.display =\n",
       "          google.colab.kernel.accessAllowed ? 'block' : 'none';\n",
       "\n",
       "        async function convertToInteractive(key) {\n",
       "          const element = document.querySelector('#df-42706f1a-f49d-46e9-9c83-37b4c0cef324');\n",
       "          const dataTable =\n",
       "            await google.colab.kernel.invokeFunction('convertToInteractive',\n",
       "                                                     [key], {});\n",
       "          if (!dataTable) return;\n",
       "\n",
       "          const docLinkHtml = 'Like what you see? Visit the ' +\n",
       "            '<a target=\"_blank\" href=https://colab.research.google.com/notebooks/data_table.ipynb>data table notebook</a>'\n",
       "            + ' to learn more about interactive tables.';\n",
       "          element.innerHTML = '';\n",
       "          dataTable['output_type'] = 'display_data';\n",
       "          await google.colab.output.renderOutput(dataTable, element);\n",
       "          const docLink = document.createElement('div');\n",
       "          docLink.innerHTML = docLinkHtml;\n",
       "          element.appendChild(docLink);\n",
       "        }\n",
       "      </script>\n",
       "    </div>\n",
       "  </div>\n",
       "  "
      ]
     },
     "metadata": {},
     "execution_count": 252
    }
   ]
  },
  {
   "cell_type": "markdown",
   "source": [
    "<font face=\"Vazir\" size=5><div dir=rtl>\n",
    "سپس با افزودن ستون urban_pop_count و با استفاده از ترکیب دو ستون درصد جمعیت شهری و جمعیت کل، جمعیت شهری هر کشور را محاسبه می‌کنیم."
   ],
   "metadata": {
    "id": "xjV5q1LtTeSd"
   }
  },
  {
   "cell_type": "code",
   "source": [
    "data['urban_pop_count'] = 0"
   ],
   "metadata": {
    "id": "WNcwSRE-p_21"
   },
   "execution_count": 253,
   "outputs": []
  },
  {
   "cell_type": "code",
   "source": [
    "for i in range(len(data)):\n",
    "  data.loc[i, 'urban_pop_count'] = int(data.loc[i, 'urban_pop'] * data.loc[i, 'population'])"
   ],
   "metadata": {
    "id": "hGOThv2cqlKS"
   },
   "execution_count": 254,
   "outputs": []
  },
  {
   "cell_type": "code",
   "source": [
    "data.head()"
   ],
   "metadata": {
    "colab": {
     "base_uri": "https://localhost:8080/",
     "height": 287
    },
    "id": "NiIReVj7kn45",
    "outputId": "e206da33-b304-4b16-be55-224458876cdb"
   },
   "execution_count": 255,
   "outputs": [
    {
     "output_type": "execute_result",
     "data": {
      "text/plain": [
       "         country  population yearly_change  net_change  land_area  migrants  \\\n",
       "0          China  1440297825        0.39 %     5540090    9388211 -348399.0   \n",
       "1          India  1382345085        0.99 %    13586631    2973190 -532687.0   \n",
       "2  United States   331341050        0.59 %     1937734    9147420  954806.0   \n",
       "3      Indonesia   274021604        1.07 %     2898047    1811570  -98955.0   \n",
       "4       Pakistan   221612785        2.00 %     4327022     770880 -233379.0   \n",
       "\n",
       "   fert_rate  med_age  urban_pop world_share  people_per_area binned_age  \\\n",
       "0        1.7     38.0       0.61     18.47 %              154        mid   \n",
       "1        2.2     28.0       0.35     17.70 %              465        mid   \n",
       "2        1.8     38.0       0.83      4.25 %               37        mid   \n",
       "3        2.3     30.0       0.56      3.51 %              152        mid   \n",
       "4        3.6     23.0       0.35      2.83 %              288      young   \n",
       "\n",
       "   urban_pop_count  \n",
       "0        878581673  \n",
       "1        483820779  \n",
       "2        275013071  \n",
       "3        153452098  \n",
       "4         77564474  "
      ],
      "text/html": [
       "\n",
       "  <div id=\"df-e219f3c5-fca1-4519-bfdf-84f87262b641\">\n",
       "    <div class=\"colab-df-container\">\n",
       "      <div>\n",
       "<style scoped>\n",
       "    .dataframe tbody tr th:only-of-type {\n",
       "        vertical-align: middle;\n",
       "    }\n",
       "\n",
       "    .dataframe tbody tr th {\n",
       "        vertical-align: top;\n",
       "    }\n",
       "\n",
       "    .dataframe thead th {\n",
       "        text-align: right;\n",
       "    }\n",
       "</style>\n",
       "<table border=\"1\" class=\"dataframe\">\n",
       "  <thead>\n",
       "    <tr style=\"text-align: right;\">\n",
       "      <th></th>\n",
       "      <th>country</th>\n",
       "      <th>population</th>\n",
       "      <th>yearly_change</th>\n",
       "      <th>net_change</th>\n",
       "      <th>land_area</th>\n",
       "      <th>migrants</th>\n",
       "      <th>fert_rate</th>\n",
       "      <th>med_age</th>\n",
       "      <th>urban_pop</th>\n",
       "      <th>world_share</th>\n",
       "      <th>people_per_area</th>\n",
       "      <th>binned_age</th>\n",
       "      <th>urban_pop_count</th>\n",
       "    </tr>\n",
       "  </thead>\n",
       "  <tbody>\n",
       "    <tr>\n",
       "      <th>0</th>\n",
       "      <td>China</td>\n",
       "      <td>1440297825</td>\n",
       "      <td>0.39 %</td>\n",
       "      <td>5540090</td>\n",
       "      <td>9388211</td>\n",
       "      <td>-348399.0</td>\n",
       "      <td>1.7</td>\n",
       "      <td>38.0</td>\n",
       "      <td>0.61</td>\n",
       "      <td>18.47 %</td>\n",
       "      <td>154</td>\n",
       "      <td>mid</td>\n",
       "      <td>878581673</td>\n",
       "    </tr>\n",
       "    <tr>\n",
       "      <th>1</th>\n",
       "      <td>India</td>\n",
       "      <td>1382345085</td>\n",
       "      <td>0.99 %</td>\n",
       "      <td>13586631</td>\n",
       "      <td>2973190</td>\n",
       "      <td>-532687.0</td>\n",
       "      <td>2.2</td>\n",
       "      <td>28.0</td>\n",
       "      <td>0.35</td>\n",
       "      <td>17.70 %</td>\n",
       "      <td>465</td>\n",
       "      <td>mid</td>\n",
       "      <td>483820779</td>\n",
       "    </tr>\n",
       "    <tr>\n",
       "      <th>2</th>\n",
       "      <td>United States</td>\n",
       "      <td>331341050</td>\n",
       "      <td>0.59 %</td>\n",
       "      <td>1937734</td>\n",
       "      <td>9147420</td>\n",
       "      <td>954806.0</td>\n",
       "      <td>1.8</td>\n",
       "      <td>38.0</td>\n",
       "      <td>0.83</td>\n",
       "      <td>4.25 %</td>\n",
       "      <td>37</td>\n",
       "      <td>mid</td>\n",
       "      <td>275013071</td>\n",
       "    </tr>\n",
       "    <tr>\n",
       "      <th>3</th>\n",
       "      <td>Indonesia</td>\n",
       "      <td>274021604</td>\n",
       "      <td>1.07 %</td>\n",
       "      <td>2898047</td>\n",
       "      <td>1811570</td>\n",
       "      <td>-98955.0</td>\n",
       "      <td>2.3</td>\n",
       "      <td>30.0</td>\n",
       "      <td>0.56</td>\n",
       "      <td>3.51 %</td>\n",
       "      <td>152</td>\n",
       "      <td>mid</td>\n",
       "      <td>153452098</td>\n",
       "    </tr>\n",
       "    <tr>\n",
       "      <th>4</th>\n",
       "      <td>Pakistan</td>\n",
       "      <td>221612785</td>\n",
       "      <td>2.00 %</td>\n",
       "      <td>4327022</td>\n",
       "      <td>770880</td>\n",
       "      <td>-233379.0</td>\n",
       "      <td>3.6</td>\n",
       "      <td>23.0</td>\n",
       "      <td>0.35</td>\n",
       "      <td>2.83 %</td>\n",
       "      <td>288</td>\n",
       "      <td>young</td>\n",
       "      <td>77564474</td>\n",
       "    </tr>\n",
       "  </tbody>\n",
       "</table>\n",
       "</div>\n",
       "      <button class=\"colab-df-convert\" onclick=\"convertToInteractive('df-e219f3c5-fca1-4519-bfdf-84f87262b641')\"\n",
       "              title=\"Convert this dataframe to an interactive table.\"\n",
       "              style=\"display:none;\">\n",
       "        \n",
       "  <svg xmlns=\"http://www.w3.org/2000/svg\" height=\"24px\"viewBox=\"0 0 24 24\"\n",
       "       width=\"24px\">\n",
       "    <path d=\"M0 0h24v24H0V0z\" fill=\"none\"/>\n",
       "    <path d=\"M18.56 5.44l.94 2.06.94-2.06 2.06-.94-2.06-.94-.94-2.06-.94 2.06-2.06.94zm-11 1L8.5 8.5l.94-2.06 2.06-.94-2.06-.94L8.5 2.5l-.94 2.06-2.06.94zm10 10l.94 2.06.94-2.06 2.06-.94-2.06-.94-.94-2.06-.94 2.06-2.06.94z\"/><path d=\"M17.41 7.96l-1.37-1.37c-.4-.4-.92-.59-1.43-.59-.52 0-1.04.2-1.43.59L10.3 9.45l-7.72 7.72c-.78.78-.78 2.05 0 2.83L4 21.41c.39.39.9.59 1.41.59.51 0 1.02-.2 1.41-.59l7.78-7.78 2.81-2.81c.8-.78.8-2.07 0-2.86zM5.41 20L4 18.59l7.72-7.72 1.47 1.35L5.41 20z\"/>\n",
       "  </svg>\n",
       "      </button>\n",
       "      \n",
       "  <style>\n",
       "    .colab-df-container {\n",
       "      display:flex;\n",
       "      flex-wrap:wrap;\n",
       "      gap: 12px;\n",
       "    }\n",
       "\n",
       "    .colab-df-convert {\n",
       "      background-color: #E8F0FE;\n",
       "      border: none;\n",
       "      border-radius: 50%;\n",
       "      cursor: pointer;\n",
       "      display: none;\n",
       "      fill: #1967D2;\n",
       "      height: 32px;\n",
       "      padding: 0 0 0 0;\n",
       "      width: 32px;\n",
       "    }\n",
       "\n",
       "    .colab-df-convert:hover {\n",
       "      background-color: #E2EBFA;\n",
       "      box-shadow: 0px 1px 2px rgba(60, 64, 67, 0.3), 0px 1px 3px 1px rgba(60, 64, 67, 0.15);\n",
       "      fill: #174EA6;\n",
       "    }\n",
       "\n",
       "    [theme=dark] .colab-df-convert {\n",
       "      background-color: #3B4455;\n",
       "      fill: #D2E3FC;\n",
       "    }\n",
       "\n",
       "    [theme=dark] .colab-df-convert:hover {\n",
       "      background-color: #434B5C;\n",
       "      box-shadow: 0px 1px 3px 1px rgba(0, 0, 0, 0.15);\n",
       "      filter: drop-shadow(0px 1px 2px rgba(0, 0, 0, 0.3));\n",
       "      fill: #FFFFFF;\n",
       "    }\n",
       "  </style>\n",
       "\n",
       "      <script>\n",
       "        const buttonEl =\n",
       "          document.querySelector('#df-e219f3c5-fca1-4519-bfdf-84f87262b641 button.colab-df-convert');\n",
       "        buttonEl.style.display =\n",
       "          google.colab.kernel.accessAllowed ? 'block' : 'none';\n",
       "\n",
       "        async function convertToInteractive(key) {\n",
       "          const element = document.querySelector('#df-e219f3c5-fca1-4519-bfdf-84f87262b641');\n",
       "          const dataTable =\n",
       "            await google.colab.kernel.invokeFunction('convertToInteractive',\n",
       "                                                     [key], {});\n",
       "          if (!dataTable) return;\n",
       "\n",
       "          const docLinkHtml = 'Like what you see? Visit the ' +\n",
       "            '<a target=\"_blank\" href=https://colab.research.google.com/notebooks/data_table.ipynb>data table notebook</a>'\n",
       "            + ' to learn more about interactive tables.';\n",
       "          element.innerHTML = '';\n",
       "          dataTable['output_type'] = 'display_data';\n",
       "          await google.colab.output.renderOutput(dataTable, element);\n",
       "          const docLink = document.createElement('div');\n",
       "          docLink.innerHTML = docLinkHtml;\n",
       "          element.appendChild(docLink);\n",
       "        }\n",
       "      </script>\n",
       "    </div>\n",
       "  </div>\n",
       "  "
      ]
     },
     "metadata": {},
     "execution_count": 255
    }
   ]
  },
  {
   "cell_type": "markdown",
   "source": [
    "<font face=\"Vazir\" size=10><div dir=ltr>\n",
    "## Principal Component Analysis\n",
    "<font face=\"Vazir\" size=5><div dir=rtl>\n",
    "این روش برای دیتاهایی با ابعاد بزرگ است ولی دیتای ما ابعاد کوچکی دارد و خیلی نیازی به چنین کاری ندارد. ولی صرفا برای آزمایش این روش از آن استفاده می‌کنیم."
   ],
   "metadata": {
    "id": "zTwAxpV7T4hO"
   }
  },
  {
   "cell_type": "code",
   "source": [
    "to_pca_data = data.iloc[:200, 1:-2].copy()\n",
    "to_pca_data.head()"
   ],
   "metadata": {
    "colab": {
     "base_uri": "https://localhost:8080/",
     "height": 206
    },
    "id": "KzLNXQpd--FB",
    "outputId": "14c3971e-c104-4af1-a6dd-a684398b91c6"
   },
   "execution_count": 256,
   "outputs": [
    {
     "output_type": "execute_result",
     "data": {
      "text/plain": [
       "   population yearly_change  net_change  land_area  migrants  fert_rate  \\\n",
       "0  1440297825        0.39 %     5540090    9388211 -348399.0        1.7   \n",
       "1  1382345085        0.99 %    13586631    2973190 -532687.0        2.2   \n",
       "2   331341050        0.59 %     1937734    9147420  954806.0        1.8   \n",
       "3   274021604        1.07 %     2898047    1811570  -98955.0        2.3   \n",
       "4   221612785        2.00 %     4327022     770880 -233379.0        3.6   \n",
       "\n",
       "   med_age  urban_pop world_share  people_per_area  \n",
       "0     38.0       0.61     18.47 %              154  \n",
       "1     28.0       0.35     17.70 %              465  \n",
       "2     38.0       0.83      4.25 %               37  \n",
       "3     30.0       0.56      3.51 %              152  \n",
       "4     23.0       0.35      2.83 %              288  "
      ],
      "text/html": [
       "\n",
       "  <div id=\"df-335deebe-e83c-46b1-a4bc-3d6e08649830\">\n",
       "    <div class=\"colab-df-container\">\n",
       "      <div>\n",
       "<style scoped>\n",
       "    .dataframe tbody tr th:only-of-type {\n",
       "        vertical-align: middle;\n",
       "    }\n",
       "\n",
       "    .dataframe tbody tr th {\n",
       "        vertical-align: top;\n",
       "    }\n",
       "\n",
       "    .dataframe thead th {\n",
       "        text-align: right;\n",
       "    }\n",
       "</style>\n",
       "<table border=\"1\" class=\"dataframe\">\n",
       "  <thead>\n",
       "    <tr style=\"text-align: right;\">\n",
       "      <th></th>\n",
       "      <th>population</th>\n",
       "      <th>yearly_change</th>\n",
       "      <th>net_change</th>\n",
       "      <th>land_area</th>\n",
       "      <th>migrants</th>\n",
       "      <th>fert_rate</th>\n",
       "      <th>med_age</th>\n",
       "      <th>urban_pop</th>\n",
       "      <th>world_share</th>\n",
       "      <th>people_per_area</th>\n",
       "    </tr>\n",
       "  </thead>\n",
       "  <tbody>\n",
       "    <tr>\n",
       "      <th>0</th>\n",
       "      <td>1440297825</td>\n",
       "      <td>0.39 %</td>\n",
       "      <td>5540090</td>\n",
       "      <td>9388211</td>\n",
       "      <td>-348399.0</td>\n",
       "      <td>1.7</td>\n",
       "      <td>38.0</td>\n",
       "      <td>0.61</td>\n",
       "      <td>18.47 %</td>\n",
       "      <td>154</td>\n",
       "    </tr>\n",
       "    <tr>\n",
       "      <th>1</th>\n",
       "      <td>1382345085</td>\n",
       "      <td>0.99 %</td>\n",
       "      <td>13586631</td>\n",
       "      <td>2973190</td>\n",
       "      <td>-532687.0</td>\n",
       "      <td>2.2</td>\n",
       "      <td>28.0</td>\n",
       "      <td>0.35</td>\n",
       "      <td>17.70 %</td>\n",
       "      <td>465</td>\n",
       "    </tr>\n",
       "    <tr>\n",
       "      <th>2</th>\n",
       "      <td>331341050</td>\n",
       "      <td>0.59 %</td>\n",
       "      <td>1937734</td>\n",
       "      <td>9147420</td>\n",
       "      <td>954806.0</td>\n",
       "      <td>1.8</td>\n",
       "      <td>38.0</td>\n",
       "      <td>0.83</td>\n",
       "      <td>4.25 %</td>\n",
       "      <td>37</td>\n",
       "    </tr>\n",
       "    <tr>\n",
       "      <th>3</th>\n",
       "      <td>274021604</td>\n",
       "      <td>1.07 %</td>\n",
       "      <td>2898047</td>\n",
       "      <td>1811570</td>\n",
       "      <td>-98955.0</td>\n",
       "      <td>2.3</td>\n",
       "      <td>30.0</td>\n",
       "      <td>0.56</td>\n",
       "      <td>3.51 %</td>\n",
       "      <td>152</td>\n",
       "    </tr>\n",
       "    <tr>\n",
       "      <th>4</th>\n",
       "      <td>221612785</td>\n",
       "      <td>2.00 %</td>\n",
       "      <td>4327022</td>\n",
       "      <td>770880</td>\n",
       "      <td>-233379.0</td>\n",
       "      <td>3.6</td>\n",
       "      <td>23.0</td>\n",
       "      <td>0.35</td>\n",
       "      <td>2.83 %</td>\n",
       "      <td>288</td>\n",
       "    </tr>\n",
       "  </tbody>\n",
       "</table>\n",
       "</div>\n",
       "      <button class=\"colab-df-convert\" onclick=\"convertToInteractive('df-335deebe-e83c-46b1-a4bc-3d6e08649830')\"\n",
       "              title=\"Convert this dataframe to an interactive table.\"\n",
       "              style=\"display:none;\">\n",
       "        \n",
       "  <svg xmlns=\"http://www.w3.org/2000/svg\" height=\"24px\"viewBox=\"0 0 24 24\"\n",
       "       width=\"24px\">\n",
       "    <path d=\"M0 0h24v24H0V0z\" fill=\"none\"/>\n",
       "    <path d=\"M18.56 5.44l.94 2.06.94-2.06 2.06-.94-2.06-.94-.94-2.06-.94 2.06-2.06.94zm-11 1L8.5 8.5l.94-2.06 2.06-.94-2.06-.94L8.5 2.5l-.94 2.06-2.06.94zm10 10l.94 2.06.94-2.06 2.06-.94-2.06-.94-.94-2.06-.94 2.06-2.06.94z\"/><path d=\"M17.41 7.96l-1.37-1.37c-.4-.4-.92-.59-1.43-.59-.52 0-1.04.2-1.43.59L10.3 9.45l-7.72 7.72c-.78.78-.78 2.05 0 2.83L4 21.41c.39.39.9.59 1.41.59.51 0 1.02-.2 1.41-.59l7.78-7.78 2.81-2.81c.8-.78.8-2.07 0-2.86zM5.41 20L4 18.59l7.72-7.72 1.47 1.35L5.41 20z\"/>\n",
       "  </svg>\n",
       "      </button>\n",
       "      \n",
       "  <style>\n",
       "    .colab-df-container {\n",
       "      display:flex;\n",
       "      flex-wrap:wrap;\n",
       "      gap: 12px;\n",
       "    }\n",
       "\n",
       "    .colab-df-convert {\n",
       "      background-color: #E8F0FE;\n",
       "      border: none;\n",
       "      border-radius: 50%;\n",
       "      cursor: pointer;\n",
       "      display: none;\n",
       "      fill: #1967D2;\n",
       "      height: 32px;\n",
       "      padding: 0 0 0 0;\n",
       "      width: 32px;\n",
       "    }\n",
       "\n",
       "    .colab-df-convert:hover {\n",
       "      background-color: #E2EBFA;\n",
       "      box-shadow: 0px 1px 2px rgba(60, 64, 67, 0.3), 0px 1px 3px 1px rgba(60, 64, 67, 0.15);\n",
       "      fill: #174EA6;\n",
       "    }\n",
       "\n",
       "    [theme=dark] .colab-df-convert {\n",
       "      background-color: #3B4455;\n",
       "      fill: #D2E3FC;\n",
       "    }\n",
       "\n",
       "    [theme=dark] .colab-df-convert:hover {\n",
       "      background-color: #434B5C;\n",
       "      box-shadow: 0px 1px 3px 1px rgba(0, 0, 0, 0.15);\n",
       "      filter: drop-shadow(0px 1px 2px rgba(0, 0, 0, 0.3));\n",
       "      fill: #FFFFFF;\n",
       "    }\n",
       "  </style>\n",
       "\n",
       "      <script>\n",
       "        const buttonEl =\n",
       "          document.querySelector('#df-335deebe-e83c-46b1-a4bc-3d6e08649830 button.colab-df-convert');\n",
       "        buttonEl.style.display =\n",
       "          google.colab.kernel.accessAllowed ? 'block' : 'none';\n",
       "\n",
       "        async function convertToInteractive(key) {\n",
       "          const element = document.querySelector('#df-335deebe-e83c-46b1-a4bc-3d6e08649830');\n",
       "          const dataTable =\n",
       "            await google.colab.kernel.invokeFunction('convertToInteractive',\n",
       "                                                     [key], {});\n",
       "          if (!dataTable) return;\n",
       "\n",
       "          const docLinkHtml = 'Like what you see? Visit the ' +\n",
       "            '<a target=\"_blank\" href=https://colab.research.google.com/notebooks/data_table.ipynb>data table notebook</a>'\n",
       "            + ' to learn more about interactive tables.';\n",
       "          element.innerHTML = '';\n",
       "          dataTable['output_type'] = 'display_data';\n",
       "          await google.colab.output.renderOutput(dataTable, element);\n",
       "          const docLink = document.createElement('div');\n",
       "          docLink.innerHTML = docLinkHtml;\n",
       "          element.appendChild(docLink);\n",
       "        }\n",
       "      </script>\n",
       "    </div>\n",
       "  </div>\n",
       "  "
      ]
     },
     "metadata": {},
     "execution_count": 256
    }
   ]
  },
  {
   "cell_type": "code",
   "source": [
    "def convert_percentage(text):\n",
    "  if type(text) != float:\n",
    "    text = text.split(' %')[0]\n",
    "  return float(text)\n",
    "to_pca_data['yearly_change'] = to_pca_data['yearly_change'].apply(convert_percentage)\n",
    "to_pca_data['world_share'] = to_pca_data['world_share'].apply(convert_percentage)"
   ],
   "metadata": {
    "id": "-3wdlG4o-9ZD"
   },
   "execution_count": 257,
   "outputs": []
  },
  {
   "cell_type": "code",
   "source": [
    "to_pca_data.head()"
   ],
   "metadata": {
    "colab": {
     "base_uri": "https://localhost:8080/",
     "height": 206
    },
    "id": "Zpvq3VWiAXxL",
    "outputId": "28acb94b-e895-4135-8bfa-9eddd005e248"
   },
   "execution_count": 258,
   "outputs": [
    {
     "output_type": "execute_result",
     "data": {
      "text/plain": [
       "   population  yearly_change  net_change  land_area  migrants  fert_rate  \\\n",
       "0  1440297825           0.39     5540090    9388211 -348399.0        1.7   \n",
       "1  1382345085           0.99    13586631    2973190 -532687.0        2.2   \n",
       "2   331341050           0.59     1937734    9147420  954806.0        1.8   \n",
       "3   274021604           1.07     2898047    1811570  -98955.0        2.3   \n",
       "4   221612785           2.00     4327022     770880 -233379.0        3.6   \n",
       "\n",
       "   med_age  urban_pop  world_share  people_per_area  \n",
       "0     38.0       0.61        18.47              154  \n",
       "1     28.0       0.35        17.70              465  \n",
       "2     38.0       0.83         4.25               37  \n",
       "3     30.0       0.56         3.51              152  \n",
       "4     23.0       0.35         2.83              288  "
      ],
      "text/html": [
       "\n",
       "  <div id=\"df-2caa781a-c9df-4b11-9029-87b497ac2255\">\n",
       "    <div class=\"colab-df-container\">\n",
       "      <div>\n",
       "<style scoped>\n",
       "    .dataframe tbody tr th:only-of-type {\n",
       "        vertical-align: middle;\n",
       "    }\n",
       "\n",
       "    .dataframe tbody tr th {\n",
       "        vertical-align: top;\n",
       "    }\n",
       "\n",
       "    .dataframe thead th {\n",
       "        text-align: right;\n",
       "    }\n",
       "</style>\n",
       "<table border=\"1\" class=\"dataframe\">\n",
       "  <thead>\n",
       "    <tr style=\"text-align: right;\">\n",
       "      <th></th>\n",
       "      <th>population</th>\n",
       "      <th>yearly_change</th>\n",
       "      <th>net_change</th>\n",
       "      <th>land_area</th>\n",
       "      <th>migrants</th>\n",
       "      <th>fert_rate</th>\n",
       "      <th>med_age</th>\n",
       "      <th>urban_pop</th>\n",
       "      <th>world_share</th>\n",
       "      <th>people_per_area</th>\n",
       "    </tr>\n",
       "  </thead>\n",
       "  <tbody>\n",
       "    <tr>\n",
       "      <th>0</th>\n",
       "      <td>1440297825</td>\n",
       "      <td>0.39</td>\n",
       "      <td>5540090</td>\n",
       "      <td>9388211</td>\n",
       "      <td>-348399.0</td>\n",
       "      <td>1.7</td>\n",
       "      <td>38.0</td>\n",
       "      <td>0.61</td>\n",
       "      <td>18.47</td>\n",
       "      <td>154</td>\n",
       "    </tr>\n",
       "    <tr>\n",
       "      <th>1</th>\n",
       "      <td>1382345085</td>\n",
       "      <td>0.99</td>\n",
       "      <td>13586631</td>\n",
       "      <td>2973190</td>\n",
       "      <td>-532687.0</td>\n",
       "      <td>2.2</td>\n",
       "      <td>28.0</td>\n",
       "      <td>0.35</td>\n",
       "      <td>17.70</td>\n",
       "      <td>465</td>\n",
       "    </tr>\n",
       "    <tr>\n",
       "      <th>2</th>\n",
       "      <td>331341050</td>\n",
       "      <td>0.59</td>\n",
       "      <td>1937734</td>\n",
       "      <td>9147420</td>\n",
       "      <td>954806.0</td>\n",
       "      <td>1.8</td>\n",
       "      <td>38.0</td>\n",
       "      <td>0.83</td>\n",
       "      <td>4.25</td>\n",
       "      <td>37</td>\n",
       "    </tr>\n",
       "    <tr>\n",
       "      <th>3</th>\n",
       "      <td>274021604</td>\n",
       "      <td>1.07</td>\n",
       "      <td>2898047</td>\n",
       "      <td>1811570</td>\n",
       "      <td>-98955.0</td>\n",
       "      <td>2.3</td>\n",
       "      <td>30.0</td>\n",
       "      <td>0.56</td>\n",
       "      <td>3.51</td>\n",
       "      <td>152</td>\n",
       "    </tr>\n",
       "    <tr>\n",
       "      <th>4</th>\n",
       "      <td>221612785</td>\n",
       "      <td>2.00</td>\n",
       "      <td>4327022</td>\n",
       "      <td>770880</td>\n",
       "      <td>-233379.0</td>\n",
       "      <td>3.6</td>\n",
       "      <td>23.0</td>\n",
       "      <td>0.35</td>\n",
       "      <td>2.83</td>\n",
       "      <td>288</td>\n",
       "    </tr>\n",
       "  </tbody>\n",
       "</table>\n",
       "</div>\n",
       "      <button class=\"colab-df-convert\" onclick=\"convertToInteractive('df-2caa781a-c9df-4b11-9029-87b497ac2255')\"\n",
       "              title=\"Convert this dataframe to an interactive table.\"\n",
       "              style=\"display:none;\">\n",
       "        \n",
       "  <svg xmlns=\"http://www.w3.org/2000/svg\" height=\"24px\"viewBox=\"0 0 24 24\"\n",
       "       width=\"24px\">\n",
       "    <path d=\"M0 0h24v24H0V0z\" fill=\"none\"/>\n",
       "    <path d=\"M18.56 5.44l.94 2.06.94-2.06 2.06-.94-2.06-.94-.94-2.06-.94 2.06-2.06.94zm-11 1L8.5 8.5l.94-2.06 2.06-.94-2.06-.94L8.5 2.5l-.94 2.06-2.06.94zm10 10l.94 2.06.94-2.06 2.06-.94-2.06-.94-.94-2.06-.94 2.06-2.06.94z\"/><path d=\"M17.41 7.96l-1.37-1.37c-.4-.4-.92-.59-1.43-.59-.52 0-1.04.2-1.43.59L10.3 9.45l-7.72 7.72c-.78.78-.78 2.05 0 2.83L4 21.41c.39.39.9.59 1.41.59.51 0 1.02-.2 1.41-.59l7.78-7.78 2.81-2.81c.8-.78.8-2.07 0-2.86zM5.41 20L4 18.59l7.72-7.72 1.47 1.35L5.41 20z\"/>\n",
       "  </svg>\n",
       "      </button>\n",
       "      \n",
       "  <style>\n",
       "    .colab-df-container {\n",
       "      display:flex;\n",
       "      flex-wrap:wrap;\n",
       "      gap: 12px;\n",
       "    }\n",
       "\n",
       "    .colab-df-convert {\n",
       "      background-color: #E8F0FE;\n",
       "      border: none;\n",
       "      border-radius: 50%;\n",
       "      cursor: pointer;\n",
       "      display: none;\n",
       "      fill: #1967D2;\n",
       "      height: 32px;\n",
       "      padding: 0 0 0 0;\n",
       "      width: 32px;\n",
       "    }\n",
       "\n",
       "    .colab-df-convert:hover {\n",
       "      background-color: #E2EBFA;\n",
       "      box-shadow: 0px 1px 2px rgba(60, 64, 67, 0.3), 0px 1px 3px 1px rgba(60, 64, 67, 0.15);\n",
       "      fill: #174EA6;\n",
       "    }\n",
       "\n",
       "    [theme=dark] .colab-df-convert {\n",
       "      background-color: #3B4455;\n",
       "      fill: #D2E3FC;\n",
       "    }\n",
       "\n",
       "    [theme=dark] .colab-df-convert:hover {\n",
       "      background-color: #434B5C;\n",
       "      box-shadow: 0px 1px 3px 1px rgba(0, 0, 0, 0.15);\n",
       "      filter: drop-shadow(0px 1px 2px rgba(0, 0, 0, 0.3));\n",
       "      fill: #FFFFFF;\n",
       "    }\n",
       "  </style>\n",
       "\n",
       "      <script>\n",
       "        const buttonEl =\n",
       "          document.querySelector('#df-2caa781a-c9df-4b11-9029-87b497ac2255 button.colab-df-convert');\n",
       "        buttonEl.style.display =\n",
       "          google.colab.kernel.accessAllowed ? 'block' : 'none';\n",
       "\n",
       "        async function convertToInteractive(key) {\n",
       "          const element = document.querySelector('#df-2caa781a-c9df-4b11-9029-87b497ac2255');\n",
       "          const dataTable =\n",
       "            await google.colab.kernel.invokeFunction('convertToInteractive',\n",
       "                                                     [key], {});\n",
       "          if (!dataTable) return;\n",
       "\n",
       "          const docLinkHtml = 'Like what you see? Visit the ' +\n",
       "            '<a target=\"_blank\" href=https://colab.research.google.com/notebooks/data_table.ipynb>data table notebook</a>'\n",
       "            + ' to learn more about interactive tables.';\n",
       "          element.innerHTML = '';\n",
       "          dataTable['output_type'] = 'display_data';\n",
       "          await google.colab.output.renderOutput(dataTable, element);\n",
       "          const docLink = document.createElement('div');\n",
       "          docLink.innerHTML = docLinkHtml;\n",
       "          element.appendChild(docLink);\n",
       "        }\n",
       "      </script>\n",
       "    </div>\n",
       "  </div>\n",
       "  "
      ]
     },
     "metadata": {},
     "execution_count": 258
    }
   ]
  },
  {
   "cell_type": "markdown",
   "source": [
    "<font face=\"Vazir\" size=5><div dir=rtl>\n",
    "برای استفاده از دیتا در روش PCA ابتدا باید دیتا را نرمالیزه کنیم و سپس باقی گام‌ها را پیش ببریم."
   ],
   "metadata": {
    "id": "hlLtJqGbULWw"
   }
  },
  {
   "cell_type": "code",
   "source": [
    "from sklearn.preprocessing import StandardScaler\n",
    "normalized_df = StandardScaler().fit_transform(to_pca_data)"
   ],
   "metadata": {
    "id": "y4BPsCjLp8Dz"
   },
   "execution_count": 259,
   "outputs": []
  },
  {
   "cell_type": "code",
   "source": [
    "from sklearn.decomposition import PCA\n",
    "pca = PCA(n_components=10)\n",
    "principalComponents = pca.fit_transform(normalized_df)\n",
    "df_pca = pd.DataFrame(data = normalized_df)\n",
    "df_pca.head()"
   ],
   "metadata": {
    "colab": {
     "base_uri": "https://localhost:8080/",
     "height": 206
    },
    "id": "msYo5AT4-eas",
    "outputId": "99990fe6-03b0-4184-980f-dea68420ab86"
   },
   "execution_count": 260,
   "outputs": [
    {
     "output_type": "execute_result",
     "data": {
      "text/plain": [
       "          0         1          2         3         4         5         6  \\\n",
       "0  9.625569 -0.744482   4.241561  4.831794 -2.825858 -0.788656  0.812073   \n",
       "1  9.227479 -0.194643  10.890066  1.285293 -4.320587 -0.392943 -0.283842   \n",
       "2  2.007906 -0.561203   1.265092  4.698675  7.744221 -0.709514  0.812073   \n",
       "3  1.614166 -0.121331   2.058556  0.643099 -0.802659 -0.313800 -0.064659   \n",
       "4  1.254159  0.730920   3.239256  0.067760 -1.892949  0.715054 -0.831799   \n",
       "\n",
       "          7         8         9  \n",
       "0  0.066162  9.633592 -0.121372  \n",
       "1 -1.122813  9.220803  0.064866  \n",
       "2  1.072218  2.010391 -0.191436  \n",
       "3 -0.162487  1.613685 -0.122570  \n",
       "4 -1.122813  1.249144 -0.041128  "
      ],
      "text/html": [
       "\n",
       "  <div id=\"df-3891641d-f3bc-4a20-8102-386ae9503a7a\">\n",
       "    <div class=\"colab-df-container\">\n",
       "      <div>\n",
       "<style scoped>\n",
       "    .dataframe tbody tr th:only-of-type {\n",
       "        vertical-align: middle;\n",
       "    }\n",
       "\n",
       "    .dataframe tbody tr th {\n",
       "        vertical-align: top;\n",
       "    }\n",
       "\n",
       "    .dataframe thead th {\n",
       "        text-align: right;\n",
       "    }\n",
       "</style>\n",
       "<table border=\"1\" class=\"dataframe\">\n",
       "  <thead>\n",
       "    <tr style=\"text-align: right;\">\n",
       "      <th></th>\n",
       "      <th>0</th>\n",
       "      <th>1</th>\n",
       "      <th>2</th>\n",
       "      <th>3</th>\n",
       "      <th>4</th>\n",
       "      <th>5</th>\n",
       "      <th>6</th>\n",
       "      <th>7</th>\n",
       "      <th>8</th>\n",
       "      <th>9</th>\n",
       "    </tr>\n",
       "  </thead>\n",
       "  <tbody>\n",
       "    <tr>\n",
       "      <th>0</th>\n",
       "      <td>9.625569</td>\n",
       "      <td>-0.744482</td>\n",
       "      <td>4.241561</td>\n",
       "      <td>4.831794</td>\n",
       "      <td>-2.825858</td>\n",
       "      <td>-0.788656</td>\n",
       "      <td>0.812073</td>\n",
       "      <td>0.066162</td>\n",
       "      <td>9.633592</td>\n",
       "      <td>-0.121372</td>\n",
       "    </tr>\n",
       "    <tr>\n",
       "      <th>1</th>\n",
       "      <td>9.227479</td>\n",
       "      <td>-0.194643</td>\n",
       "      <td>10.890066</td>\n",
       "      <td>1.285293</td>\n",
       "      <td>-4.320587</td>\n",
       "      <td>-0.392943</td>\n",
       "      <td>-0.283842</td>\n",
       "      <td>-1.122813</td>\n",
       "      <td>9.220803</td>\n",
       "      <td>0.064866</td>\n",
       "    </tr>\n",
       "    <tr>\n",
       "      <th>2</th>\n",
       "      <td>2.007906</td>\n",
       "      <td>-0.561203</td>\n",
       "      <td>1.265092</td>\n",
       "      <td>4.698675</td>\n",
       "      <td>7.744221</td>\n",
       "      <td>-0.709514</td>\n",
       "      <td>0.812073</td>\n",
       "      <td>1.072218</td>\n",
       "      <td>2.010391</td>\n",
       "      <td>-0.191436</td>\n",
       "    </tr>\n",
       "    <tr>\n",
       "      <th>3</th>\n",
       "      <td>1.614166</td>\n",
       "      <td>-0.121331</td>\n",
       "      <td>2.058556</td>\n",
       "      <td>0.643099</td>\n",
       "      <td>-0.802659</td>\n",
       "      <td>-0.313800</td>\n",
       "      <td>-0.064659</td>\n",
       "      <td>-0.162487</td>\n",
       "      <td>1.613685</td>\n",
       "      <td>-0.122570</td>\n",
       "    </tr>\n",
       "    <tr>\n",
       "      <th>4</th>\n",
       "      <td>1.254159</td>\n",
       "      <td>0.730920</td>\n",
       "      <td>3.239256</td>\n",
       "      <td>0.067760</td>\n",
       "      <td>-1.892949</td>\n",
       "      <td>0.715054</td>\n",
       "      <td>-0.831799</td>\n",
       "      <td>-1.122813</td>\n",
       "      <td>1.249144</td>\n",
       "      <td>-0.041128</td>\n",
       "    </tr>\n",
       "  </tbody>\n",
       "</table>\n",
       "</div>\n",
       "      <button class=\"colab-df-convert\" onclick=\"convertToInteractive('df-3891641d-f3bc-4a20-8102-386ae9503a7a')\"\n",
       "              title=\"Convert this dataframe to an interactive table.\"\n",
       "              style=\"display:none;\">\n",
       "        \n",
       "  <svg xmlns=\"http://www.w3.org/2000/svg\" height=\"24px\"viewBox=\"0 0 24 24\"\n",
       "       width=\"24px\">\n",
       "    <path d=\"M0 0h24v24H0V0z\" fill=\"none\"/>\n",
       "    <path d=\"M18.56 5.44l.94 2.06.94-2.06 2.06-.94-2.06-.94-.94-2.06-.94 2.06-2.06.94zm-11 1L8.5 8.5l.94-2.06 2.06-.94-2.06-.94L8.5 2.5l-.94 2.06-2.06.94zm10 10l.94 2.06.94-2.06 2.06-.94-2.06-.94-.94-2.06-.94 2.06-2.06.94z\"/><path d=\"M17.41 7.96l-1.37-1.37c-.4-.4-.92-.59-1.43-.59-.52 0-1.04.2-1.43.59L10.3 9.45l-7.72 7.72c-.78.78-.78 2.05 0 2.83L4 21.41c.39.39.9.59 1.41.59.51 0 1.02-.2 1.41-.59l7.78-7.78 2.81-2.81c.8-.78.8-2.07 0-2.86zM5.41 20L4 18.59l7.72-7.72 1.47 1.35L5.41 20z\"/>\n",
       "  </svg>\n",
       "      </button>\n",
       "      \n",
       "  <style>\n",
       "    .colab-df-container {\n",
       "      display:flex;\n",
       "      flex-wrap:wrap;\n",
       "      gap: 12px;\n",
       "    }\n",
       "\n",
       "    .colab-df-convert {\n",
       "      background-color: #E8F0FE;\n",
       "      border: none;\n",
       "      border-radius: 50%;\n",
       "      cursor: pointer;\n",
       "      display: none;\n",
       "      fill: #1967D2;\n",
       "      height: 32px;\n",
       "      padding: 0 0 0 0;\n",
       "      width: 32px;\n",
       "    }\n",
       "\n",
       "    .colab-df-convert:hover {\n",
       "      background-color: #E2EBFA;\n",
       "      box-shadow: 0px 1px 2px rgba(60, 64, 67, 0.3), 0px 1px 3px 1px rgba(60, 64, 67, 0.15);\n",
       "      fill: #174EA6;\n",
       "    }\n",
       "\n",
       "    [theme=dark] .colab-df-convert {\n",
       "      background-color: #3B4455;\n",
       "      fill: #D2E3FC;\n",
       "    }\n",
       "\n",
       "    [theme=dark] .colab-df-convert:hover {\n",
       "      background-color: #434B5C;\n",
       "      box-shadow: 0px 1px 3px 1px rgba(0, 0, 0, 0.15);\n",
       "      filter: drop-shadow(0px 1px 2px rgba(0, 0, 0, 0.3));\n",
       "      fill: #FFFFFF;\n",
       "    }\n",
       "  </style>\n",
       "\n",
       "      <script>\n",
       "        const buttonEl =\n",
       "          document.querySelector('#df-3891641d-f3bc-4a20-8102-386ae9503a7a button.colab-df-convert');\n",
       "        buttonEl.style.display =\n",
       "          google.colab.kernel.accessAllowed ? 'block' : 'none';\n",
       "\n",
       "        async function convertToInteractive(key) {\n",
       "          const element = document.querySelector('#df-3891641d-f3bc-4a20-8102-386ae9503a7a');\n",
       "          const dataTable =\n",
       "            await google.colab.kernel.invokeFunction('convertToInteractive',\n",
       "                                                     [key], {});\n",
       "          if (!dataTable) return;\n",
       "\n",
       "          const docLinkHtml = 'Like what you see? Visit the ' +\n",
       "            '<a target=\"_blank\" href=https://colab.research.google.com/notebooks/data_table.ipynb>data table notebook</a>'\n",
       "            + ' to learn more about interactive tables.';\n",
       "          element.innerHTML = '';\n",
       "          dataTable['output_type'] = 'display_data';\n",
       "          await google.colab.output.renderOutput(dataTable, element);\n",
       "          const docLink = document.createElement('div');\n",
       "          docLink.innerHTML = docLinkHtml;\n",
       "          element.appendChild(docLink);\n",
       "        }\n",
       "      </script>\n",
       "    </div>\n",
       "  </div>\n",
       "  "
      ]
     },
     "metadata": {},
     "execution_count": 260
    }
   ]
  },
  {
   "cell_type": "markdown",
   "source": [
    "<font face=\"Vazir\" size=5><div dir=rtl>\n",
    "حالا می‌توانیم متوجه شویم که هر فیچر چه اطلاعاتی به ما می‌دهد و سپس فیچرهای مناسب را انتخاب کنیم."
   ],
   "metadata": {
    "id": "dSeq4ww7Ud0l"
   }
  },
  {
   "cell_type": "code",
   "source": [
    "from matplotlib.pyplot import figure\n",
    "\n",
    "figure(figsize=(12, 6))\n",
    "plt.plot(np.cumsum(pca.explained_variance_ratio_),lw=4)\n"
   ],
   "metadata": {
    "colab": {
     "base_uri": "https://localhost:8080/",
     "height": 391
    },
    "id": "6ATQdqWQB2MH",
    "outputId": "83b15855-2a79-46ff-a315-b5838d3cc6f9"
   },
   "execution_count": 261,
   "outputs": [
    {
     "output_type": "execute_result",
     "data": {
      "text/plain": [
       "[<matplotlib.lines.Line2D at 0x7f148aa19e10>]"
      ]
     },
     "metadata": {},
     "execution_count": 261
    },
    {
     "output_type": "display_data",
     "data": {
      "text/plain": [
       "<Figure size 864x432 with 1 Axes>"
      ],
      "image/png": "[encoded data removed]"
     },
     "metadata": {
      "needs_background": "light"
     }
    }
   ]
  },
  {
   "cell_type": "markdown",
   "source": [
    "<font face=\"Vazir\" size=10><div dir=ltr>\n",
    "## Mutual Information\n",
    "<font face=\"Vazir\" size=5><div dir=rtl>\n",
    "\n",
    "از این روش برای پیدا کردن ارتباط بین فیچرها و تاثیر آن‌ها بر هدف ما که نرخ باروری است، استفاده می‌کنیم."
   ],
   "metadata": {
    "id": "0el0SSk6VLBt"
   }
  },
  {
   "cell_type": "code",
   "source": [
    "num_to_str = dict(zip(df_pca.columns, to_pca_data.columns))\n",
    "num_to_str"
   ],
   "metadata": {
    "colab": {
     "base_uri": "https://localhost:8080/"
    },
    "id": "_B5VqLUzWFb-",
    "outputId": "5c8b80b7-8040-471b-cc53-484539bd8914"
   },
   "execution_count": 262,
   "outputs": [
    {
     "output_type": "execute_result",
     "data": {
      "text/plain": [
       "{0: 'population',\n",
       " 1: 'yearly_change',\n",
       " 2: 'net_change',\n",
       " 3: 'land_area',\n",
       " 4: 'migrants',\n",
       " 5: 'fert_rate',\n",
       " 6: 'med_age',\n",
       " 7: 'urban_pop',\n",
       " 8: 'world_share',\n",
       " 9: 'people_per_area'}"
      ]
     },
     "metadata": {},
     "execution_count": 262
    }
   ]
  },
  {
   "cell_type": "code",
   "source": [
    "target_column = to_pca_data.pop(\"fert_rate\")"
   ],
   "metadata": {
    "id": "5QeLZFP0B90A"
   },
   "execution_count": 263,
   "outputs": []
  },
  {
   "cell_type": "code",
   "source": [
    "from sklearn.feature_selection import SelectKBest, mutual_info_regression\n",
    "feature_selector = SelectKBest(score_func=mutual_info_regression, k = 'all').fit(df_pca,target_column)"
   ],
   "metadata": {
    "id": "wLC51nBmCZcN"
   },
   "execution_count": 264,
   "outputs": []
  },
  {
   "cell_type": "markdown",
   "source": [
    "<font face=\"Vazir\" size=5><div dir=rtl>\n",
    "رابطه بین نرخ باروری و عوامل: جمعیت، میانگین سنی و مهاجرپذیری"
   ],
   "metadata": {
    "id": "SRD-NDFJWubg"
   }
  },
  {
   "cell_type": "code",
   "source": [
    "plt.figure(figsize=(10,5))\n",
    "plt.subplot(3,1,1)\n",
    "plt.title(\"positive correlation between population & Net Change \")\n",
    "sns.regplot(x=\"fert_rate\", y= \"med_age\",data=data)\n",
    "\n",
    "plt.figure(figsize=(10,5))\n",
    "plt.subplot(3,1,1)\n",
    "plt.title(\"positive correlation between population & Land Area \")\n",
    "sns.regplot(x=\"fert_rate\", y= \"population\", data=data)\n",
    "\n",
    "plt.figure(figsize=(10,5))\n",
    "plt.subplot(3,1,1)\n",
    "plt.title(\"negative correlation between population & Migrants \")\n",
    "sns.regplot(x=\"fert_rate\", y= \"migrants\", data=data)"
   ],
   "metadata": {
    "colab": {
     "base_uri": "https://localhost:8080/",
     "height": 460
    },
    "id": "ZfuXY5ctRLCj",
    "outputId": "0448fa22-cab2-40bc-b2a9-8e15cadc80ad"
   },
   "execution_count": 265,
   "outputs": [
    {
     "output_type": "execute_result",
     "data": {
      "text/plain": [
       "<matplotlib.axes._subplots.AxesSubplot at 0x7f148a9b94d0>"
      ]
     },
     "metadata": {},
     "execution_count": 265
    },
    {
     "output_type": "display_data",
     "data": {
      "text/plain": [
       "<Figure size 720x360 with 1 Axes>"
      ],
      "image/png": "[encoded data removed]"
     },
     "metadata": {
      "needs_background": "light"
     }
    },
    {
     "output_type": "display_data",
     "data": {
      "text/plain": [
       "<Figure size 720x360 with 1 Axes>"
      ],
      "image/png": "[encoded data removed]"
     },
     "metadata": {
      "needs_background": "light"
     }
    },
    {
     "output_type": "display_data",
     "data": {
      "text/plain": [
       "<Figure size 720x360 with 1 Axes>"
      ],
      "image/png": "[encoded data removed]"
     },
     "metadata": {
      "needs_background": "light"
     }
    }
   ]
  },
  {
   "cell_type": "code",
   "source": [
    "feature_scores = pd.DataFrame({'Feature':num_to_str.values(),'Score':feature_selector.scores_})\n",
    "feature_scores.sort_values(by=['Score'],inplace=True)\n",
    "\n",
    "feature_scores[0:20].plot(x='Feature',y='Score',kind='barh',figsize=(16,8))"
   ],
   "metadata": {
    "colab": {
     "base_uri": "https://localhost:8080/",
     "height": 500
    },
    "id": "8DgEVj1QCw6l",
    "outputId": "1368a6c3-f247-4c2b-9ddd-7cc9a6633ad2"
   },
   "execution_count": 266,
   "outputs": [
    {
     "output_type": "execute_result",
     "data": {
      "text/plain": [
       "<matplotlib.axes._subplots.AxesSubplot at 0x7f148a8b7f90>"
      ]
     },
     "metadata": {},
     "execution_count": 266
    },
    {
     "output_type": "display_data",
     "data": {
      "text/plain": [
       "<Figure size 1152x576 with 1 Axes>"
      ],
      "image/png": "[encoded data removed]"
     },
     "metadata": {
      "needs_background": "light"
     }
    }
   ]
  },
  {
   "cell_type": "markdown",
   "source": [
    "<font face=\"Vazir\" size=10><div dir=ltr>\n",
    "## Counts and Aggregation\n",
    "<font face=\"Vazir\" size=5><div dir=rtl>\n",
    "\n",
    "در اینجا ما یک دیتاست دیگر که مشخص‌کننده قاره هرکشور است اضافه می‌کنیم و بر اساس آن ستون continent را به دیتا می‌افزاییم.\n",
    "سپس نمودار جمعیت هر قاره را به صورت pie chart رسم می‌کنیم.\n",
    "<br>\n",
    "نکته قابل توجه این است که برخی کشورها نام‌های متفاوتی در دو دیتاست دارند و به همین علت با یکدیگر مپ نمی‌شوند؛ لذا برخی از آن‌ها را به صورت دستی اصلاح می‌کنیم و نام قاره‌شان را می‌افزاییم و برای برخی دیگر کاری نمی‌کنیم (می‌تونیم بکنیم ولی.)"
   ],
   "metadata": {
    "id": "3xVOKBN2fC0F"
   }
  },
  {
   "cell_type": "code",
   "source": [
    "countries_by_continents = pd.read_csv('Countries by continents.csv')\n",
    "countries_by_continents.head()"
   ],
   "metadata": {
    "colab": {
     "base_uri": "https://localhost:8080/",
     "height": 206
    },
    "id": "7GghMc5naJi8",
    "outputId": "a8942aa3-eb47-4282-da33-8c86f9fe55f6"
   },
   "execution_count": 267,
   "outputs": [
    {
     "output_type": "execute_result",
     "data": {
      "text/plain": [
       "  Continent   Country\n",
       "0    Africa   Algeria\n",
       "1    Africa    Angola\n",
       "2    Africa     Benin\n",
       "3    Africa  Botswana\n",
       "4    Africa   Burkina"
      ],
      "text/html": [
       "\n",
       "  <div id=\"df-3884ff66-72a9-4ae5-a669-bbe7f1f3469e\">\n",
       "    <div class=\"colab-df-container\">\n",
       "      <div>\n",
       "<style scoped>\n",
       "    .dataframe tbody tr th:only-of-type {\n",
       "        vertical-align: middle;\n",
       "    }\n",
       "\n",
       "    .dataframe tbody tr th {\n",
       "        vertical-align: top;\n",
       "    }\n",
       "\n",
       "    .dataframe thead th {\n",
       "        text-align: right;\n",
       "    }\n",
       "</style>\n",
       "<table border=\"1\" class=\"dataframe\">\n",
       "  <thead>\n",
       "    <tr style=\"text-align: right;\">\n",
       "      <th></th>\n",
       "      <th>Continent</th>\n",
       "      <th>Country</th>\n",
       "    </tr>\n",
       "  </thead>\n",
       "  <tbody>\n",
       "    <tr>\n",
       "      <th>0</th>\n",
       "      <td>Africa</td>\n",
       "      <td>Algeria</td>\n",
       "    </tr>\n",
       "    <tr>\n",
       "      <th>1</th>\n",
       "      <td>Africa</td>\n",
       "      <td>Angola</td>\n",
       "    </tr>\n",
       "    <tr>\n",
       "      <th>2</th>\n",
       "      <td>Africa</td>\n",
       "      <td>Benin</td>\n",
       "    </tr>\n",
       "    <tr>\n",
       "      <th>3</th>\n",
       "      <td>Africa</td>\n",
       "      <td>Botswana</td>\n",
       "    </tr>\n",
       "    <tr>\n",
       "      <th>4</th>\n",
       "      <td>Africa</td>\n",
       "      <td>Burkina</td>\n",
       "    </tr>\n",
       "  </tbody>\n",
       "</table>\n",
       "</div>\n",
       "      <button class=\"colab-df-convert\" onclick=\"convertToInteractive('df-3884ff66-72a9-4ae5-a669-bbe7f1f3469e')\"\n",
       "              title=\"Convert this dataframe to an interactive table.\"\n",
       "              style=\"display:none;\">\n",
       "        \n",
       "  <svg xmlns=\"http://www.w3.org/2000/svg\" height=\"24px\"viewBox=\"0 0 24 24\"\n",
       "       width=\"24px\">\n",
       "    <path d=\"M0 0h24v24H0V0z\" fill=\"none\"/>\n",
       "    <path d=\"M18.56 5.44l.94 2.06.94-2.06 2.06-.94-2.06-.94-.94-2.06-.94 2.06-2.06.94zm-11 1L8.5 8.5l.94-2.06 2.06-.94-2.06-.94L8.5 2.5l-.94 2.06-2.06.94zm10 10l.94 2.06.94-2.06 2.06-.94-2.06-.94-.94-2.06-.94 2.06-2.06.94z\"/><path d=\"M17.41 7.96l-1.37-1.37c-.4-.4-.92-.59-1.43-.59-.52 0-1.04.2-1.43.59L10.3 9.45l-7.72 7.72c-.78.78-.78 2.05 0 2.83L4 21.41c.39.39.9.59 1.41.59.51 0 1.02-.2 1.41-.59l7.78-7.78 2.81-2.81c.8-.78.8-2.07 0-2.86zM5.41 20L4 18.59l7.72-7.72 1.47 1.35L5.41 20z\"/>\n",
       "  </svg>\n",
       "      </button>\n",
       "      \n",
       "  <style>\n",
       "    .colab-df-container {\n",
       "      display:flex;\n",
       "      flex-wrap:wrap;\n",
       "      gap: 12px;\n",
       "    }\n",
       "\n",
       "    .colab-df-convert {\n",
       "      background-color: #E8F0FE;\n",
       "      border: none;\n",
       "      border-radius: 50%;\n",
       "      cursor: pointer;\n",
       "      display: none;\n",
       "      fill: #1967D2;\n",
       "      height: 32px;\n",
       "      padding: 0 0 0 0;\n",
       "      width: 32px;\n",
       "    }\n",
       "\n",
       "    .colab-df-convert:hover {\n",
       "      background-color: #E2EBFA;\n",
       "      box-shadow: 0px 1px 2px rgba(60, 64, 67, 0.3), 0px 1px 3px 1px rgba(60, 64, 67, 0.15);\n",
       "      fill: #174EA6;\n",
       "    }\n",
       "\n",
       "    [theme=dark] .colab-df-convert {\n",
       "      background-color: #3B4455;\n",
       "      fill: #D2E3FC;\n",
       "    }\n",
       "\n",
       "    [theme=dark] .colab-df-convert:hover {\n",
       "      background-color: #434B5C;\n",
       "      box-shadow: 0px 1px 3px 1px rgba(0, 0, 0, 0.15);\n",
       "      filter: drop-shadow(0px 1px 2px rgba(0, 0, 0, 0.3));\n",
       "      fill: #FFFFFF;\n",
       "    }\n",
       "  </style>\n",
       "\n",
       "      <script>\n",
       "        const buttonEl =\n",
       "          document.querySelector('#df-3884ff66-72a9-4ae5-a669-bbe7f1f3469e button.colab-df-convert');\n",
       "        buttonEl.style.display =\n",
       "          google.colab.kernel.accessAllowed ? 'block' : 'none';\n",
       "\n",
       "        async function convertToInteractive(key) {\n",
       "          const element = document.querySelector('#df-3884ff66-72a9-4ae5-a669-bbe7f1f3469e');\n",
       "          const dataTable =\n",
       "            await google.colab.kernel.invokeFunction('convertToInteractive',\n",
       "                                                     [key], {});\n",
       "          if (!dataTable) return;\n",
       "\n",
       "          const docLinkHtml = 'Like what you see? Visit the ' +\n",
       "            '<a target=\"_blank\" href=https://colab.research.google.com/notebooks/data_table.ipynb>data table notebook</a>'\n",
       "            + ' to learn more about interactive tables.';\n",
       "          element.innerHTML = '';\n",
       "          dataTable['output_type'] = 'display_data';\n",
       "          await google.colab.output.renderOutput(dataTable, element);\n",
       "          const docLink = document.createElement('div');\n",
       "          docLink.innerHTML = docLinkHtml;\n",
       "          element.appendChild(docLink);\n",
       "        }\n",
       "      </script>\n",
       "    </div>\n",
       "  </div>\n",
       "  "
      ]
     },
     "metadata": {},
     "execution_count": 267
    }
   ]
  },
  {
   "cell_type": "code",
   "source": [
    "data.head()"
   ],
   "metadata": {
    "colab": {
     "base_uri": "https://localhost:8080/",
     "height": 287
    },
    "id": "peHn1xv3aRI3",
    "outputId": "47982b35-03ad-4a2b-a0b3-115d93c5abde"
   },
   "execution_count": 268,
   "outputs": [
    {
     "output_type": "execute_result",
     "data": {
      "text/plain": [
       "         country  population yearly_change  net_change  land_area  migrants  \\\n",
       "0          China  1440297825        0.39 %     5540090    9388211 -348399.0   \n",
       "1          India  1382345085        0.99 %    13586631    2973190 -532687.0   \n",
       "2  United States   331341050        0.59 %     1937734    9147420  954806.0   \n",
       "3      Indonesia   274021604        1.07 %     2898047    1811570  -98955.0   \n",
       "4       Pakistan   221612785        2.00 %     4327022     770880 -233379.0   \n",
       "\n",
       "   fert_rate  med_age  urban_pop world_share  people_per_area binned_age  \\\n",
       "0        1.7     38.0       0.61     18.47 %              154        mid   \n",
       "1        2.2     28.0       0.35     17.70 %              465        mid   \n",
       "2        1.8     38.0       0.83      4.25 %               37        mid   \n",
       "3        2.3     30.0       0.56      3.51 %              152        mid   \n",
       "4        3.6     23.0       0.35      2.83 %              288      young   \n",
       "\n",
       "   urban_pop_count  \n",
       "0        878581673  \n",
       "1        483820779  \n",
       "2        275013071  \n",
       "3        153452098  \n",
       "4         77564474  "
      ],
      "text/html": [
       "\n",
       "  <div id=\"df-9d8ad823-c1c0-4e99-bc0d-1ecf653ddb57\">\n",
       "    <div class=\"colab-df-container\">\n",
       "      <div>\n",
       "<style scoped>\n",
       "    .dataframe tbody tr th:only-of-type {\n",
       "        vertical-align: middle;\n",
       "    }\n",
       "\n",
       "    .dataframe tbody tr th {\n",
       "        vertical-align: top;\n",
       "    }\n",
       "\n",
       "    .dataframe thead th {\n",
       "        text-align: right;\n",
       "    }\n",
       "</style>\n",
       "<table border=\"1\" class=\"dataframe\">\n",
       "  <thead>\n",
       "    <tr style=\"text-align: right;\">\n",
       "      <th></th>\n",
       "      <th>country</th>\n",
       "      <th>population</th>\n",
       "      <th>yearly_change</th>\n",
       "      <th>net_change</th>\n",
       "      <th>land_area</th>\n",
       "      <th>migrants</th>\n",
       "      <th>fert_rate</th>\n",
       "      <th>med_age</th>\n",
       "      <th>urban_pop</th>\n",
       "      <th>world_share</th>\n",
       "      <th>people_per_area</th>\n",
       "      <th>binned_age</th>\n",
       "      <th>urban_pop_count</th>\n",
       "    </tr>\n",
       "  </thead>\n",
       "  <tbody>\n",
       "    <tr>\n",
       "      <th>0</th>\n",
       "      <td>China</td>\n",
       "      <td>1440297825</td>\n",
       "      <td>0.39 %</td>\n",
       "      <td>5540090</td>\n",
       "      <td>9388211</td>\n",
       "      <td>-348399.0</td>\n",
       "      <td>1.7</td>\n",
       "      <td>38.0</td>\n",
       "      <td>0.61</td>\n",
       "      <td>18.47 %</td>\n",
       "      <td>154</td>\n",
       "      <td>mid</td>\n",
       "      <td>878581673</td>\n",
       "    </tr>\n",
       "    <tr>\n",
       "      <th>1</th>\n",
       "      <td>India</td>\n",
       "      <td>1382345085</td>\n",
       "      <td>0.99 %</td>\n",
       "      <td>13586631</td>\n",
       "      <td>2973190</td>\n",
       "      <td>-532687.0</td>\n",
       "      <td>2.2</td>\n",
       "      <td>28.0</td>\n",
       "      <td>0.35</td>\n",
       "      <td>17.70 %</td>\n",
       "      <td>465</td>\n",
       "      <td>mid</td>\n",
       "      <td>483820779</td>\n",
       "    </tr>\n",
       "    <tr>\n",
       "      <th>2</th>\n",
       "      <td>United States</td>\n",
       "      <td>331341050</td>\n",
       "      <td>0.59 %</td>\n",
       "      <td>1937734</td>\n",
       "      <td>9147420</td>\n",
       "      <td>954806.0</td>\n",
       "      <td>1.8</td>\n",
       "      <td>38.0</td>\n",
       "      <td>0.83</td>\n",
       "      <td>4.25 %</td>\n",
       "      <td>37</td>\n",
       "      <td>mid</td>\n",
       "      <td>275013071</td>\n",
       "    </tr>\n",
       "    <tr>\n",
       "      <th>3</th>\n",
       "      <td>Indonesia</td>\n",
       "      <td>274021604</td>\n",
       "      <td>1.07 %</td>\n",
       "      <td>2898047</td>\n",
       "      <td>1811570</td>\n",
       "      <td>-98955.0</td>\n",
       "      <td>2.3</td>\n",
       "      <td>30.0</td>\n",
       "      <td>0.56</td>\n",
       "      <td>3.51 %</td>\n",
       "      <td>152</td>\n",
       "      <td>mid</td>\n",
       "      <td>153452098</td>\n",
       "    </tr>\n",
       "    <tr>\n",
       "      <th>4</th>\n",
       "      <td>Pakistan</td>\n",
       "      <td>221612785</td>\n",
       "      <td>2.00 %</td>\n",
       "      <td>4327022</td>\n",
       "      <td>770880</td>\n",
       "      <td>-233379.0</td>\n",
       "      <td>3.6</td>\n",
       "      <td>23.0</td>\n",
       "      <td>0.35</td>\n",
       "      <td>2.83 %</td>\n",
       "      <td>288</td>\n",
       "      <td>young</td>\n",
       "      <td>77564474</td>\n",
       "    </tr>\n",
       "  </tbody>\n",
       "</table>\n",
       "</div>\n",
       "      <button class=\"colab-df-convert\" onclick=\"convertToInteractive('df-9d8ad823-c1c0-4e99-bc0d-1ecf653ddb57')\"\n",
       "              title=\"Convert this dataframe to an interactive table.\"\n",
       "              style=\"display:none;\">\n",
       "        \n",
       "  <svg xmlns=\"http://www.w3.org/2000/svg\" height=\"24px\"viewBox=\"0 0 24 24\"\n",
       "       width=\"24px\">\n",
       "    <path d=\"M0 0h24v24H0V0z\" fill=\"none\"/>\n",
       "    <path d=\"M18.56 5.44l.94 2.06.94-2.06 2.06-.94-2.06-.94-.94-2.06-.94 2.06-2.06.94zm-11 1L8.5 8.5l.94-2.06 2.06-.94-2.06-.94L8.5 2.5l-.94 2.06-2.06.94zm10 10l.94 2.06.94-2.06 2.06-.94-2.06-.94-.94-2.06-.94 2.06-2.06.94z\"/><path d=\"M17.41 7.96l-1.37-1.37c-.4-.4-.92-.59-1.43-.59-.52 0-1.04.2-1.43.59L10.3 9.45l-7.72 7.72c-.78.78-.78 2.05 0 2.83L4 21.41c.39.39.9.59 1.41.59.51 0 1.02-.2 1.41-.59l7.78-7.78 2.81-2.81c.8-.78.8-2.07 0-2.86zM5.41 20L4 18.59l7.72-7.72 1.47 1.35L5.41 20z\"/>\n",
       "  </svg>\n",
       "      </button>\n",
       "      \n",
       "  <style>\n",
       "    .colab-df-container {\n",
       "      display:flex;\n",
       "      flex-wrap:wrap;\n",
       "      gap: 12px;\n",
       "    }\n",
       "\n",
       "    .colab-df-convert {\n",
       "      background-color: #E8F0FE;\n",
       "      border: none;\n",
       "      border-radius: 50%;\n",
       "      cursor: pointer;\n",
       "      display: none;\n",
       "      fill: #1967D2;\n",
       "      height: 32px;\n",
       "      padding: 0 0 0 0;\n",
       "      width: 32px;\n",
       "    }\n",
       "\n",
       "    .colab-df-convert:hover {\n",
       "      background-color: #E2EBFA;\n",
       "      box-shadow: 0px 1px 2px rgba(60, 64, 67, 0.3), 0px 1px 3px 1px rgba(60, 64, 67, 0.15);\n",
       "      fill: #174EA6;\n",
       "    }\n",
       "\n",
       "    [theme=dark] .colab-df-convert {\n",
       "      background-color: #3B4455;\n",
       "      fill: #D2E3FC;\n",
       "    }\n",
       "\n",
       "    [theme=dark] .colab-df-convert:hover {\n",
       "      background-color: #434B5C;\n",
       "      box-shadow: 0px 1px 3px 1px rgba(0, 0, 0, 0.15);\n",
       "      filter: drop-shadow(0px 1px 2px rgba(0, 0, 0, 0.3));\n",
       "      fill: #FFFFFF;\n",
       "    }\n",
       "  </style>\n",
       "\n",
       "      <script>\n",
       "        const buttonEl =\n",
       "          document.querySelector('#df-9d8ad823-c1c0-4e99-bc0d-1ecf653ddb57 button.colab-df-convert');\n",
       "        buttonEl.style.display =\n",
       "          google.colab.kernel.accessAllowed ? 'block' : 'none';\n",
       "\n",
       "        async function convertToInteractive(key) {\n",
       "          const element = document.querySelector('#df-9d8ad823-c1c0-4e99-bc0d-1ecf653ddb57');\n",
       "          const dataTable =\n",
       "            await google.colab.kernel.invokeFunction('convertToInteractive',\n",
       "                                                     [key], {});\n",
       "          if (!dataTable) return;\n",
       "\n",
       "          const docLinkHtml = 'Like what you see? Visit the ' +\n",
       "            '<a target=\"_blank\" href=https://colab.research.google.com/notebooks/data_table.ipynb>data table notebook</a>'\n",
       "            + ' to learn more about interactive tables.';\n",
       "          element.innerHTML = '';\n",
       "          dataTable['output_type'] = 'display_data';\n",
       "          await google.colab.output.renderOutput(dataTable, element);\n",
       "          const docLink = document.createElement('div');\n",
       "          docLink.innerHTML = docLinkHtml;\n",
       "          element.appendChild(docLink);\n",
       "        }\n",
       "      </script>\n",
       "    </div>\n",
       "  </div>\n",
       "  "
      ]
     },
     "metadata": {},
     "execution_count": 268
    }
   ]
  },
  {
   "cell_type": "code",
   "source": [
    "continents_dict = {}\n",
    "continents_dict = dict(zip(countries_by_continents['Country'], countries_by_continents['Continent']))"
   ],
   "metadata": {
    "id": "MCAqFY6Lb3u7"
   },
   "execution_count": 269,
   "outputs": []
  },
  {
   "cell_type": "code",
   "source": [
    "list(set(continents_dict.values()))"
   ],
   "metadata": {
    "colab": {
     "base_uri": "https://localhost:8080/"
    },
    "id": "QUpJcOrHcWuS",
    "outputId": "90110203-9757-43c2-e386-2cfbc8be9552"
   },
   "execution_count": 278,
   "outputs": [
    {
     "output_type": "execute_result",
     "data": {
      "text/plain": [
       "['South America', 'Oceania', 'Asia', 'Europe', 'Africa', 'North America']"
      ]
     },
     "metadata": {},
     "execution_count": 278
    }
   ]
  },
  {
   "cell_type": "code",
   "source": [
    "data.insert(1, 'continent', '')"
   ],
   "metadata": {
    "id": "w7HzfPjIbl-r"
   },
   "execution_count": 270,
   "outputs": []
  },
  {
   "cell_type": "code",
   "source": [
    "for i in range(len(data)):\n",
    "  if data.loc[i, 'country'] in continents_dict.keys():\n",
    "    data.loc[i, 'continent'] = continents_dict[data.loc[i, 'country']]\n",
    "  else:\n",
    "    print(i, data.loc[i, 'country'])"
   ],
   "metadata": {
    "colab": {
     "base_uri": "https://localhost:8080/"
    },
    "id": "VZpesQydaUQ5",
    "outputId": "a5c3b533-7cae-4d40-bcb9-55ff8040a887"
   },
   "execution_count": 276,
   "outputs": [
    {
     "output_type": "stream",
     "name": "stdout",
     "text": [
      "15 DR Congo\n",
      "25 Myanmar\n",
      "52 Côte d'Ivoire\n",
      "58 Burkina Faso\n",
      "85 Czech Republic (Czechia)\n",
      "120 State of Palestine\n",
      "140 Puerto Rico\n",
      "147 North Macedonia\n",
      "155 Timor-Leste\n",
      "158 Eswatini\n",
      "161 Réunion\n",
      "166 Macao\n",
      "169 Western Sahara\n",
      "171 Cabo Verde\n",
      "175 Guadeloupe\n",
      "178 Martinique\n",
      "181 French Guiana\n",
      "183 New Caledonia\n",
      "184 French Polynesia\n",
      "185 Mayotte\n",
      "186 Sao Tome & Principe\n",
      "189 Channel Islands\n",
      "190 Guam\n",
      "191 Curaçao\n",
      "195 St. Vincent & Grenadines\n",
      "196 Aruba\n",
      "198 U.S. Virgin Islands\n",
      "201 Isle of Man\n",
      "204 Cayman Islands\n",
      "205 Bermuda\n",
      "207 Northern Mariana Islands\n",
      "208 Greenland\n",
      "209 American Samoa\n",
      "210 Saint Kitts & Nevis\n",
      "211 Faeroe Islands\n",
      "212 Sint Maarten\n",
      "214 Turks and Caicos\n",
      "215 Saint Martin\n",
      "218 Gibraltar\n",
      "219 British Virgin Islands\n",
      "220 Caribbean Netherlands\n",
      "222 Cook Islands\n",
      "223 Anguilla\n",
      "225 Wallis & Futuna\n",
      "227 Saint Barthelemy\n",
      "228 Saint Helena\n",
      "229 Saint Pierre & Miquelon\n",
      "230 Montserrat\n",
      "231 Falkland Islands\n",
      "232 Niue\n",
      "233 Tokelau\n",
      "234 Holy See\n"
     ]
    }
   ]
  },
  {
   "cell_type": "code",
   "source": [
    "data.loc[15, 'continent'] = 'Africa'\n",
    "data.loc[58, 'continent'] = 'Africa'\n",
    "data.loc[85, 'continent'] = 'Europe'\n",
    "data.loc[201, 'continent'] = 'Europe'\n",
    "data.loc[198, 'continent'] = 'North America'\n",
    "data.loc[208, 'continent'] = 'North America'\n",
    "data.loc[181, 'continent'] = 'South America'\n",
    "data.loc[120, 'continent'] = 'Asia'"
   ],
   "metadata": {
    "id": "t0rGg_bic1Fz"
   },
   "execution_count": 279,
   "outputs": []
  },
  {
   "cell_type": "code",
   "source": [
    "x = data['population'].aggregate([\"sum\"])\n",
    "print('whole world population: ', x)"
   ],
   "metadata": {
    "id": "vOGHXnYeKVvL",
    "colab": {
     "base_uri": "https://localhost:8080/"
    },
    "outputId": "562cb477-e0ad-470b-aa31-c5b633cd2358"
   },
   "execution_count": 211,
   "outputs": [
    {
     "output_type": "stream",
     "name": "stdout",
     "text": [
      "whole world population:  sum    7808449406\n",
      "Name: population, dtype: int64\n"
     ]
    }
   ]
  },
  {
   "cell_type": "code",
   "source": [
    "colors = ['pink', 'silver', 'steelblue', 'lightgreen', 'yellow', 'orange']\n",
    "\n",
    "data.groupby(['continent']).sum()['population'].plot(kind='pie', y='med_age', \n",
    "                                        autopct='%1.0f%%', colors=colors)"
   ],
   "metadata": {
    "colab": {
     "base_uri": "https://localhost:8080/",
     "height": 265
    },
    "id": "jcp3AxjRZKdq",
    "outputId": "fb8c83c6-ccca-4518-9070-34fbe4a43d14"
   },
   "execution_count": 284,
   "outputs": [
    {
     "output_type": "execute_result",
     "data": {
      "text/plain": [
       "<matplotlib.axes._subplots.AxesSubplot at 0x7f1489affa50>"
      ]
     },
     "metadata": {},
     "execution_count": 284
    },
    {
     "output_type": "display_data",
     "data": {
      "text/plain": [
       "<Figure size 432x288 with 1 Axes>"
      ],
      "image/png": "[encoded data removed]"
     },
     "metadata": {}
    }
   ]
  },
  {
   "cell_type": "code",
   "source": [],
   "metadata": {
    "id": "3BQWeESFetgE"
   },
   "execution_count": null,
   "outputs": []
  }
 ]
}